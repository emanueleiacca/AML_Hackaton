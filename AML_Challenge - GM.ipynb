{
 "cells": [
  {
   "cell_type": "markdown",
   "metadata": {
    "id": "oqe1DRi5rxZw"
   },
   "source": [
    "# Experiment 1"
   ]
  },
  {
   "cell_type": "code",
   "execution_count": 3,
   "metadata": {
    "colab": {
     "base_uri": "https://localhost:8080/"
    },
    "executionInfo": {
     "elapsed": 1953,
     "status": "ok",
     "timestamp": 1761672744362,
     "user": {
      "displayName": "ghulam mujtaba",
      "userId": "00646622876627477130"
     },
     "user_tz": -60
    },
    "id": "1v3CBSFFtaYu",
    "outputId": "dc03c263-1014-4e2f-ac88-544a459a1560"
   },
   "outputs": [
    {
     "name": "stdout",
     "output_type": "stream",
     "text": [
      "Drive already mounted at /content/drive; to attempt to forcibly remount, call drive.mount(\"/content/drive\", force_remount=True).\n"
     ]
    }
   ],
   "source": [
    "from google.colab import drive\n",
    "drive.mount('/content/drive')\n"
   ]
  },
  {
   "cell_type": "code",
   "execution_count": 4,
   "metadata": {
    "colab": {
     "base_uri": "https://localhost:8080/"
    },
    "executionInfo": {
     "elapsed": 5,
     "status": "ok",
     "timestamp": 1761672745981,
     "user": {
      "displayName": "ghulam mujtaba",
      "userId": "00646622876627477130"
     },
     "user_tz": -60
    },
    "id": "_qdYUlp7t6Ue",
    "outputId": "ecd75a26-ed14-45ef-be65-71be1c8824d3"
   },
   "outputs": [
    {
     "name": "stdout",
     "output_type": "stream",
     "text": [
      "Current working directory: /content/drive/MyDrive/AML Challenge\n"
     ]
    }
   ],
   "source": [
    "import os\n",
    "\n",
    "BASE_DIR = \"/content/drive/MyDrive/AML Challenge\"\n",
    "os.chdir(BASE_DIR)\n",
    "print(\"Current working directory:\", os.getcwd())\n"
   ]
  },
  {
   "cell_type": "code",
   "execution_count": null,
   "metadata": {
    "colab": {
     "background_save": true,
     "base_uri": "https://localhost:8080/"
    },
    "executionInfo": {
     "elapsed": 7732,
     "status": "ok",
     "timestamp": 1761418943988,
     "user": {
      "displayName": "ghulam mujtaba",
      "userId": "00646622876627477130"
     },
     "user_tz": -120
    },
    "id": "qivDkBEvva__",
    "outputId": "025741c1-2325-4dff-8b88-4dc66130fbac"
   },
   "outputs": [
    {
     "name": "stdout",
     "output_type": "stream",
     "text": [
      "\u001b[2K   \u001b[90m━━━━━━━━━━━━━━━━━━━━━━━━━━━━━━━━━━━━━━━━\u001b[0m \u001b[32m31.4/31.4 MB\u001b[0m \u001b[31m20.0 MB/s\u001b[0m eta \u001b[36m0:00:00\u001b[0m\n",
      "\u001b[?25h"
     ]
    }
   ],
   "source": [
    "!pip -q install torch torchvision torchaudio\n",
    "!pip -q install faiss-cpu numpy pandas scikit-learn matplotlib tqdm\n"
   ]
  },
  {
   "cell_type": "code",
   "execution_count": null,
   "metadata": {
    "colab": {
     "base_uri": "https://localhost:8080/"
    },
    "executionInfo": {
     "elapsed": 5051,
     "status": "ok",
     "timestamp": 1761595202523,
     "user": {
      "displayName": "ghulam mujtaba",
      "userId": "00646622876627477130"
     },
     "user_tz": -60
    },
    "id": "wBPGF8TawCQa",
    "outputId": "376e9ffe-546a-4764-9fec-5b33dd5b0d58"
   },
   "outputs": [
    {
     "name": "stdout",
     "output_type": "stream",
     "text": [
      "(125000, 1024) (25000, 1536) (1500, 1024)\n",
      "Expanded image embeddings: (125000, 1536)\n"
     ]
    }
   ],
   "source": [
    "# ======================================================\n",
    "#   STEP 1: Setup and data loading\n",
    "# ======================================================\n",
    "import numpy as np, torch, torch.nn as nn, torch.nn.functional as F\n",
    "from torch.utils.data import Dataset, DataLoader\n",
    "from tqdm import tqdm\n",
    "import os\n",
    "\n",
    "train_data = np.load(\"train.npz\")\n",
    "test_data  = np.load(\"test.clean.npz\")\n",
    "\n",
    "tx_train = train_data[\"captions/embeddings\"]   # (125000, 1024)\n",
    "im_train = train_data[\"images/embeddings\"]     # (25000, 1536)\n",
    "tx_test  = test_data[\"captions/embeddings\"]    # (1500, 1024)\n",
    "\n",
    "print(tx_train.shape, im_train.shape, tx_test.shape)\n",
    "\n",
    "# match 1 caption → 1 image\n",
    "# every 5 captions share the same image index\n",
    "repeat_factor = len(tx_train) // len(im_train)    # 5\n",
    "im_train_expanded = np.repeat(im_train, repeat_factor, axis=0)\n",
    "print(\"Expanded image embeddings:\", im_train_expanded.shape)\n",
    "\n",
    "\n"
   ]
  },
  {
   "cell_type": "code",
   "execution_count": null,
   "metadata": {
    "id": "jzuTZA9qeMRw"
   },
   "outputs": [],
   "source": [
    "# ======================================================\n",
    "#   STEP 2: Dataset + model\n",
    "# ======================================================\n",
    "device = torch.device(\"cuda\" if torch.cuda.is_available() else \"cpu\")\n",
    "\n",
    "class PairDataset(Dataset):\n",
    "    def __init__(self, x, y):\n",
    "        self.x = torch.from_numpy(x).float()\n",
    "        self.y = torch.from_numpy(y).float()\n",
    "    def __len__(self): return len(self.x)\n",
    "    def __getitem__(self, i): return self.x[i], self.y[i]\n",
    "\n",
    "train_ds = PairDataset(tx_train, im_train_expanded)\n",
    "train_dl = DataLoader(train_ds, batch_size=1024, shuffle=True)\n",
    "\n",
    "d_text, d_image = tx_train.shape[1], im_train.shape[1]\n",
    "\n",
    "class Translator(nn.Module):\n",
    "    def __init__(self, d_in, d_out):\n",
    "        super().__init__()\n",
    "        self.net = nn.Sequential(\n",
    "            nn.Linear(d_in, 2048),\n",
    "            nn.ReLU(),\n",
    "            nn.Linear(2048, d_out)\n",
    "        )\n",
    "    def forward(self, x):\n",
    "        return self.net(x)\n",
    "\n",
    "model = Translator(d_text, d_image).to(device)\n",
    "opt = torch.optim.AdamW(model.parameters(), lr=1e-3, weight_decay=1e-4)\n"
   ]
  },
  {
   "cell_type": "code",
   "execution_count": null,
   "metadata": {
    "colab": {
     "base_uri": "https://localhost:8080/"
    },
    "executionInfo": {
     "elapsed": 68689,
     "status": "ok",
     "timestamp": 1761432542329,
     "user": {
      "displayName": "ghulam mujtaba",
      "userId": "00646622876627477130"
     },
     "user_tz": -120
    },
    "id": "DxViy8flePvc",
    "outputId": "74f7c2f6-3035-4cfc-a94f-63f161e3949b"
   },
   "outputs": [
    {
     "name": "stderr",
     "output_type": "stream",
     "text": [
      "Epoch 1/30: 100%|██████████| 123/123 [00:02<00:00, 50.72it/s]\n"
     ]
    },
    {
     "name": "stdout",
     "output_type": "stream",
     "text": [
      "Epoch 1: loss=0.1461\n"
     ]
    },
    {
     "name": "stderr",
     "output_type": "stream",
     "text": [
      "Epoch 2/30: 100%|██████████| 123/123 [00:02<00:00, 57.61it/s]\n"
     ]
    },
    {
     "name": "stdout",
     "output_type": "stream",
     "text": [
      "Epoch 2: loss=0.1448\n"
     ]
    },
    {
     "name": "stderr",
     "output_type": "stream",
     "text": [
      "Epoch 3/30: 100%|██████████| 123/123 [00:02<00:00, 57.58it/s]\n"
     ]
    },
    {
     "name": "stdout",
     "output_type": "stream",
     "text": [
      "Epoch 3: loss=0.1436\n"
     ]
    },
    {
     "name": "stderr",
     "output_type": "stream",
     "text": [
      "Epoch 4/30: 100%|██████████| 123/123 [00:02<00:00, 51.52it/s]\n"
     ]
    },
    {
     "name": "stdout",
     "output_type": "stream",
     "text": [
      "Epoch 4: loss=0.1424\n"
     ]
    },
    {
     "name": "stderr",
     "output_type": "stream",
     "text": [
      "Epoch 5/30: 100%|██████████| 123/123 [00:02<00:00, 52.02it/s]\n"
     ]
    },
    {
     "name": "stdout",
     "output_type": "stream",
     "text": [
      "Epoch 5: loss=0.1413\n"
     ]
    },
    {
     "name": "stderr",
     "output_type": "stream",
     "text": [
      "Epoch 6/30: 100%|██████████| 123/123 [00:02<00:00, 60.95it/s]\n"
     ]
    },
    {
     "name": "stdout",
     "output_type": "stream",
     "text": [
      "Epoch 6: loss=0.1401\n"
     ]
    },
    {
     "name": "stderr",
     "output_type": "stream",
     "text": [
      "Epoch 7/30: 100%|██████████| 123/123 [00:02<00:00, 56.82it/s]\n"
     ]
    },
    {
     "name": "stdout",
     "output_type": "stream",
     "text": [
      "Epoch 7: loss=0.1391\n"
     ]
    },
    {
     "name": "stderr",
     "output_type": "stream",
     "text": [
      "Epoch 8/30: 100%|██████████| 123/123 [00:02<00:00, 60.57it/s]\n"
     ]
    },
    {
     "name": "stdout",
     "output_type": "stream",
     "text": [
      "Epoch 8: loss=0.1382\n"
     ]
    },
    {
     "name": "stderr",
     "output_type": "stream",
     "text": [
      "Epoch 9/30: 100%|██████████| 123/123 [00:02<00:00, 61.42it/s]\n"
     ]
    },
    {
     "name": "stdout",
     "output_type": "stream",
     "text": [
      "Epoch 9: loss=0.1372\n"
     ]
    },
    {
     "name": "stderr",
     "output_type": "stream",
     "text": [
      "Epoch 10/30: 100%|██████████| 123/123 [00:02<00:00, 51.05it/s]\n"
     ]
    },
    {
     "name": "stdout",
     "output_type": "stream",
     "text": [
      "Epoch 10: loss=0.1364\n"
     ]
    },
    {
     "name": "stderr",
     "output_type": "stream",
     "text": [
      "Epoch 11/30: 100%|██████████| 123/123 [00:02<00:00, 46.68it/s]\n"
     ]
    },
    {
     "name": "stdout",
     "output_type": "stream",
     "text": [
      "Epoch 11: loss=0.1355\n"
     ]
    },
    {
     "name": "stderr",
     "output_type": "stream",
     "text": [
      "Epoch 12/30: 100%|██████████| 123/123 [00:02<00:00, 47.08it/s]\n"
     ]
    },
    {
     "name": "stdout",
     "output_type": "stream",
     "text": [
      "Epoch 12: loss=0.1347\n"
     ]
    },
    {
     "name": "stderr",
     "output_type": "stream",
     "text": [
      "Epoch 13/30: 100%|██████████| 123/123 [00:02<00:00, 56.89it/s]\n"
     ]
    },
    {
     "name": "stdout",
     "output_type": "stream",
     "text": [
      "Epoch 13: loss=0.1339\n"
     ]
    },
    {
     "name": "stderr",
     "output_type": "stream",
     "text": [
      "Epoch 14/30: 100%|██████████| 123/123 [00:02<00:00, 56.73it/s]\n"
     ]
    },
    {
     "name": "stdout",
     "output_type": "stream",
     "text": [
      "Epoch 14: loss=0.1332\n"
     ]
    },
    {
     "name": "stderr",
     "output_type": "stream",
     "text": [
      "Epoch 15/30: 100%|██████████| 123/123 [00:02<00:00, 55.51it/s]\n"
     ]
    },
    {
     "name": "stdout",
     "output_type": "stream",
     "text": [
      "Epoch 15: loss=0.1324\n"
     ]
    },
    {
     "name": "stderr",
     "output_type": "stream",
     "text": [
      "Epoch 16/30: 100%|██████████| 123/123 [00:02<00:00, 46.56it/s]\n"
     ]
    },
    {
     "name": "stdout",
     "output_type": "stream",
     "text": [
      "Epoch 16: loss=0.1318\n"
     ]
    },
    {
     "name": "stderr",
     "output_type": "stream",
     "text": [
      "Epoch 17/30: 100%|██████████| 123/123 [00:02<00:00, 55.32it/s]\n"
     ]
    },
    {
     "name": "stdout",
     "output_type": "stream",
     "text": [
      "Epoch 17: loss=0.1311\n"
     ]
    },
    {
     "name": "stderr",
     "output_type": "stream",
     "text": [
      "Epoch 18/30: 100%|██████████| 123/123 [00:02<00:00, 53.41it/s]\n"
     ]
    },
    {
     "name": "stdout",
     "output_type": "stream",
     "text": [
      "Epoch 18: loss=0.1304\n"
     ]
    },
    {
     "name": "stderr",
     "output_type": "stream",
     "text": [
      "Epoch 19/30: 100%|██████████| 123/123 [00:02<00:00, 56.89it/s]\n"
     ]
    },
    {
     "name": "stdout",
     "output_type": "stream",
     "text": [
      "Epoch 19: loss=0.1298\n"
     ]
    },
    {
     "name": "stderr",
     "output_type": "stream",
     "text": [
      "Epoch 20/30: 100%|██████████| 123/123 [00:02<00:00, 55.98it/s]\n"
     ]
    },
    {
     "name": "stdout",
     "output_type": "stream",
     "text": [
      "Epoch 20: loss=0.1293\n"
     ]
    },
    {
     "name": "stderr",
     "output_type": "stream",
     "text": [
      "Epoch 21/30: 100%|██████████| 123/123 [00:02<00:00, 48.88it/s]\n"
     ]
    },
    {
     "name": "stdout",
     "output_type": "stream",
     "text": [
      "Epoch 21: loss=0.1287\n"
     ]
    },
    {
     "name": "stderr",
     "output_type": "stream",
     "text": [
      "Epoch 22/30: 100%|██████████| 123/123 [00:02<00:00, 49.30it/s]\n"
     ]
    },
    {
     "name": "stdout",
     "output_type": "stream",
     "text": [
      "Epoch 22: loss=0.1281\n"
     ]
    },
    {
     "name": "stderr",
     "output_type": "stream",
     "text": [
      "Epoch 23/30: 100%|██████████| 123/123 [00:02<00:00, 57.07it/s]\n"
     ]
    },
    {
     "name": "stdout",
     "output_type": "stream",
     "text": [
      "Epoch 23: loss=0.1276\n"
     ]
    },
    {
     "name": "stderr",
     "output_type": "stream",
     "text": [
      "Epoch 24/30: 100%|██████████| 123/123 [00:02<00:00, 53.70it/s]\n"
     ]
    },
    {
     "name": "stdout",
     "output_type": "stream",
     "text": [
      "Epoch 24: loss=0.1271\n"
     ]
    },
    {
     "name": "stderr",
     "output_type": "stream",
     "text": [
      "Epoch 25/30: 100%|██████████| 123/123 [00:02<00:00, 56.24it/s]\n"
     ]
    },
    {
     "name": "stdout",
     "output_type": "stream",
     "text": [
      "Epoch 25: loss=0.1265\n"
     ]
    },
    {
     "name": "stderr",
     "output_type": "stream",
     "text": [
      "Epoch 26/30: 100%|██████████| 123/123 [00:02<00:00, 57.06it/s]\n"
     ]
    },
    {
     "name": "stdout",
     "output_type": "stream",
     "text": [
      "Epoch 26: loss=0.1261\n"
     ]
    },
    {
     "name": "stderr",
     "output_type": "stream",
     "text": [
      "Epoch 27/30: 100%|██████████| 123/123 [00:02<00:00, 48.51it/s]\n"
     ]
    },
    {
     "name": "stdout",
     "output_type": "stream",
     "text": [
      "Epoch 27: loss=0.1256\n"
     ]
    },
    {
     "name": "stderr",
     "output_type": "stream",
     "text": [
      "Epoch 28/30: 100%|██████████| 123/123 [00:02<00:00, 53.02it/s]\n"
     ]
    },
    {
     "name": "stdout",
     "output_type": "stream",
     "text": [
      "Epoch 28: loss=0.1251\n"
     ]
    },
    {
     "name": "stderr",
     "output_type": "stream",
     "text": [
      "Epoch 29/30: 100%|██████████| 123/123 [00:02<00:00, 57.13it/s]\n"
     ]
    },
    {
     "name": "stdout",
     "output_type": "stream",
     "text": [
      "Epoch 29: loss=0.1248\n"
     ]
    },
    {
     "name": "stderr",
     "output_type": "stream",
     "text": [
      "Epoch 30/30: 100%|██████████| 123/123 [00:02<00:00, 52.45it/s]"
     ]
    },
    {
     "name": "stdout",
     "output_type": "stream",
     "text": [
      "Epoch 30: loss=0.1244\n"
     ]
    },
    {
     "name": "stderr",
     "output_type": "stream",
     "text": [
      "\n"
     ]
    }
   ],
   "source": [
    "# ======================================================\n",
    "#   STEP 3: Training loop (cosine loss)\n",
    "# ======================================================\n",
    "epochs = 30\n",
    "for ep in range(epochs):\n",
    "    model.train()\n",
    "    total = 0\n",
    "    for xb, yb in tqdm(train_dl, desc=f\"Epoch {ep+1}/{epochs}\"):\n",
    "        xb, yb = xb.to(device), yb.to(device)\n",
    "        pred = model(xb)\n",
    "        loss = 1 - F.cosine_similarity(pred, yb).mean()\n",
    "        opt.zero_grad(); loss.backward(); opt.step()\n",
    "        total += loss.item() * xb.size(0)\n",
    "    print(f\"Epoch {ep+1}: loss={total/len(train_ds):.4f}\")\n"
   ]
  },
  {
   "cell_type": "code",
   "execution_count": null,
   "metadata": {
    "colab": {
     "base_uri": "https://localhost:8080/"
    },
    "executionInfo": {
     "elapsed": 45,
     "status": "ok",
     "timestamp": 1761432592984,
     "user": {
      "displayName": "ghulam mujtaba",
      "userId": "00646622876627477130"
     },
     "user_tz": -120
    },
    "id": "DZ3Zfoczedvk",
    "outputId": "d7294bd5-afcf-477e-b391-c003909fb1e3"
   },
   "outputs": [
    {
     "name": "stdout",
     "output_type": "stream",
     "text": [
      "Saved predicted test embeddings: (1500, 1536)\n"
     ]
    }
   ],
   "source": [
    "# ======================================================\n",
    "#   STEP 4: Generate predictions for test captions\n",
    "# ======================================================\n",
    "model.eval()\n",
    "with torch.no_grad():\n",
    "    preds = model(torch.from_numpy(tx_test).float().to(device))\n",
    "    preds = F.normalize(preds, dim=1)           # normalize for cosine similarity\n",
    "    preds = preds.cpu().numpy().astype(\"float32\")\n",
    "\n",
    "np.save(\"preds_test_image_space.npy\", preds)\n",
    "print(\"Saved predicted test embeddings:\", preds.shape)\n"
   ]
  },
  {
   "cell_type": "code",
   "execution_count": null,
   "metadata": {
    "colab": {
     "base_uri": "https://localhost:8080/"
    },
    "executionInfo": {
     "elapsed": 1279,
     "status": "ok",
     "timestamp": 1761432598735,
     "user": {
      "displayName": "ghulam mujtaba",
      "userId": "00646622876627477130"
     },
     "user_tz": -120
    },
    "id": "wprd_RBWegIw",
    "outputId": "28a6ba15-e6c4-4701-cec2-a2fe3c54c563"
   },
   "outputs": [
    {
     "name": "stdout",
     "output_type": "stream",
     "text": [
      "Sample top-5 image indices for first test caption: [ 3123 15463  9288 17203 24769]\n"
     ]
    }
   ],
   "source": [
    "# ======================================================\n",
    "#   STEP 5: Optional – quick retrieval sanity check\n",
    "# ======================================================\n",
    "import faiss\n",
    "\n",
    "gallery = im_train.astype(\"float32\")\n",
    "faiss.normalize_L2(gallery)\n",
    "\n",
    "index = faiss.IndexFlatIP(gallery.shape[1])\n",
    "index.add(gallery)\n",
    "\n",
    "faiss.normalize_L2(preds)\n",
    "D, I = index.search(preds, 5)\n",
    "print(\"Sample top-5 image indices for first test caption:\", I[0])\n"
   ]
  },
  {
   "cell_type": "code",
   "execution_count": null,
   "metadata": {
    "colab": {
     "base_uri": "https://localhost:8080/",
     "height": 147
    },
    "executionInfo": {
     "elapsed": 1511,
     "status": "ok",
     "timestamp": 1761432654783,
     "user": {
      "displayName": "ghulam mujtaba",
      "userId": "00646622876627477130"
     },
     "user_tz": -120
    },
    "id": "3pc20lM1esc4",
    "outputId": "2e6e3f9e-ffa0-4f09-82de-a963bc9631b4"
   },
   "outputs": [
    {
     "name": "stdout",
     "output_type": "stream",
     "text": [
      "Retrieved 100 nearest images for 1500 test captions\n",
      "✅ submission.csv created: /content/drive/MyDrive/AML Challenge/submission.csv\n"
     ]
    },
    {
     "data": {
      "application/vnd.google.colaboratory.intrinsic+json": {
       "summary": "{\n  \"name\": \"submission\",\n  \"rows\": 1500,\n  \"fields\": [\n    {\n      \"column\": \"id\",\n      \"properties\": {\n        \"dtype\": \"number\",\n        \"std\": null,\n        \"min\": null,\n        \"max\": null,\n        \"num_unique_values\": 0,\n        \"samples\": [],\n        \"semantic_type\": \"\",\n        \"description\": \"\"\n      }\n    },\n    {\n      \"column\": \"embedding\",\n      \"properties\": {\n        \"dtype\": \"number\",\n        \"std\": null,\n        \"min\": null,\n        \"max\": null,\n        \"num_unique_values\": 0,\n        \"samples\": [],\n        \"semantic_type\": \"\",\n        \"description\": \"\"\n      }\n    }\n  ]\n}",
       "type": "dataframe",
       "variable_name": "submission"
      },
      "text/html": [
       "\n",
       "  <div id=\"df-94347724-1fec-4ce2-a03e-e1786671d396\" class=\"colab-df-container\">\n",
       "    <div>\n",
       "<style scoped>\n",
       "    .dataframe tbody tr th:only-of-type {\n",
       "        vertical-align: middle;\n",
       "    }\n",
       "\n",
       "    .dataframe tbody tr th {\n",
       "        vertical-align: top;\n",
       "    }\n",
       "\n",
       "    .dataframe thead th {\n",
       "        text-align: right;\n",
       "    }\n",
       "</style>\n",
       "<table border=\"1\" class=\"dataframe\">\n",
       "  <thead>\n",
       "    <tr style=\"text-align: right;\">\n",
       "      <th></th>\n",
       "      <th>id</th>\n",
       "      <th>embedding</th>\n",
       "    </tr>\n",
       "  </thead>\n",
       "  <tbody>\n",
       "    <tr>\n",
       "      <th>0</th>\n",
       "      <td>NaN</td>\n",
       "      <td>NaN</td>\n",
       "    </tr>\n",
       "    <tr>\n",
       "      <th>1</th>\n",
       "      <td>NaN</td>\n",
       "      <td>NaN</td>\n",
       "    </tr>\n",
       "  </tbody>\n",
       "</table>\n",
       "</div>\n",
       "    <div class=\"colab-df-buttons\">\n",
       "\n",
       "  <div class=\"colab-df-container\">\n",
       "    <button class=\"colab-df-convert\" onclick=\"convertToInteractive('df-94347724-1fec-4ce2-a03e-e1786671d396')\"\n",
       "            title=\"Convert this dataframe to an interactive table.\"\n",
       "            style=\"display:none;\">\n",
       "\n",
       "  <svg xmlns=\"http://www.w3.org/2000/svg\" height=\"24px\" viewBox=\"0 -960 960 960\">\n",
       "    <path d=\"M120-120v-720h720v720H120Zm60-500h600v-160H180v160Zm220 220h160v-160H400v160Zm0 220h160v-160H400v160ZM180-400h160v-160H180v160Zm440 0h160v-160H620v160ZM180-180h160v-160H180v160Zm440 0h160v-160H620v160Z\"/>\n",
       "  </svg>\n",
       "    </button>\n",
       "\n",
       "  <style>\n",
       "    .colab-df-container {\n",
       "      display:flex;\n",
       "      gap: 12px;\n",
       "    }\n",
       "\n",
       "    .colab-df-convert {\n",
       "      background-color: #E8F0FE;\n",
       "      border: none;\n",
       "      border-radius: 50%;\n",
       "      cursor: pointer;\n",
       "      display: none;\n",
       "      fill: #1967D2;\n",
       "      height: 32px;\n",
       "      padding: 0 0 0 0;\n",
       "      width: 32px;\n",
       "    }\n",
       "\n",
       "    .colab-df-convert:hover {\n",
       "      background-color: #E2EBFA;\n",
       "      box-shadow: 0px 1px 2px rgba(60, 64, 67, 0.3), 0px 1px 3px 1px rgba(60, 64, 67, 0.15);\n",
       "      fill: #174EA6;\n",
       "    }\n",
       "\n",
       "    .colab-df-buttons div {\n",
       "      margin-bottom: 4px;\n",
       "    }\n",
       "\n",
       "    [theme=dark] .colab-df-convert {\n",
       "      background-color: #3B4455;\n",
       "      fill: #D2E3FC;\n",
       "    }\n",
       "\n",
       "    [theme=dark] .colab-df-convert:hover {\n",
       "      background-color: #434B5C;\n",
       "      box-shadow: 0px 1px 3px 1px rgba(0, 0, 0, 0.15);\n",
       "      filter: drop-shadow(0px 1px 2px rgba(0, 0, 0, 0.3));\n",
       "      fill: #FFFFFF;\n",
       "    }\n",
       "  </style>\n",
       "\n",
       "    <script>\n",
       "      const buttonEl =\n",
       "        document.querySelector('#df-94347724-1fec-4ce2-a03e-e1786671d396 button.colab-df-convert');\n",
       "      buttonEl.style.display =\n",
       "        google.colab.kernel.accessAllowed ? 'block' : 'none';\n",
       "\n",
       "      async function convertToInteractive(key) {\n",
       "        const element = document.querySelector('#df-94347724-1fec-4ce2-a03e-e1786671d396');\n",
       "        const dataTable =\n",
       "          await google.colab.kernel.invokeFunction('convertToInteractive',\n",
       "                                                    [key], {});\n",
       "        if (!dataTable) return;\n",
       "\n",
       "        const docLinkHtml = 'Like what you see? Visit the ' +\n",
       "          '<a target=\"_blank\" href=https://colab.research.google.com/notebooks/data_table.ipynb>data table notebook</a>'\n",
       "          + ' to learn more about interactive tables.';\n",
       "        element.innerHTML = '';\n",
       "        dataTable['output_type'] = 'display_data';\n",
       "        await google.colab.output.renderOutput(dataTable, element);\n",
       "        const docLink = document.createElement('div');\n",
       "        docLink.innerHTML = docLinkHtml;\n",
       "        element.appendChild(docLink);\n",
       "      }\n",
       "    </script>\n",
       "  </div>\n",
       "\n",
       "\n",
       "    <div id=\"df-aa83ff71-4d3f-46ef-8819-85e02c7143e2\">\n",
       "      <button class=\"colab-df-quickchart\" onclick=\"quickchart('df-aa83ff71-4d3f-46ef-8819-85e02c7143e2')\"\n",
       "                title=\"Suggest charts\"\n",
       "                style=\"display:none;\">\n",
       "\n",
       "<svg xmlns=\"http://www.w3.org/2000/svg\" height=\"24px\"viewBox=\"0 0 24 24\"\n",
       "     width=\"24px\">\n",
       "    <g>\n",
       "        <path d=\"M19 3H5c-1.1 0-2 .9-2 2v14c0 1.1.9 2 2 2h14c1.1 0 2-.9 2-2V5c0-1.1-.9-2-2-2zM9 17H7v-7h2v7zm4 0h-2V7h2v10zm4 0h-2v-4h2v4z\"/>\n",
       "    </g>\n",
       "</svg>\n",
       "      </button>\n",
       "\n",
       "<style>\n",
       "  .colab-df-quickchart {\n",
       "      --bg-color: #E8F0FE;\n",
       "      --fill-color: #1967D2;\n",
       "      --hover-bg-color: #E2EBFA;\n",
       "      --hover-fill-color: #174EA6;\n",
       "      --disabled-fill-color: #AAA;\n",
       "      --disabled-bg-color: #DDD;\n",
       "  }\n",
       "\n",
       "  [theme=dark] .colab-df-quickchart {\n",
       "      --bg-color: #3B4455;\n",
       "      --fill-color: #D2E3FC;\n",
       "      --hover-bg-color: #434B5C;\n",
       "      --hover-fill-color: #FFFFFF;\n",
       "      --disabled-bg-color: #3B4455;\n",
       "      --disabled-fill-color: #666;\n",
       "  }\n",
       "\n",
       "  .colab-df-quickchart {\n",
       "    background-color: var(--bg-color);\n",
       "    border: none;\n",
       "    border-radius: 50%;\n",
       "    cursor: pointer;\n",
       "    display: none;\n",
       "    fill: var(--fill-color);\n",
       "    height: 32px;\n",
       "    padding: 0;\n",
       "    width: 32px;\n",
       "  }\n",
       "\n",
       "  .colab-df-quickchart:hover {\n",
       "    background-color: var(--hover-bg-color);\n",
       "    box-shadow: 0 1px 2px rgba(60, 64, 67, 0.3), 0 1px 3px 1px rgba(60, 64, 67, 0.15);\n",
       "    fill: var(--button-hover-fill-color);\n",
       "  }\n",
       "\n",
       "  .colab-df-quickchart-complete:disabled,\n",
       "  .colab-df-quickchart-complete:disabled:hover {\n",
       "    background-color: var(--disabled-bg-color);\n",
       "    fill: var(--disabled-fill-color);\n",
       "    box-shadow: none;\n",
       "  }\n",
       "\n",
       "  .colab-df-spinner {\n",
       "    border: 2px solid var(--fill-color);\n",
       "    border-color: transparent;\n",
       "    border-bottom-color: var(--fill-color);\n",
       "    animation:\n",
       "      spin 1s steps(1) infinite;\n",
       "  }\n",
       "\n",
       "  @keyframes spin {\n",
       "    0% {\n",
       "      border-color: transparent;\n",
       "      border-bottom-color: var(--fill-color);\n",
       "      border-left-color: var(--fill-color);\n",
       "    }\n",
       "    20% {\n",
       "      border-color: transparent;\n",
       "      border-left-color: var(--fill-color);\n",
       "      border-top-color: var(--fill-color);\n",
       "    }\n",
       "    30% {\n",
       "      border-color: transparent;\n",
       "      border-left-color: var(--fill-color);\n",
       "      border-top-color: var(--fill-color);\n",
       "      border-right-color: var(--fill-color);\n",
       "    }\n",
       "    40% {\n",
       "      border-color: transparent;\n",
       "      border-right-color: var(--fill-color);\n",
       "      border-top-color: var(--fill-color);\n",
       "    }\n",
       "    60% {\n",
       "      border-color: transparent;\n",
       "      border-right-color: var(--fill-color);\n",
       "    }\n",
       "    80% {\n",
       "      border-color: transparent;\n",
       "      border-right-color: var(--fill-color);\n",
       "      border-bottom-color: var(--fill-color);\n",
       "    }\n",
       "    90% {\n",
       "      border-color: transparent;\n",
       "      border-bottom-color: var(--fill-color);\n",
       "    }\n",
       "  }\n",
       "</style>\n",
       "\n",
       "      <script>\n",
       "        async function quickchart(key) {\n",
       "          const quickchartButtonEl =\n",
       "            document.querySelector('#' + key + ' button');\n",
       "          quickchartButtonEl.disabled = true;  // To prevent multiple clicks.\n",
       "          quickchartButtonEl.classList.add('colab-df-spinner');\n",
       "          try {\n",
       "            const charts = await google.colab.kernel.invokeFunction(\n",
       "                'suggestCharts', [key], {});\n",
       "          } catch (error) {\n",
       "            console.error('Error during call to suggestCharts:', error);\n",
       "          }\n",
       "          quickchartButtonEl.classList.remove('colab-df-spinner');\n",
       "          quickchartButtonEl.classList.add('colab-df-quickchart-complete');\n",
       "        }\n",
       "        (() => {\n",
       "          let quickchartButtonEl =\n",
       "            document.querySelector('#df-aa83ff71-4d3f-46ef-8819-85e02c7143e2 button');\n",
       "          quickchartButtonEl.style.display =\n",
       "            google.colab.kernel.accessAllowed ? 'block' : 'none';\n",
       "        })();\n",
       "      </script>\n",
       "    </div>\n",
       "\n",
       "    </div>\n",
       "  </div>\n"
      ],
      "text/plain": [
       "   id  embedding\n",
       "0 NaN        NaN\n",
       "1 NaN        NaN"
      ]
     },
     "execution_count": 31,
     "metadata": {},
     "output_type": "execute_result"
    }
   ],
   "source": [
    "# ======================================================\n",
    "#   STEP 6: Build Kaggle-style submission file\n",
    "# ======================================================\n",
    "import faiss, pandas as pd, numpy as np, os, torch.nn.functional as F\n",
    "\n",
    "# 1️⃣ Load gallery (train) and predicted test embeddings\n",
    "gallery = im_train.astype(\"float32\")\n",
    "faiss.normalize_L2(gallery)                      # normalize for cosine similarity\n",
    "\n",
    "preds = np.load(\"preds_test_image_space.npy\").astype(\"float32\")\n",
    "faiss.normalize_L2(preds)\n",
    "\n",
    "# 2️⃣ Create FAISS index\n",
    "index = faiss.IndexFlatIP(gallery.shape[1])\n",
    "index.add(gallery)\n",
    "\n",
    "# 3️⃣ Search top-K most similar images for each test caption\n",
    "TOP_K = 100\n",
    "D, I = index.search(preds, TOP_K)   # I: (num_test, TOP_K)\n",
    "\n",
    "print(f\"Retrieved {TOP_K} nearest images for {len(I)} test captions\")\n",
    "\n",
    "# 4️⃣ Recover the corresponding image names (gallery IDs)\n",
    "image_names = train_data[\"images/names\"]  # same order as im_train\n",
    "image_ids   = [os.path.splitext(n)[0] for n in image_names]  # drop .jpg\n",
    "\n",
    "# 5️⃣ Test caption IDs (for the left column in submission)\n",
    "test_ids = test_data[\"captions/ids\"]\n",
    "\n",
    "# 6️⃣ Build submission rows: each test_id with 100 image IDs space-separated\n",
    "rows = []\n",
    "for row_idx, test_id in enumerate(test_ids):\n",
    "    retrieved_ids = \" \".join(str(image_ids[idx]) for idx in I[row_idx])\n",
    "    rows.append({\"Id\": int(test_id), \"Predicted\": retrieved_ids})\n",
    "\n",
    "submission = pd.DataFrame(rows)\n",
    "submission.rename(columns={\"Id\": \"id\", \"Predicted\": \"preds\"}, inplace=True)\n",
    "submission.to_csv(\"submission.csv\", index=False)\n",
    "print(\"✅ Saved submission.csv at:\", os.path.abspath(\"submission.csv\"))\n",
    "submission.head(3)\n",
    "\n"
   ]
  },
  {
   "cell_type": "code",
   "execution_count": null,
   "metadata": {
    "colab": {
     "base_uri": "https://localhost:8080/"
    },
    "executionInfo": {
     "elapsed": 3729,
     "status": "ok",
     "timestamp": 1761432714730,
     "user": {
      "displayName": "ghulam mujtaba",
      "userId": "00646622876627477130"
     },
     "user_tz": -120
    },
    "id": "P9UIP5PgiG-Y",
    "outputId": "37f9a2bb-5db5-49c3-cf72-6de3d83e85cf"
   },
   "outputs": [
    {
     "name": "stdout",
     "output_type": "stream",
     "text": [
      "✅ submission.csv created: /content/drive/MyDrive/AML Challenge/submission.csv\n"
     ]
    },
    {
     "data": {
      "application/vnd.google.colaboratory.intrinsic+json": {
       "summary": "{\n  \"name\": \"submission\",\n  \"rows\": 1500,\n  \"fields\": [\n    {\n      \"column\": \"id\",\n      \"properties\": {\n        \"dtype\": \"number\",\n        \"std\": 433,\n        \"min\": 1,\n        \"max\": 1500,\n        \"num_unique_values\": 1500,\n        \"samples\": [\n          1117,\n          1369,\n          423\n        ],\n        \"semantic_type\": \"\",\n        \"description\": \"\"\n      }\n    },\n    {\n      \"column\": \"embedding\",\n      \"properties\": {\n        \"dtype\": \"string\",\n        \"num_unique_values\": 1500,\n        \"samples\": [\n          \"[0.047437138855457306, 0.016303062438964844, 0.007143634837120771, 0.008370035327970982, -0.009232556447386742, -0.0068294634111225605, 0.0141324857249856, 0.009812290780246258, -0.0030714652966707945, -0.014679544605314732, 0.021517330780625343, -0.0021217286121100187, 0.0342533178627491, 0.006103015970438719, 0.007856659591197968, 0.023915711790323257, 0.0006940012099221349, 0.009845450520515442, -0.01596730761229992, 0.004582299385219812, 0.001413934864103794, -0.0027606640942394733, -0.018080273643136024, -0.012010627426207066, 0.002650855341926217, 0.018704693764448166, -0.00030953242094255984, -0.017249779775738716, -0.0158124677836895, -0.01691504195332527, -0.005076578818261623, 0.019603963941335678, -0.012458818964660168, -0.004425026476383209, -0.0006157066090963781, 0.021670205518603325, -0.0091316606849432, 0.009977098554372787, 0.009276543743908405, 0.019627032801508904, -0.008444000035524368, -0.01448487676680088, -0.0024356883950531483, -0.007340963929891586, -0.008178416639566422, -0.019785379990935326, 0.01712612248957157, -0.006602891255170107, -0.03086555190384388, -0.03583535552024841, -0.0026227415073662996, -0.009020539931952953, -0.038948796689510345, 0.03271499648690224, -0.002721894532442093, 0.010383309796452522, -0.007505083456635475, -0.02408475987613201, 0.0032069883309304714, 0.0055930763483047485, -0.023954568430781364, 0.0025921573396772146, 0.006115288008004427, 0.006269640289247036, -0.007981833070516586, -0.016220128163695335, 0.027939017862081528, 0.004740194417536259, 0.021818017587065697, -0.008945547975599766, -0.008423044346272945, -0.006765632424503565, -0.015352238900959492, 0.03741447255015373, -0.011541325598955154, -0.013433793559670448, -0.023113537579774857, -0.02269994094967842, -0.007798659615218639, 0.002785760909318924, -0.007067721337080002, 0.005515457596629858, -0.00021985489001963288, 0.008915177546441555, -0.010437027551233768, -0.022304950281977654, -0.01013571210205555, 0.01062062568962574, 0.009498249739408493, 0.002667697612196207, -0.011120251379907131, -0.012437712401151657, 0.0001090474906959571, -0.015045487321913242, 0.009621183387935162, 0.005216014571487904, -0.01498605590313673, 0.0002965391322504729, -0.0493939109146595, 0.015129504725337029, 0.021176788955926895, 0.031962160021066666, -0.0012724325060844421, 0.004226837772876024, -0.0036993506364524364, -0.003503746585920453, 0.003529787063598633, 0.012628964148461819, 0.003727914532646537, -0.03314395621418953, 0.0038806155789643526, -0.006605349015444517, 0.011483496055006981, -0.012739627622067928, 0.029542192816734314, 0.028825124725699425, 0.0451318733394146, -0.007069251965731382, -0.010166872292757034, 0.0049384525045752525, 0.014096790924668312, 0.009518568404018879, 0.016248377040028572, 0.00037605612305924296, -0.013448495417833328, 0.010693053714931011, 0.016068225726485252, -0.02387918531894684, 0.022792043164372444, 0.004568424075841904, 0.21945315599441528, 0.01869158446788788, 0.049512460827827454, 0.0035598124377429485, -0.0052183400839567184, -0.007427494507282972, -0.007963732816278934, -0.05914497375488281, -0.0023059826344251633, 0.002956222742795944, -0.0038254677783697844, 0.0062063513323664665, 0.0059668836183846, -0.02880554273724556, -0.007753118872642517, -0.0023305814247578382, 0.024687960743904114, -0.004905348643660545, 0.0048300414346158504, -0.005739980842918158, 0.0048474594950675964, 0.013861351646482944, 0.022220201790332794, -0.019593406468629837, -0.0014606611803174019, -0.0011230411473661661, 0.0036069327034056187, 0.013123023323714733, -0.01570633426308632, -0.011269606649875641, -0.02801515907049179, -0.003512610914185643, -0.00659616943448782, 0.015698298811912537, -0.007306440267711878, 0.0028656229842454195, -0.008973636664450169, 0.025407152250409126, -0.016643092036247253, -0.03946877270936966, -0.08981317281723022, 0.015231664292514324, 0.0042334627360105515, -0.006010841578245163, 0.013649153523147106, 0.016391655430197716, -0.008152293972671032, -0.003848177846521139, -0.013311883434653282, 0.01203010231256485, -0.028692305088043213, 0.0036760363727808, -0.01193349901586771, 0.025088055059313774, -0.015369330532848835, -0.05339359492063522, -0.008429259061813354, -0.00482827378436923, 0.010686926543712616, 0.17831648886203766, 0.0015317904762923717, -0.00893615186214447, -0.035843197256326675, 0.00827459804713726, 0.0002629071823321283, -0.012470879592001438, 0.014415052719414234, 0.0017033227486535907, -0.0030709910206496716, -0.024448925629258156, -0.0077073294669389725, -0.01669447310268879, -0.024546148255467415, 0.010458596050739288, 0.004686268977820873, 0.026439329609274864, 0.00826406478881836, -0.01329751219600439, -0.004533633589744568, -0.006879700813442469, -0.002431637141853571, -0.010862545110285282, -0.014146650210022926, 0.009996763430535793, 0.010189506225287914, -0.001487944507971406, 0.011307774111628532, -0.0076281302608549595, 0.007701131980866194, 0.014943335205316544, 0.03218771144747734, -0.029018070548772812, 0.023066624999046326, -0.01624758169054985, -0.003040303708985448, -0.013628008775413036, -0.004086138214915991, -0.0029850080609321594, -0.01973930560052395, 0.010637173429131508, -0.01768805831670761, 0.009661739692091942, -0.015033821575343609, 0.018299933522939682, 0.01596454344689846, -0.008887263014912605, -0.0036019128747284412, 0.0019411874236539006, 0.007624509744346142, -0.0002776257460936904, -0.00029712318792007864, -0.020833859220147133, 0.006958430632948875, -0.013341424986720085, 0.02187136374413967, 0.006158298812806606, -0.010734169743955135, 0.0032963245175778866, -0.022309845313429832, -0.020039230585098267, 0.003557350020855665, -0.019221968948841095, 0.006908148527145386, -0.32565999031066895, -0.006456583738327026, -0.02131582424044609, -0.0063402378000319, -0.007828016765415668, 0.011631960980594158, 0.003503771498799324, 0.006560348439961672, 0.010968923568725586, -0.022473733872175217, -0.008812959305942059, -0.009784654714167118, -0.004165013786405325, 0.012797556817531586, 0.01763174682855606, -0.14366529881954193, 0.005337068345397711, 0.015697523951530457, -0.00864607747644186, -0.04917049780488014, 0.0008488113526254892, -0.0037298998795449734, -0.021308522671461105, -0.014009669423103333, 0.012138661928474903, 0.01025062520056963, -0.00789974257349968, 0.023315036669373512, -0.0025474699214100838, -0.02569578029215336, -0.01141087431460619, -0.0023795804008841515, -0.018190009519457817, 0.007438235450536013, 0.022844387218356133, 0.0056987046264112, 0.005078452173620462, -0.011240296065807343, -0.0006992606213316321, -0.023927470669150352, 0.008791696280241013, 0.017505578696727753, 0.011564900167286396, 0.0170771274715662, 0.0020634597167372704, -0.0017384603852406144, 0.0015883264131844044, 0.019175393506884575, -0.012327208183705807, -0.027644414454698563, 0.018201356753706932, -0.012128052301704884, 0.014309960417449474, 0.01407371461391449, -0.009195086546242237, 0.0029133970383554697, -0.003802507184445858, -0.007158517837524414, -0.0289764404296875, -0.014116570353507996, 0.03040243126451969, -0.019159769639372826, -0.018382349982857704, -0.003267195075750351, -0.022171424701809883, -0.006755930371582508, -0.004483351018279791, -0.009631381370127201, 0.004192835185676813, -0.021307840943336487, -0.0013915739255025983, 0.036349959671497345, 0.008155006915330887, -0.008268296718597412, -0.0032396295573562384, 0.011011364869773388, -0.02443334460258484, -0.01329708844423294, -0.021839307621121407, 0.005005911458283663, -0.008943775668740273, 0.012188754044473171, -0.012683887034654617, 0.014467024244368076, -0.003317257622256875, 0.0262509286403656, 0.013509368523955345, 0.012010268867015839, 0.007405175361782312, -0.017257528379559517, -0.008446411229670048, -0.014574484899640083, 0.005556961987167597, -0.009248881600797176, -0.016362106427550316, -0.0171443410217762, 0.017806198447942734, -0.017258547246456146, -0.026046961545944214, -0.01467929594218731, -0.01950238272547722, -0.018194759264588356, 0.01521263923496008, -0.016490045934915543, -0.0004329164803493768, -0.019020644947886467, 0.029990147799253464, 0.0032097408547997475, 0.015327689237892628, -0.027766384184360504, -0.007734321989119053, -0.008126188069581985, 0.005950422026216984, -0.00824368093162775, 0.01982167363166809, 0.002434143330901861, -0.02372034639120102, -0.0042463005520403385, -0.0019924186635762453, 0.011406498029828072, 0.0024344532284885645, 0.013215161859989166, 0.005714248865842819, 0.010135214775800705, -0.005083075258880854, -0.0010960702784359455, -0.0059505365788936615, 0.008664415217936039, 0.014464586973190308, 0.02805587649345398, 0.006169299595057964, 0.03367829695343971, 0.009716186672449112, 0.008822192437946796, 0.002391780959442258, 0.004314501769840717, 0.004688373301178217, 0.02708618715405464, 0.005186960566788912, -0.017916254699230194, 0.062860406935215, -0.017013119533658028, -0.014110874384641647, -0.09223950654268265, 0.0001446056558052078, 0.012118003331124783, -0.006394470576196909, -0.00867670588195324, 0.027704015374183655, 0.0019444840727373958, 0.061257485300302505, -0.0026916339993476868, 0.016206007450819016, 0.0003520189202390611, -0.002073436975479126, 0.007693473715335131, -0.007362823002040386, 0.009145482443273067, 0.019619975239038467, 0.0007832826813682914, -0.018328551203012466, -0.0018498821882531047, -0.012447889894247055, -0.004198909271508455, -0.0026341748889535666, -0.0008066478185355663, 0.008468066342175007, 0.012085971422493458, 0.0010820196475833654, -0.013315912336111069, 0.00402773916721344, 0.011909057386219501, -0.011265953071415424, -0.06815385818481445, -0.014809046871960163, 0.003114547347649932, -0.011975977569818497, -0.0065182046964764595, -0.0006810211343690753, -0.027360480278730392, 0.006686314009130001, 0.0305548794567585, -0.008874773047864437, 0.021694069728255272, 0.01430847030133009, 0.01495254784822464, 0.004269738681614399, -0.004423774313181639, -0.01433824934065342, 0.000247122225118801, 0.005557727534323931, -0.042627450078725815, -0.018723824992775917, -0.01330658234655857, -0.03324165195226669, 0.006729749497026205, -0.00814166758209467, 0.022381611168384552, -0.008128058165311813, -0.0019694638904184103, 0.017932355403900146, -0.02025490626692772, -0.03135037422180176, -0.013100252486765385, -0.004272508900612593, 0.02530044876039028, 0.02017231285572052, 0.017218710854649544, 0.00036534483660943806, 0.011857456527650356, 0.006165270693600178, -0.0026719241868704557, 0.009899755008518696, -0.00428230594843626, 0.03681778535246849, -0.006855826824903488, -0.0019474939908832312, -0.004481532145291567, 0.0015466447221115232, 0.00993533618748188, -0.01369321346282959, 0.004726714454591274, 0.012659349478781223, -0.01418860163539648, -0.025620056316256523, -0.004142047371715307, 0.0020818207412958145, -0.014864007011055946, -0.008033405058085918, -0.05819971114397049, 0.011047610081732273, -0.020017195492982864, -0.021407999098300934, -0.03089820221066475, 0.029225029051303864, 0.002146283397451043, 0.0031526193488389254, 0.009260817430913448, -0.011066443286836147, -0.009679310023784637, -0.07538604736328125, -0.011885244399309158, 0.0457584410905838, 0.005180036183446646, 0.009128490462899208, -0.0013536290498450398, -0.008126684464514256, 0.001648183329962194, -0.0029574637301266193, -0.003923386801034212, -0.018686678260564804, 0.04268402233719826, 0.006097384262830019, -0.010577378794550896, 0.022451983764767647, -0.02211550623178482, 0.05331183597445488, -0.013457820750772953, -0.007718126755207777, -0.02103584259748459, 0.023674998432397842, 0.012340517714619637, -0.017703937366604805, 0.004256271291524172, 0.01253932248800993, 0.03894539922475815, -0.0027330440934747458, 0.0037527831736952066, 0.006759726908057928, 0.004274503793567419, -0.010424607433378696, 0.003949599340558052, 0.02590472251176834, -0.00040836812695488334, -0.000459804869024083, 0.007777026854455471, 0.005807132460176945, 0.029884688556194305, 0.020809166133403778, 0.013492539525032043, -0.008015574887394905, -0.03671814128756523, 0.015904225409030914, -0.010344548150897026, 0.00814145803451538, -0.035752344876527786, 0.0042479801923036575, -0.01109386421740055, 0.01266111433506012, -0.0067903874441981316, -0.005896640010178089, -0.004669693764299154, -0.004663805011659861, 0.0023331858683377504, 0.024775555357336998, -0.003058123402297497, -0.024906016886234283, 0.0023690848611295223, 0.009450762532651424, -0.012126542627811432, 0.0024075633846223354, 0.0073584639467298985, -0.014874088577926159, 0.008838365785777569, 0.007825376465916634, -0.015687670558691025, 0.012843768112361431, 0.010234850458800793, 0.00652755843475461, 0.006740736309438944, -0.012571459636092186, 0.00955207459628582, 0.008267671801149845, -0.0011965564917773008, 0.01385883055627346, -0.004271495621651411, -0.008806467987596989, -0.004878408275544643, 0.0109169976785779, 0.007940508425235748, -0.01916072703897953, -0.018379181623458862, 0.007080897223204374, -0.027465345337986946, 0.008257421664893627, -0.027789603918790817, 0.002620548475533724, 0.02036353200674057, -0.027495604008436203, 0.011491281911730766, -0.024837546050548553, 0.009088058024644852, 0.005317449104040861, 0.021619493141770363, 0.009819897823035717, -0.022391317412257195, 0.010763807222247124, -0.01077463198453188, 0.004533796105533838, -0.005253282841295004, 0.00047217623796314, -0.00751249585300684, 0.008276819251477718, -0.019019730389118195, 0.0122676445171237, -0.02136724814772606, 0.01024214643985033, -0.013342534191906452, -0.0032425634562969208, 0.008219052106142044, 0.05063464865088463, -0.009856934659183025, 0.0008694693678990006, -0.008454383350908756, -0.0044924234971404076, 0.020568527281284332, -0.0029252786189317703, -0.01772274449467659, -0.021157728508114815, -0.00037766119930893183, 0.0028248364105820656, -0.00952176097780466, 0.0006304944981820881, -0.02207070216536522, -0.0035177587997168303, 0.011169769801199436, 0.002160813193768263, 0.025654049590229988, -0.014878036454319954, 0.01807091385126114, -0.03306198492646217, -0.002503244671970606, 0.0005171810043975711, 0.007436675019562244, -0.0010591389145702124, -0.014929912984371185, 0.007888587191700935, 0.02305573970079422, 0.006200677715241909, -0.02853560633957386, -0.011799599975347519, -0.009209882467985153, -0.01492914929986, -0.010899628512561321, -0.010182308033108711, 0.0136918555945158, -0.006638779770582914, -0.013707613572478294, 0.01536580454558134, 0.0046348171308636665, -0.013020466081798077, 0.004274390637874603, -0.005546375177800655, -0.013810875825583935, 0.021337958052754402, -0.014906058087944984, 0.002596426522359252, -0.005098262336105108, -0.03587481006979942, 0.00439171027392149, -0.0024403377901762724, 0.018191929906606674, 0.020477257668972015, -0.014410589821636677, 0.032485492527484894, 0.000660669116768986, -0.0011789891868829727, 0.0030202928464859724, -0.025958701968193054, 0.011660330928862095, -0.023875296115875244, -0.0023078438825905323, -0.017834732308983803, -0.014718018472194672, 0.0033966375049203634, 0.0016537356423214078, -0.011426424607634544, -0.006874043494462967, 0.0052521186880767345, -0.011029397137463093, 0.020313795655965805, -0.01943163201212883, -0.04007060080766678, 0.005166936665773392, -4.206384255667217e-05, -0.01068066619336605, -0.00913812592625618, 0.011362572200596333, 0.01791001297533512, -0.00452598137781024, -0.00729339150711894, 0.01684332825243473, -0.015196532011032104, -0.02980961836874485, -0.002949455752968788, 0.032517824321985245, -0.007933993823826313, -0.03384595736861229, 0.004553717561066151, -0.03989068791270256, -0.007469476200640202, 0.00991867110133171, 0.007061136420816183, 0.00472219055518508, 0.006216387264430523, -0.010939938947558403, 0.008510610088706017, 0.006349077448248863, 0.015074477531015873, -0.008281156420707703, -0.02343125455081463, 0.015339406207203865, 0.008973582647740841, -0.029297340661287308, 0.19858193397521973, 0.00664429971948266, 0.003915902227163315, -0.0068405307829380035, -0.006113466806709766, 0.027830984443426132, -0.006766504142433405, -0.022442616522312164, -0.014718620106577873, -0.01748059317469597, 0.0021817178931087255, 0.030610352754592896, 0.03276430815458298, 0.009212230332195759, 0.013407361693680286, -0.04757370427250862, 0.2839098572731018, 0.019038669764995575, -0.004581281915307045, -0.0024622289929538965, 0.037812914699316025, -0.002781468443572521, -0.02754201367497444, -0.022503279149532318, 0.005185580812394619, 0.011570129543542862, 0.016139185056090355, 0.015898700803518295, 0.0010503107914701104, 0.013941064476966858, -0.010184401646256447, -0.008913319557905197, 0.0010384975466877222, 0.017471663653850555, -0.030852060765028, 0.0011255518766120076, -0.014999651350080967, -0.00028401974122971296, -0.015077076852321625, -0.0173124261200428, -0.009525074623525143, -0.010327829048037529, 0.04407251998782158, -0.007274874951690435, -0.0078057595528662205, 0.018216237425804138, -0.018405862152576447, 0.0035109042655676603, -0.003774456214159727, 0.03271546587347984, 0.008418640121817589, -0.000437714799772948, -0.02564406953752041, 0.015148699283599854, -0.0025981480721384287, -0.0033229654654860497, -0.02495751529932022, 0.004651250783354044, 0.006058932282030582, 0.0029001962393522263, -0.004371412564069033, -0.01830187812447548, -0.024448180571198463, -0.0392552874982357, -0.004320074804127216, 0.014650042168796062, -0.004493772517889738, 0.010467742569744587, 0.015390562824904919, 0.04013269394636154, -0.01624172180891037, 0.0041074007749557495, 0.014192984439432621, 0.007005183957517147, 0.014933639205992222, 0.010274449363350868, 0.010386149398982525, -0.0062753804959356785, 0.06224177032709122, 0.00026909136795438826, -0.0004640439001377672, 0.015557646751403809, 0.0032330546528100967, -0.016861120238900185, -0.041262369602918625, -0.0018141769105568528, 0.017895063385367393, 0.01127149723470211, -0.00012383045395836234, -0.011137369088828564, -0.004702605772763491, 0.007812022231519222, 0.0037433202378451824, 0.011335811577737331, -0.007853910326957703, 0.02835943177342415, 0.0028558727353811264, -0.0059682936407625675, 0.0064543066546320915, -0.0041670165956020355, 0.021654300391674042, -0.015219800174236298, -0.0035322343464940786, 0.01296060811728239, 0.017612382769584656, -0.024610189720988274, -0.01608327403664589, 0.00782058946788311, -0.02713308297097683, 0.00551140122115612, 0.037559859454631805, 0.007027037441730499, -0.043776702135801315, -0.00955871306359768, -0.028104666620492935, -0.014632302336394787, 0.0020635698456317186, 0.021969517692923546, 0.02375805377960205, 0.001884452998638153, -0.0007831837865523994, 0.01855146884918213, 0.020373854786157608, -0.01582629419863224, -0.01036512479186058, -0.001817932934500277, -0.014814603142440319, 0.008908214047551155, -0.015419448725879192, 0.010252864100039005, -0.006890046875923872, 0.0008364646346308291, 0.016151150688529015, -0.026052968576550484, 0.008451861329376698, 0.0022095567546784878, -0.008710188791155815, -0.023622581735253334, -0.0038301395252346992, 0.03067399561405182, -0.0039145201444625854, -0.05542205646634102, -0.01513504795730114, -0.04255976527929306, 0.019501954317092896, 0.012439023703336716, -0.04457254707813263, 0.0023254225961863995, 0.022459179162979126, -0.01677510142326355, 0.02650000900030136, 0.019869020208716393, 0.0028945845551788807, 0.009239833801984787, 0.03876885771751404, -0.014730152674019337, -0.011453368701040745, -0.06307070702314377, -0.021416084840893745, 0.00028772413497790694, -0.012196362018585205, 0.005886516999453306, 0.0008546775789000094, -0.007678573951125145, -0.014880751259624958, -0.011918704025447369, 0.010663829743862152, 0.024129943922162056, 0.008686807937920094, -0.0033194308634847403, 0.0032659166026860476, 0.026748860254883766, -0.019176315516233444, -0.002753833308815956, -0.01740594580769539, -0.007585611660033464, 0.00500530656427145, 0.004767550155520439, -0.009890426881611347, -0.01065071951597929, 0.005303647369146347, -0.031408753246068954, -0.006436774041503668, -0.009827492758631706, 0.014738163910806179, -0.011525745503604412, 0.008263430558145046, 0.005825613159686327, 0.002482061507180333, 0.0031241397373378277, -0.03141298145055771, -0.014412857592105865, 0.018746178597211838, -0.009189664386212826, 0.005777379032224417, -0.0004951564478687942, -0.0006419855053536594, -0.0008075584773905575, 0.011705409735441208, 0.006309294141829014, -0.03730190172791481, -0.006353662349283695, -0.004105791915208101, -0.04082135483622551, -0.018496831879019737, -0.017087232321500778, 0.005969485267996788, 0.023946795612573624, 0.005536161828786135, 0.004482856020331383, -0.01256953552365303, -0.022900935262441635, 0.008674182929098606, -0.011581032536923885, -0.0006301345420069993, -0.003182920627295971, 0.015296482481062412, 0.0031593358144164085, -0.004285912960767746, -0.007636377587914467, -0.016822831705212593, -0.004796251188963652, 0.006325260736048222, -0.004907048307359219, -0.0006661620573140681, -0.013824429363012314, 0.004242577590048313, 0.07628659904003143, -0.010722811333835125, 0.008699031546711922, -0.011594283394515514, 0.019258610904216766, -0.013344748876988888, 0.01007161196321249, 0.016787134110927582, 0.006160584744066, -0.01108561921864748, 0.00874307006597519, 0.03377584367990494, 0.012424183078110218, 0.0015174731379374862, 0.02965381182730198, 0.000645894673652947, 0.013630861416459084, 0.00967288576066494, 0.019561348482966423, 0.009406115859746933, -0.02411966770887375, -0.01005158293992281, 0.017517145723104477, -0.010706691071391106, -0.05226612836122513, 0.00483652064576745, -0.007417582906782627, 0.007717109750956297, -0.01113005168735981, -0.007351077627390623, 0.009064886718988419, 0.0032359634060412645, 0.010113609954714775, -0.01524214819073677, -0.009000773541629314, -0.030124180018901825, 0.011394358240067959, -0.017162173986434937, 0.05484660714864731, -0.012755910865962505, -0.025281744077801704, 0.0017914468189701438, -0.009377725422382355, 0.011873939074575901, -0.013579064980149269, 0.014190638437867165, -0.03634456917643547, -0.0014175736578181386, 0.0031233562622219324, -0.010887888260185719, -0.03997932747006416, -0.003849731758236885, -0.0031854899134486914, 0.040015000849962234, -0.00463399663567543, -0.011190006509423256, 0.028440918773412704, 0.026573775336146355, 0.003134456928819418, 0.02657363750040531, -0.054029230028390884, -0.005891835782676935, 0.007494717836380005, -0.027578838169574738, 0.010888454504311085, 0.03129876032471657, -0.006215570028871298, -0.007656276226043701, -0.007739193271845579, 0.006466344464570284, 0.008528444916009903, -0.0007413487765006721, -0.019311582669615746, 0.011895954608917236, 0.028191998600959778, 0.00859910063445568, -0.008472374640405178, 0.004380982834845781, 0.02424914948642254, 0.018838468939065933, 0.020197220146656036, -0.013544656336307526, 0.0023971651680767536, 0.029649483039975166, 0.002721593715250492, 0.012174681760370731, -0.0012525490019470453, 0.007139249239116907, 0.0004063452943228185, 0.014157285913825035, -0.002581778448075056, 0.002350547583773732, 0.03279215097427368, -0.03302996605634689, -0.10989499092102051, 0.011248959228396416, 0.007572705391794443, -0.014562243595719337, 0.0009234696044586599, -0.007896562106907368, 0.015812544152140617, -0.00984124280512333, 0.01886056736111641, -0.011109412647783756, -0.020130636170506477, -0.02817028947174549, 0.019549543038010597, 0.0052026500925421715, -0.004973240662366152, 0.004177187103778124, 0.02808980643749237, 0.0006577614694833755, 0.004755433648824692, -0.018005788326263428, -0.00855921395123005, -0.0033139714505523443, 0.02658608928322792, 0.012955985032022, -0.013015413656830788, -0.007988576777279377, 0.0005682413466274738, 0.018815336748957634, -0.01387061644345522, -0.0025772915687412024, -0.007994410581886768, -0.02248704805970192, 0.026165470480918884, 0.01542675867676735, -0.001146275200881064, -0.01605634018778801, -0.00551884900778532, -0.023093916475772858, -0.022076355293393135, -0.021476807072758675, -0.008668940514326096, -0.006663850974291563, -0.020873643457889557, 0.007160276174545288, -0.014391143806278706, 0.024762243032455444, -0.02132631093263626, 0.008896369487047195, 0.016841817647218704, 0.004772823303937912, 0.00378535408526659, 0.007234011776745319, -0.0043000937439501286, -0.004337432328611612, 0.019069254398345947, 0.03571143373847008, 0.0018312023021280766, -0.0541282556951046, 0.005502662621438503, -0.014230409637093544, 0.009598657488822937, -0.00012444144522305578, 0.007957677356898785, 0.020698625594377518, -0.004655330441892147, 0.002333910670131445, -0.03785543516278267, 0.0048490529879927635, 0.010338581167161465, -0.009515603072941303, -0.0295361690223217, -0.009681027382612228, -0.03138432279229164, -0.010602694004774094, -0.005967353470623493, 0.006681017577648163, 0.02116815373301506, 0.13127988576889038, 0.000188675316167064, 0.005562191363424063, 0.00753552233800292, -0.01660745218396187, 0.010915081948041916, -0.006489408668130636, -0.004185602068901062, -0.041638098657131195, 0.016467591747641563, 0.020517705008387566, -0.02114575356245041, -0.018198221921920776, 0.011559387668967247, -0.018029790371656418, 0.004824952222406864, 0.007026705890893936, 0.021691853180527687, 0.02322632074356079, 0.013680312782526016, -0.017772795632481575, -0.02331116981804371, -0.0052974470891058445, 0.003325358033180237, -0.028328977525234222, 0.018039410933852196, -0.012975857593119144, 0.015193559229373932, 0.028858201578259468, -0.003253808943554759, -0.016796601936221123, -0.0030384918209165335, -0.009166697040200233, -0.008137119933962822, -0.013140459544956684, -0.017027204856276512, 0.01759348250925541, -0.009617451578378677, -0.017595332115888596, -0.005608968436717987, 0.008565581403672695, -0.007687075529247522, -0.007983238436281681, -0.0018894398817792535, 0.0029759963508695364, -0.008701964281499386, -0.002533081453293562, -2.318906263099052e-05, -0.006119786761701107, 0.024394212290644646, -0.049644529819488525, 0.013661346398293972, -0.03929021954536438, -0.006942533887922764, -0.0006342004053294659, -0.010825106874108315, 0.006704096216708422, -0.017820850014686584, -0.019025780260562897, 0.01400824822485447, -0.02045082487165928, 0.020696943625807762, -0.039544910192489624, -0.02015813998878002, 0.01052745059132576, -0.011298967525362968, 0.0535658597946167, -0.006327711511403322, -0.006341936066746712, 0.006317297462373972, -0.01432634424418211, 0.00600682757794857, 0.013643183745443821, -0.03226754069328308, -0.04735963046550751, 0.004274539649486542, 0.0019890491385012865, -0.00029758710297755897, 0.0016077873297035694, 0.006803321652114391, 0.027311846613883972, 0.010130509734153748, -0.0023170290514826775, -0.012600645422935486, -4.0211652958532795e-05, 0.0632525235414505, -0.01841064728796482, -0.019554520025849342, -0.015777459368109703, 0.015265441499650478, 0.000963998434599489, 0.05921240523457527, -0.020493438467383385, 0.00927053764462471, -0.005951134953647852, -0.032569676637649536, -0.013636971823871136, -0.0017171549843624234, -0.005812213756144047, 0.013169811107218266, 0.0868513286113739, 0.008062859065830708, -0.00824733916670084, -0.0006013022502884269, -0.02926989085972309, -0.01814645528793335, 0.011098102666437626, -0.02505706623196602, -0.022001171484589577, 0.03275075554847717, 0.016018254682421684, -0.0034798597916960716, 0.005122877657413483, 0.017141027376055717, 0.012682674452662468, 0.0032069182489067316, 0.22169314324855804, -0.013388920575380325, -0.05821092054247856, -0.06966245174407959, 0.0058142938651144505, -0.006785940378904343, -0.0008177409181371331, 0.03939324989914894, 0.016342801973223686, 0.01792096719145775, 0.0023040208034217358, 0.0002007678267545998, -0.04449205473065376, -0.01990596391260624, -0.03709087520837784, -0.019990283995866776, -0.007415274623781443, 0.008043387904763222, 0.011193791404366493, -0.018564816564321518, 0.0006085838540457189, -0.01325716357678175, 0.005767783150076866, -0.0025196755304932594, -0.009774228557944298, 0.019113007932901382, 0.018793288618326187, -0.0019448332022875547, 0.0007268886547535658, -0.013500354252755642, 0.0021587566006928682, -2.9327095035114326e-05, 0.0023722683545202017, 0.03206033259630203, 2.6464223992661573e-05, -0.018609629943966866, 0.006972447969019413, -0.004525899887084961, 0.007003036327660084, 0.014677371829748154, 0.005107362754642963, 0.007109974976629019, -0.006954347249120474, 0.005565900355577469, -0.05610952898859978, 0.017164215445518494, 0.0022140792571008205, -0.016299039125442505, -0.004978732671588659, -0.006047144532203674, 0.01096158567816019, -0.01054630521684885, 0.009936501272022724, 0.030088886618614197, 0.010294570587575436, 0.0018933931132778525, 0.016811978071928024, 0.006428827065974474, 0.02005969174206257, 0.0036567437928169966, -0.03683316707611084, -0.203640416264534, 0.01228741928935051, 0.010928167961537838, -0.006213509943336248, -0.017753511667251587, -0.009867404587566853, 0.01657487079501152, 0.027482694014906883, 0.025545932352542877, 0.0020198409911245108, -0.020376527681946754, 0.007482975255697966, 0.018111886456608772, 0.00163957045879215, -0.0023067856673151255, 0.02366187982261181, -0.011561441235244274, 0.019993821159005165, 0.003851952264085412, 0.008927062153816223, -0.0030655122827738523, 0.0018102102912962437, -0.0072695533744990826, 0.021888257935643196, -0.015374168753623962, -0.0038738325238227844, 0.020645035430788994, 0.013298503123223782, -0.01956368051469326, 0.017271999269723892, 0.04822961613535881, -0.003807421773672104, -0.016698861494660378, -0.007249721325933933, 0.0037087658420205116, 0.0195967648178339, 0.017584700137376785, -0.022617658600211143, -0.04028141126036644, 0.03311590105295181, -0.042601585388183594, 0.012050141580402851, -0.003322411561384797, -0.04044158756732941, 0.03836996480822563, 0.00541933998465538, -0.022454973310232162, 0.021177444607019424, -0.011105287820100784, 0.01444250624626875, 0.014159588143229485, -0.036856286227703094, -0.021002845838665962, 0.004644281696528196, -0.027172625064849854, -0.017980260774493217, -0.02337370067834854, -0.006095809396356344, -0.012342531234025955, 0.024638138711452484, 0.01063145324587822, 0.006097770761698484, -0.018197933211922646, -0.12728457152843475, -0.0041695814579725266, 0.01079122070223093, 0.03487810119986534, 0.00010994458716595545, -0.026128225028514862, 0.011173577047884464, -0.004846825264394283, -0.005466025322675705, 0.00766926072537899, -0.007780629675835371, 0.010082365013659, -0.000528385688085109, 0.01593434438109398, -0.04340605065226555, -0.005110972560942173, -0.004880672786384821, 0.0035948611330240965, 0.02829085662961006, 0.012907100841403008, -0.014770821668207645, -0.013822288252413273, 0.01184754353016615, 0.009790631011128426, 0.0021078826393932104, -0.007825563661754131, 0.0035369182005524635, 0.013363384641706944, -0.0067656273022294044, -0.01332093309611082, 0.012867053970694542, 0.014638394117355347, 0.012413903139531612, 0.006634137127548456, 0.006162612698972225, 0.010747632943093777, -0.030752530321478844, 0.00615632114931941, -0.009163005277514458, 0.02769753709435463, 0.014310588128864765, 0.007973474450409412, 0.023421984165906906, -0.007100183051079512, -0.01552734337747097, 0.001933582010678947, 0.006149232853204012, 0.005498234182596207, 0.008275000378489494, 0.0012209268752485514, 0.02002195455133915, 0.01367257535457611, 0.023311851546168327, -0.0029231617227196693, -0.0006470998632721603, -0.004388188943266869, -0.04095788672566414, -0.0554012693464756, -0.007502741180360317, 0.012530152685940266, 0.019696522504091263, -0.0029584402218461037, 0.0410018265247345, -0.012056294828653336, 0.01505530346184969, -0.007245339918881655, -0.016547979786992073, 0.013226429931819439, -0.030206358060240746, -0.02801508642733097, 0.01749764196574688, -0.005500891245901585, 0.0004851811972912401, 0.003465780522674322, 0.024868076667189598, -0.023135928437113762, -0.009981036186218262, 0.015485124662518501, -0.00944329984486103, -0.009935266338288784, 0.014837116934359074, -0.001118944026529789, -0.0039342544041574, -0.013800467364490032, 0.01152177806943655, 0.04368839040398598, 0.009399204514920712, -0.01338847167789936, -0.005383034702390432, -0.015849513933062553, 0.0305545125156641, -0.03490910306572914, 0.008619759231805801, 0.028183095157146454, 0.0165867879986763, 0.014780087396502495, 0.011087488383054733, 0.02103632315993309, 0.024702949449419975, 0.008523917756974697, -0.012051631696522236, -0.007781840395182371, 0.006910660304129124, 0.015712512657046318, 0.0014044473646208644, -0.026782598346471786, -0.021914396435022354, 0.004608111921697855, 0.005128884222358465, 0.0015966258943080902, -0.040185119956731796, -0.004785720258951187, -0.015930606052279472, -0.0017038780497387052, -0.028476381674408913, -0.006767393089830875, -0.020741742104291916, -0.006393045652657747, 0.011507446877658367, -0.07602781802415848, -0.01262924075126648, -0.011976057663559914, -0.023681143298745155, 0.0226203054189682, 0.010305200703442097, -0.004530691541731358, 0.00411087553948164, 0.025317981839179993, 0.0005973720108158886, -0.012269713915884495, 0.01155761443078518, 0.06985817104578018, 0.013644878752529621, 0.008460558019578457, 0.033929042518138885, -0.006854967679828405, -0.008699922822415829, -0.007482318207621574, 0.010652132332324982, -0.03232618421316147, -0.08689790964126587, 0.013651522807776928, -0.003844017628580332, 0.0014944040449336171, -0.009236566722393036, 0.0009883928578346968, 0.003858014475554228, -0.08930224180221558, -0.0067421202547848225, 0.010127905756235123, -0.002485171891748905, -0.1073717325925827, -0.0015827921452000737, 0.0077361841686069965, -3.8033609598642215e-05, 0.00966237485408783, 0.009188622236251831, -0.0001282908779103309, -0.018454667180776596, 0.006434873212128878, 0.004990017041563988, -0.005614275112748146, 0.016789576038718224, -0.020606711506843567, -0.011261994019150734, -0.030032243579626083, -0.011763916350901127, 0.005019127856940031, -0.007393631152808666, -0.004561636596918106, 0.015257364138960838, 0.006897238083183765, 0.010313419625163078, 0.026956673711538315, 0.003853448433801532, 0.00728208851069212, -0.006745884194970131, -0.007231077179312706, -0.006154697388410568, 0.020838899537920952, -0.05387326702475548, -0.005289446096867323, -0.0014091666089370847, -0.009434886276721954, 0.007645046804100275, -0.01032226998358965, -0.01820811629295349, -0.007154480554163456, -0.002678867429494858, 0.016217494383454323, -0.015385327860713005]\",\n          \"[0.03925389051437378, 0.02314479649066925, -0.026419201865792274, 0.005817288067191839, -0.00991029106080532, -0.0077821980230510235, 0.015709150582551956, -0.0036930625792592764, 0.0076532140374183655, 0.0076600625179708, 0.03296353667974472, -0.008844214491546154, 0.01930275186896324, 0.01093519851565361, -0.013451628386974335, 0.045008186250925064, -0.005341790616512299, 0.006167267914861441, -0.002378431148827076, 0.024116575717926025, -0.009222130291163921, 0.00438368134200573, 0.00390387000516057, -0.0011307819513604045, -0.006262746173888445, 0.01867658644914627, -0.009091031737625599, -0.004925804678350687, -0.02446204423904419, -0.019911663606762886, -0.0045235613361001015, -0.011707301251590252, -0.017697330564260483, -0.005438162479549646, -0.022070953622460365, 0.019462985917925835, 0.015087700448930264, 0.005019403528422117, 0.009062501601874828, 0.0013167073484510183, -0.006541440729051828, -0.03190581128001213, -0.00357084721326828, -0.002913250820711255, -0.01841232366859913, 0.0018480198923498392, -0.014499018900096416, -0.008037612773478031, -0.014174530282616615, -0.019360272213816643, 0.023564165458083153, -0.0020607197657227516, -0.02054384909570217, 0.032334547489881516, -0.005631239619106054, -0.0046976665034890175, 0.01710888370871544, -0.038724564015865326, -0.018257731571793556, 0.007510072086006403, -0.017686130478978157, 0.003920180257409811, 0.012720697559416294, 0.01179576013237238, -0.002782844239845872, 0.0032715625129640102, 0.023579778149724007, -0.001821591635234654, 0.0014946104492992163, 0.01879097893834114, -0.006109816022217274, -0.028571218252182007, 0.008285023272037506, 0.033369459211826324, 4.40690855612047e-05, -0.02119799703359604, -0.01062749419361353, -0.012787148356437683, -0.009493249468505383, 0.010039735585451126, 0.008967519737780094, 0.027783488854765892, 0.022065093740820885, -0.001379679306410253, -0.005473948549479246, -0.018360262736678123, -0.005634397733956575, 0.011822720058262348, -0.009499448351562023, 0.002099168486893177, 0.00176917458884418, -0.009584515355527401, -0.009153232909739017, -0.008604699745774269, 0.008523103781044483, -0.011450417339801788, -0.012081996537744999, -0.014771089889109135, -0.041387658566236496, 0.02314683049917221, 0.022759173065423965, 0.011025683023035526, -0.022896261885762215, -0.010688788257539272, -0.0049856193363666534, 0.006601438391953707, -0.009695424698293209, -0.01660267263650894, -0.00790129229426384, -0.0015890399226918817, -0.004376736469566822, -0.016485871747136116, 0.01994706317782402, -5.249832975096069e-05, 0.021624954417347908, 0.00724515737965703, -0.00850916001945734, 0.00135381321888417, -0.020417476072907448, 0.008625159971415997, 0.019905205816030502, -0.009878807701170444, -0.003065719036385417, 0.01475784182548523, -0.016116218641400337, -0.015888074412941933, 0.00523045938462019, -0.010924614034593105, 0.027304358780384064, 0.02622716873884201, 0.17296373844146729, 0.010113172233104706, 0.054148752242326736, 0.0016908168327063322, -0.008658081293106079, -0.0010538877686485648, -0.004085450898855925, -0.03335175663232803, -0.010275219567120075, -0.004250993486493826, -0.01678634062409401, 0.016116542741656303, 0.002916271099820733, -0.04424036666750908, -0.01444858219474554, 0.00966912042349577, 0.029325304552912712, 0.005755001213401556, 0.006094555836170912, -0.013037257827818394, -0.017183473333716393, -0.011875001713633537, 0.00024533207761123776, -0.005769104231148958, -0.0007934484747238457, -0.0015744110569357872, 0.012560663744807243, 0.021274788305163383, -0.012820698320865631, -0.01444273628294468, -0.026280447840690613, 0.0020930094178766012, -0.010819423012435436, 0.002181956311687827, -0.01269546989351511, -0.0018803435377776623, -0.0289816502481699, 0.005637656431645155, -0.010724283754825592, -0.0018024771707132459, -0.02677910216152668, 0.025373663753271103, -0.0033175749704241753, 0.011868864297866821, 0.01456542406231165, -0.01728612557053566, 0.0027455813251435757, -0.03185521811246872, -0.023844318464398384, 0.02208651229739189, -0.00711467070505023, 0.02632177248597145, -0.035972531884908676, 0.007760015316307545, -0.0010563443647697568, -0.027102038264274597, -0.006282742600888014, 0.016120372340083122, 0.023292044177651405, 0.1918756365776062, 0.00809511262923479, -0.005732471588999033, -0.011820962652564049, -0.006364872679114342, -0.010795406065881252, 0.008372658863663673, 0.004055294208228588, 0.005738984793424606, 0.013656286522746086, -0.018170645460486412, -0.006922184489667416, -0.01548565924167633, -0.019943026825785637, 0.007760573178529739, 0.002307118149474263, -0.05423026531934738, 0.02533348649740219, -0.005365970078855753, 0.0051214382983744144, -0.007012662943452597, -0.00663763890042901, 0.011486390605568886, 0.004343962296843529, -0.0017224568873643875, 0.008187839761376381, 0.00947585515677929, 0.003454181831330061, -0.011506064794957638, -0.008850307203829288, 0.013296051882207394, 0.017036186531186104, -0.0038704602047801018, -0.004637373145669699, -0.018717238679528236, -0.009005177766084671, 0.0025141204241663218, -0.010535033419728279, -0.010631946846842766, -0.021495437249541283, 0.019984053447842598, -0.0014384349342435598, -0.001328835729509592, 0.0009906624909490347, 0.008022048510611057, -0.013450543396174908, -0.006759581621736288, 0.01294784527271986, -0.006808388978242874, 0.019801434129476547, 0.004102013539522886, -0.000587933580391109, 0.003948576282709837, -0.012841147370636463, 0.0012995008146390319, 0.028203358873724937, -0.005738160572946072, 0.007482646964490414, -0.006863174960017204, 0.006640036590397358, -0.0008272103150375187, -0.008555064909160137, -0.012782912701368332, -0.017873065546154976, -0.33626478910446167, -0.017682813107967377, -0.004154429771006107, -0.030102364718914032, 0.01841481775045395, 0.01087797712534666, -0.023145293816924095, 0.009893413633108139, 0.027524961158633232, -0.008750807493925095, -0.019588390365242958, -0.009121183305978775, 0.004598410800099373, -0.0048285783268511295, 0.00868241023272276, -0.10597236454486847, -0.011236999183893204, 0.02208409458398819, 0.01503859180957079, -0.03755265101790428, 0.0076103913597762585, -0.01922537386417389, -0.01537996158003807, 0.012128294445574284, 0.0051410566084086895, 0.021037690341472626, -0.0015085483901202679, 0.024315008893609047, -0.010512332431972027, -0.038336269557476044, -0.0067132869735360146, -0.007201767526566982, -0.03897063434123993, -0.01740211434662342, -0.007684345822781324, -0.004845408257097006, 0.015953706577420235, -0.0017754195723682642, -0.008133292198181152, -0.01798018254339695, -0.004565479699522257, -0.008965374901890755, 0.013976137153804302, -0.012670396827161312, 0.004688581917434931, 0.004234224557876587, -0.0006437647971324623, 0.004593539517372847, -0.0076459902338683605, -0.017376748844981194, -0.00295584206469357, -0.001768441405147314, -0.0007930444553494453, 0.036933768540620804, -0.03100941702723503, 0.0027905029710382223, 0.006859845481812954, -0.014691861346364021, -0.006253918632864952, -0.016000714153051376, 0.03719080612063408, -0.012590727768838406, 0.004421069752424955, -0.010581458918750286, -0.0064367447048425674, 0.0056683458387851715, -0.0012179120676591992, 0.0008070557378232479, 0.011226420290768147, -0.004540028050541878, -0.012835247442126274, 0.013038928620517254, -0.003364122938364744, 0.0188173558562994, 0.00021273089805617929, 0.0026589424815028906, -0.00040040980093181133, -0.010900582186877728, -0.019040271639823914, -0.005572888068854809, -0.026739969849586487, 0.004607367794960737, 0.0142027847468853, 0.019087309017777443, 0.01529480516910553, 0.03136764466762543, -0.00032427359838038683, 0.011301971971988678, -0.015443921089172363, -0.03181702271103859, -0.02191336266696453, 0.008544563315808773, -0.0013934283051639795, 0.009904701262712479, -0.01876913756132126, -0.02127840183675289, 0.015252415090799332, -0.012818503193557262, -0.015304390341043472, -0.016452230513095856, -0.029942618682980537, -0.017711065709590912, 0.0067903585731983185, -0.00462700380012393, -0.02105097658932209, -0.016863444820046425, 0.02941400371491909, -0.0286848284304142, 0.01630173996090889, -0.022222675383090973, -0.005569549277424812, 0.014709653332829475, -0.0019382653990760446, -0.008091431111097336, 0.019037598744034767, 0.011783895082771778, -0.025924453511834145, 0.0045386250130832195, 0.02026558853685856, 0.0028787122573703527, -0.002538887318223715, 0.026163199916481972, -0.0027979090809822083, -0.0036091411020606756, -0.006694441195577383, -0.005714040715247393, -0.007026908453553915, 0.010429134592413902, -0.018542926758527756, 0.004480551462620497, 0.0234640184789896, 0.004170550499111414, 0.013316628523170948, 0.004619251936674118, -0.005338657647371292, -0.010203174315392971, -0.006325891707092524, 0.04573006555438042, -0.006798559334129095, -0.020872807130217552, 0.017703240737318993, 0.01859242282807827, -0.011091925203800201, -0.051238298416137695, -0.001220042584463954, 0.0019281537970528007, -0.010499028488993645, -0.008937154896557331, -0.006843062583357096, 0.005481947213411331, 0.09023641049861908, -0.01813545450568199, 0.017019979655742645, 0.02043289504945278, 0.002773427404463291, 0.007511022500693798, -0.012996417470276356, -0.0007944448734633625, 0.004269357305020094, 0.01028100773692131, -0.014122080989181995, -0.03075963258743286, -0.014490773901343346, -0.011311324313282967, 0.006820735055953264, 0.009320713579654694, 0.014643773436546326, -0.010004986077547073, 0.012062168680131435, -0.012120887637138367, -0.007519639562815428, -0.0006210951250977814, -0.011851307936012745, -0.10191178321838379, 0.0042693037539720535, 0.005167039111256599, -0.019959919154644012, -0.0027486393228173256, -0.01647179201245308, 0.002110544592142105, -0.0026215168181806803, 0.02990945614874363, -0.0035865046083927155, -0.01104577723890543, -0.015325666405260563, 0.0099311713129282, 0.0142268231138587, -0.009132202714681625, -0.03839615732431412, -0.008941816166043282, 0.0070700878277421, -0.00847283098846674, -0.008938469924032688, 0.01605265587568283, -0.09542384743690491, -0.029512634500861168, -0.01018440816551447, 0.012100988067686558, -0.005919903516769409, -0.013067951425909996, 0.0241792481392622, -0.0011723259231075644, 0.008143402636051178, -0.031610459089279175, 0.01611602120101452, 0.003081347094848752, 0.01584145799279213, -0.010079222731292248, -0.0036630004178732634, 0.008027263917028904, 0.01123343501240015, 0.010855753906071186, -0.019408807158470154, -0.016624247655272484, 0.058132514357566833, 0.0009213980520144105, 0.017466885969042778, -0.0017119920812547207, 0.009854099713265896, -0.002937665209174156, 0.0008919166284613311, -0.01395805086940527, -0.002441996708512306, 0.001391272759065032, -0.004396709613502026, -0.013961887918412685, -0.0053457291796803474, -0.006772696506232023, 0.018457243219017982, -0.00750663410872221, 0.011404047720134258, -0.019347187131643295, -0.0002772041189018637, -0.0015221100766211748, 0.007637736853212118, 0.019074970856308937, 0.006463491357862949, -0.010747762396931648, -0.000917007215321064, 0.009020247496664524, -0.07043666392564774, -0.005620068870484829, 0.0988205149769783, 0.0026149507611989975, -0.007696188986301422, -0.015592778101563454, -0.008582237176597118, -0.014625055715441704, 0.0025273561477661133, 0.016996068879961967, -0.005296484101563692, -0.004499754868447781, 0.0019403885817155242, -0.026578687131404877, 0.009690437465906143, -0.03647589311003685, 0.051953013986349106, -0.011089364998042583, 0.020676907151937485, -0.03824162110686302, 0.002792875748127699, -0.003296154784038663, -0.03397602215409279, 0.012835901230573654, 0.0011779589112848043, 0.021323280408978462, -0.02203981950879097, 0.013517889194190502, -0.013579659163951874, -0.002169119892641902, 0.008201666176319122, 0.006985597312450409, 0.004870524164289236, -0.00842670351266861, 0.013174043036997318, 0.020667610689997673, -0.002542469883337617, 0.020537512376904488, 0.011654254049062729, 0.0014587844489142299, -0.0024368190206587315, -0.00795710738748312, -0.006400661543011665, -0.001101080677472055, -0.00016685834270901978, -0.0068692369386553764, -0.013477490283548832, -0.012046684511005878, -0.013003346510231495, 0.009880222380161285, -0.00355382333509624, -0.0057447925209999084, -0.0004855331208091229, 0.00727832829579711, 0.011609568260610104, -0.007143091410398483, -0.002762101823464036, 0.027129439637064934, -0.0067594535648822784, -0.014807154424488544, -0.01824852265417576, -0.01386412512511015, -0.024026818573474884, 0.018122373148798943, 0.004591656848788261, 0.011174483224749565, 0.004182244651019573, 0.020002471283078194, -0.007669884245842695, -0.02339300699532032, -0.014552587643265724, 0.019663197919726372, -0.013931035064160824, -0.006662050727754831, 0.009529120288789272, 0.026607191190123558, -0.02580893784761429, -0.022933533415198326, 0.019687751308083534, 0.031043576076626778, 0.0038816730957478285, -0.009774102829396725, 0.0037540518678724766, -0.015432583168148994, 0.010919523425400257, -0.023593295365571976, 0.006588531192392111, 0.0059592630714178085, 0.0022541393991559744, 0.008649397641420364, -0.03852291405200958, 0.0009672858868725598, 0.008233374916017056, 0.008121888153254986, 0.010196445509791374, -0.02082987315952778, 0.015256605111062527, -0.021286437287926674, 0.01582871936261654, 0.028774909675121307, 0.01939898170530796, -0.000257172534475103, 0.018685460090637207, -0.038406968116760254, 0.011327717453241348, -0.01361053716391325, 0.004877286497503519, 0.005030435509979725, 0.013110117055475712, -0.0023987230379134417, -0.004622852895408869, 0.0010620364919304848, 0.00783357210457325, -0.005467019509524107, -0.005193050019443035, 0.008855695836246014, -0.010739925317466259, 0.02203800156712532, -0.020448682829737663, -1.3604537343780976e-05, 0.017541486769914627, -0.0016226775478571653, -0.01101864967495203, -0.026189396157860756, -0.007192370016127825, -0.003595087444409728, 0.001587988925166428, 0.013247433118522167, -0.01627666875720024, 0.020559171214699745, 0.018768809735774994, 0.001420667045749724, -0.00791743490844965, 0.006804467178881168, -0.00042582457535900176, -0.007690762635320425, -0.010051964782178402, 0.0024336427450180054, -0.006021804176270962, -0.028021328151226044, 0.00632899533957243, 0.008406705223023891, 0.00645778514444828, -0.011028815060853958, 0.015534956939518452, 0.008368427865207195, 0.013722419738769531, -0.012764375656843185, 0.02197907865047455, -0.023249415680766106, 0.006195640191435814, -0.004024402238428593, -0.023619063198566437, 0.006412339396774769, 0.01580895110964775, 0.009042695164680481, 0.009885587729513645, 0.0019887920934706926, 0.021200118586421013, 0.006954435724765062, -0.023892542347311974, -0.012349788099527359, -0.0029998382087796926, 0.0031794116366654634, 0.031504642218351364, 0.0333617702126503, 0.011113965883851051, -0.01275224145501852, -0.002291272394359112, -0.000538340478669852, -0.01931152679026127, -0.012773255817592144, -0.01768428087234497, 0.007478965446352959, -0.012782263569533825, 0.015530962496995926, -0.025679808109998703, 0.007484903559088707, 0.016953350976109505, -0.006512410473078489, 0.016174381598830223, -0.024472102522850037, -0.026712175458669662, 0.012235579080879688, 0.01438177190721035, -0.011714260093867779, -0.028106382116675377, 0.016552092507481575, 0.03874308988451958, -0.00973679032176733, 0.01008442509919405, 0.008194063790142536, -0.012035421095788479, -0.03790932521224022, -0.003326668171212077, 0.011392183601856232, 0.007367681711912155, -0.036511849611997604, -0.01377812772989273, -0.025678226724267006, 0.01287918072193861, 0.009030798450112343, 0.011856192722916603, 0.006761305965483189, 0.003771275281906128, -0.004900367930531502, -0.01806521601974964, -0.00853757094591856, 0.02403787150979042, 0.00195715157315135, -0.01409933716058731, 0.025563327595591545, 0.00777859752997756, -0.013381526805460453, 0.18526235222816467, -0.00012366916052997112, -0.006870228797197342, -0.017651915550231934, -0.015406054444611073, 0.005513112060725689, -0.02127915993332863, -0.002730271080508828, -0.020460575819015503, -0.009926805272698402, 0.0007109824218787253, 0.010495398193597794, 0.06425350904464722, -0.0009345426806248724, -0.006297000218182802, -0.07147421687841415, 0.2459840625524521, 0.02611381746828556, 0.01198275201022625, 0.012013779953122139, 0.023892465978860855, -0.0010278235422447324, 0.00277144368737936, 0.028238743543624878, -0.007669772021472454, 0.006323705893009901, 0.0059347013011574745, 0.011389960534870625, -0.004719355143606663, 0.02057470940053463, -0.004830632824450731, 0.002472619293257594, 0.007529238238930702, 0.0027977635618299246, 0.0002612422686070204, -0.004053324926644564, 0.008315596729516983, -0.004084177780896425, -0.00144162867218256, -0.017008258029818535, 0.0036513416562229395, 0.00959780439734459, 0.022490808740258217, -0.0011352014262229204, -0.03228077292442322, -0.008567655459046364, -0.0009991993429139256, 0.012815040536224842, 0.01344660297036171, 0.025209341198205948, 0.01826142519712448, -0.004152287263423204, -0.0027353849727660418, 0.026656901463866234, -0.005115034524351358, 0.01590864360332489, 0.0014396716142073274, 0.01527244970202446, 0.0001877164759207517, -0.004490218590945005, -0.017063625156879425, 0.0031952811405062675, -0.014964209869503975, -0.015248455107212067, 0.005764803383499384, 0.010749937035143375, 0.001339490176178515, -0.02143891341984272, 0.02936192788183689, 0.051596228033304214, -0.021620670333504677, 0.0005935835652053356, 0.00350349978543818, 0.0035242969170212746, 0.02757108584046364, 0.005311964079737663, 0.03215768560767174, 0.012523740530014038, 0.06908026337623596, 0.012397345155477524, 0.003134487196803093, -0.001365015166811645, -0.04604102671146393, -0.010713026858866215, -0.010679499246180058, 0.011102531105279922, 0.02434518374502659, 0.011545677669346333, 0.007025801111012697, 0.02080867625772953, -0.008398515172302723, -0.012860731221735477, 0.013985496014356613, 0.020163414999842644, -0.007056372240185738, 0.0111252311617136, 0.005341682583093643, -0.022037791088223457, -0.010358573868870735, -0.0004809484235011041, 0.00037978251930326223, -0.00673414021730423, -0.007720908150076866, 0.012510137632489204, -0.002760909730568528, -0.01883837580680847, 0.0036306658294051886, -0.01829930953681469, -0.017927180975675583, 0.0014854937326163054, 0.03213736414909363, 0.007035624701529741, -0.050215188413858414, -0.022035593166947365, -0.004752444569021463, -0.015404880978167057, 0.025305356830358505, 0.008192296139895916, -0.003676784224808216, 0.004739743657410145, 0.012122254818677902, 0.0016954841557890177, 0.022512130439281464, -0.005951196886599064, 0.010976295918226242, -0.010002720169723034, -0.005703431088477373, 0.01118172612041235, -0.005851954687386751, -0.001663610222749412, -0.015846434980630875, -0.005393686704337597, 0.025829462334513664, 0.002413575304672122, 0.005147019866853952, 0.008822720497846603, -0.0025597275234758854, -0.013829327188432217, 0.013462242670357227, 0.015897627919912338, 0.004615217912942171, -0.09677306562662125, 0.013944841921329498, -0.03161470964550972, 0.015171905048191547, 0.011593413539230824, -0.058661848306655884, 0.004603112116456032, 0.028129518032073975, 0.00416632229462266, 0.039681632071733475, 0.009989950805902481, -0.003492129035294056, 0.012914455495774746, 0.013414842076599598, -0.0055100321769714355, -0.007867341861128807, -0.10609930753707886, -0.015518479980528355, 0.02312922477722168, -0.022539900615811348, 0.016478272154927254, 0.021034827455878258, 0.0032131094485521317, 0.014937261119484901, -0.005241321865469217, -0.006838568951934576, 0.0037895350251346827, 0.019963890314102173, 0.007005305029451847, -0.013959218747913837, 0.009932895191013813, -0.01472026202827692, 0.00163961760699749, 0.006068198010325432, -0.015692971646785736, -0.006604684982448816, 0.008298487402498722, -0.038600001484155655, -0.01232745312154293, 0.019795889034867287, 0.003451279364526272, -0.02184949442744255, -0.030992360785603523, -0.007007692474871874, 0.006404384039342403, 0.023921839892864227, -0.00395586621016264, 0.019296815618872643, 0.004495917819440365, -0.01355656236410141, -0.0014147706096991897, -0.0007328259525820613, -0.023423705250024796, -0.005724139511585236, 0.014963223598897457, -0.02004605159163475, 0.018283041194081306, -0.01587698981165886, 0.005604572128504515, -0.028646012768149376, 0.01989964209496975, 0.001374766114167869, -0.03290755674242973, -0.03952932730317116, -0.020673006772994995, 0.01629885658621788, 0.02055967040359974, 0.017831455916166306, -0.0028791853692382574, 0.014046831987798214, -0.03067658096551895, 0.011960259638726711, -0.007619903888553381, 0.0008389207068830729, 0.006175112444907427, -0.010032275691628456, -0.012232701294124126, -0.020512627437710762, -0.015112288296222687, 0.006589687429368496, 0.014141473919153214, 0.024014761671423912, -0.008738426491618156, -0.016129227355122566, -0.002051064744591713, 0.02234456315636635, 0.11461593210697174, 0.007814786396920681, -0.024495165795087814, -0.019489267840981483, -0.016348442062735558, 0.01662258990108967, 0.013769080862402916, 0.03634887561202049, 0.025034138932824135, 0.0061952220275998116, 0.004245416261255741, 0.009019886143505573, 0.006824270356446505, -0.020735321566462517, -0.005531798582524061, -0.001599821145646274, -0.011855109594762325, 0.014064530842006207, 0.02510264702141285, -0.004896572325378656, -0.006022291257977486, -0.020341580733656883, 0.01420807745307684, -0.023916883394122124, -0.05816226452589035, 0.0018431118223816156, -0.014232490211725235, 0.014397998340427876, 0.005001052748411894, 0.01831817626953125, 0.009047513827681541, 0.017704052850604057, -0.00652370136231184, -0.003649742342531681, -0.010109171271324158, -0.008076410740613937, -0.011081041768193245, -0.005008790176361799, 0.04334176331758499, -0.009166251868009567, -0.0001999716041609645, -0.000843733549118042, -0.024659765884280205, -0.02611093409359455, -0.007233401294797659, 0.017658688127994537, -0.04203735291957855, -0.000602295040152967, -0.009913728572428226, -0.009454289451241493, -0.024844927713274956, -0.010200923308730125, -0.007644750643521547, 0.06047700718045235, 0.0218709334731102, -0.01590900495648384, -0.006592912599444389, 0.016018159687519073, 0.0019764630123972893, 0.022517846897244453, -0.037324972450733185, 0.012976735830307007, 0.030141478404402733, -0.023570897057652473, 0.0007767583592794836, 0.028376709669828415, -0.006428647320717573, 0.011950432322919369, -0.0020385500974953175, -0.026384256780147552, -0.009464179165661335, 0.001789191155694425, -0.01612909883260727, 0.012001539580523968, -0.010513913817703724, 0.013735214248299599, 0.014676356688141823, -0.004256498534232378, 0.021266605705022812, 0.015699103474617004, 0.010051299817860126, -0.004546801559627056, 0.00609238538891077, 0.018199674785137177, -0.0061426409520208836, 0.008110702969133854, -0.007307490333914757, -0.006327936425805092, -0.029437266290187836, -0.0002974804665427655, 0.010075376369059086, 0.0038184067234396935, -0.006272710394114256, -0.009828985668718815, -0.1327049285173416, -0.013608354143798351, -0.009718376211822033, -0.004655418451875448, 0.010942083783447742, 0.02687881700694561, -0.016534779220819473, -0.00458110636100173, 0.01942254602909088, 0.0077246446162462234, -0.00790119357407093, -0.03901473805308342, 0.006813446991145611, 0.0053774346597492695, -0.010181302204728127, 0.009211859665811062, 0.02366241067647934, 0.0035067577846348286, 0.0060294317081570625, -0.006198883056640625, -0.0012523903278633952, -0.009095469489693642, 0.00023049402807373554, -0.007650644518435001, -0.008514788933098316, -0.006602673325687647, 0.006709083914756775, 0.01041162945330143, -0.015087539330124855, -0.0019158823415637016, -0.0011496116640046239, 0.0061894869431853294, 0.03607666864991188, 0.003044047160074115, -0.012928489595651627, -0.01320506539195776, -0.0124789047986269, -0.004794124513864517, -0.009842530824244022, -0.0032727201469242573, 0.03169087693095207, 0.0029769742395728827, -0.025567185133695602, -0.014813734218478203, -0.012114917859435081, 0.002027343725785613, -0.022091301158070564, -0.018801743164658546, 0.01251577865332365, 0.013615015894174576, 0.013508995994925499, 0.020326364785432816, 0.020146118476986885, 0.008385024964809418, -0.0019521622452884912, 0.02065763622522354, 0.0029832154978066683, -0.02435816451907158, -0.0042215934954583645, -0.00466605369001627, -0.0036712773144245148, 0.004628955852240324, 0.0039580585435032845, 0.029096290469169617, 0.012058166787028313, 0.008405979722738266, 0.0007548790890723467, -0.012624717317521572, 0.009575732983648777, 0.011916939169168472, -0.016721725463867188, 0.01845422387123108, -0.034524671733379364, 0.00023834673629608005, -0.0008226187201216817, 0.005686596501618624, 0.006113179959356785, 0.12445923686027527, 0.009640811942517757, 0.01620548963546753, 0.03093281388282776, -0.038663916289806366, 0.010604542680084705, -0.014754383824765682, -0.01598907634615898, -0.036280903965234756, 0.012598446570336819, 0.015424964018166065, -0.021832603961229324, -0.0028416167479008436, 0.024035107344388962, -0.025105642154812813, -0.011245262809097767, 0.017532391473650932, -0.019892480224370956, 0.007972060702741146, 0.0025648889131844044, 0.0008449604501947761, -0.005903196986764669, -0.0004155368951614946, 0.019261540845036507, -0.01803506724536419, 0.011541381478309631, -0.002524388488382101, 0.010707185603678226, 0.009998627007007599, 0.007099580951035023, -0.0005271171103231609, 0.0015029575442895293, 0.0013217019150033593, -0.01293860748410225, -0.011544733308255672, -0.009489522315561771, 0.010828214697539806, -0.01597193069756031, -0.018602855503559113, 0.0176918376237154, 0.021065471693873405, -0.009702357463538647, -0.03052159957587719, -0.010935683734714985, -0.019884580746293068, 0.012493760325014591, -0.03264981508255005, 0.008414306677877903, 0.011967064812779427, -0.0013705724850296974, -0.03594443202018738, 0.003885403275489807, -0.01004012767225504, -0.007252735085785389, -0.005667579360306263, -0.0007826794753782451, 0.00561954639852047, -0.00615560170263052, 0.007694216910749674, -0.003929405938833952, 0.0028773259837180376, 0.0040457239374518394, -0.04756395146250725, -0.00726435799151659, 0.010437862947583199, -0.016054663807153702, 0.016131309792399406, -0.007857326418161392, -0.02269044518470764, 0.00447271391749382, -0.013489047065377235, 0.01079149916768074, -0.00026401784271001816, -0.027667269110679626, -0.05521000176668167, 0.013871585950255394, 0.012602301314473152, -0.014642366208136082, 0.0020474190823733807, 0.00740392180159688, 0.01933959871530533, 0.014195302501320839, 0.009248906746506691, 0.002986007835716009, -0.02130342461168766, 0.027127910405397415, 0.007834424264729023, -0.020363781601190567, -0.016402723267674446, 0.00210296967998147, 0.009089727886021137, 0.024657977744936943, -0.02394183538854122, 0.011468106880784035, 0.027944060042500496, -0.024126308038830757, -0.031020620837807655, -0.009701593779027462, 0.003566255560144782, 0.009168473072350025, 0.10436615347862244, 0.026530060917139053, -0.011651787906885147, -0.006194124463945627, -0.008311598561704159, 0.014536526054143906, 0.014877899549901485, -0.0038555944338440895, -0.011882630176842213, 0.010977760888636112, -0.0031267984304577112, 0.001993408892303705, -0.009975219145417213, 0.02769683487713337, -0.0029778270982205868, -0.03451988473534584, 0.2039523720741272, -0.011416221968829632, -0.05668816342949867, 0.031055273488163948, -0.015401498414576054, 0.02521444670855999, 0.004667723551392555, 0.07960381358861923, -0.012914247810840607, 0.019695524126291275, -0.027446134015917778, 0.015682103112339973, -0.007122310344129801, -0.031490832567214966, -0.022905727848410606, -0.03023998811841011, -0.0185480285435915, 0.003002517158165574, 0.01363723911345005, -0.03447563201189041, -0.008602387271821499, -0.011189769953489304, -0.0007328573847189546, -0.011778958141803741, 0.0002163761673728004, -0.00502583384513855, -0.003735761158168316, -0.012930979020893574, -0.002044073538854718, -0.0038395021110773087, 0.0004306682385504246, 0.01879836432635784, 0.007232385221868753, 0.02889425866305828, -0.0018407577881589532, -0.009017400443553925, 0.017176903784275055, -0.006098753307014704, -0.01942705176770687, 0.012770210392773151, 0.028087742626667023, 0.004422969184815884, -0.016918957233428955, 0.0006425260799005628, -0.08358445763587952, 0.017430288717150688, 0.0039515248499810696, -0.002520289272069931, -0.005731108598411083, -0.018104804679751396, 0.0069338176399469376, -0.010272408835589886, -0.001919612055644393, 0.0031046827789396048, 0.013471117243170738, -0.024121969938278198, 0.010894505307078362, 0.0070271301083266735, 0.01594465970993042, -0.01994866505265236, -0.06750993430614471, -0.19883988797664642, -0.0060472250916063786, -0.006903091911226511, -0.015728097409009933, 0.010015849024057388, 0.03737097233533859, 0.014467420056462288, 0.004912224598228931, 0.011688124388456345, 0.011865353211760521, -0.006786389742046595, -0.016197942197322845, -0.0078058443032205105, 0.02264920435845852, -0.01851046085357666, 0.01324878167361021, -0.01692816987633705, 0.005241429898887873, -0.026539361104369164, 0.011194762773811817, 0.007914070039987564, -0.003987862728536129, -0.0014172563096508384, 0.006000535096973181, -0.016804443672299385, -0.0011617158306762576, 0.005447260569781065, 0.008036567829549313, -0.018939286470413208, 0.016250181943178177, 0.02636566571891308, 0.00988289900124073, -0.02037128247320652, 0.0061831106431782246, 0.005633756052702665, 0.016390841454267502, 0.010224013589322567, -0.04470743611454964, -0.020746460184454918, 0.015090113505721092, -0.035315148532390594, -0.0025388377252966166, -0.013210756704211235, -0.04536139965057373, 0.01388558093458414, -0.024623632431030273, -0.014365045353770256, -0.002299359068274498, 0.0030908852349966764, 0.004546672105789185, 0.009678677655756474, -0.01738048531115055, -0.015079997479915619, 0.014214158058166504, 0.0026915741618722677, 0.014514711685478687, -0.030699657276272774, -0.018115945160388947, -0.02075234055519104, 0.0349653959274292, 0.0028430300299078226, 0.004391037859022617, -0.031141169369220734, -0.13099820911884308, -0.02718786895275116, 0.01577460579574108, 0.02043304219841957, 0.008317452855408192, -0.020552435889840126, -0.004310034215450287, -0.014432065188884735, -0.00224346318282187, 8.018682819965761e-06, -0.002688040491193533, 0.008030062541365623, 0.003166300244629383, -0.0022535263560712337, -0.010145370848476887, -0.01769203320145607, -0.00477804709225893, 0.010614785365760326, 0.016888029873371124, 0.006251798942685127, 0.012488671578466892, -0.011722177267074585, 0.014709794893860817, -0.005043375305831432, -0.021898213773965836, -0.007317765150219202, -0.010328900068998337, 0.008449059911072254, 0.00040432068635709584, -0.0332237184047699, 0.000457011308753863, 0.013301151804625988, 0.01534077525138855, 0.016436025500297546, 0.00673254020512104, -0.022663546726107597, -0.032024938613176346, 0.001567689934745431, 0.01955101080238819, 0.015698101371526718, 0.004160620737820864, -0.01017380878329277, 0.0030385712161660194, -0.010738284327089787, -0.007307104300707579, -0.006969574373215437, -0.022560952231287956, 0.01899036578834057, -0.014009704813361168, 0.011703251861035824, 0.018987486138939857, 0.02949841506779194, 0.029023990035057068, 0.01195288822054863, 0.014263820834457874, -0.01652979850769043, -0.02924443781375885, -0.025028390809893608, -0.013067438267171383, -0.010486513376235962, 0.002349643502384424, -0.007099166512489319, 0.04626428708434105, -0.006147758569568396, -0.0005064783035777509, 0.003916815388947725, -0.014700914733111858, 0.02247135154902935, -0.006732615642249584, -0.01140543445944786, 0.013588499277830124, -0.008378325030207634, 0.01471876259893179, -0.033558521419763565, 0.016269274055957794, -0.019152501598000526, 0.005252225324511528, 0.01663377694785595, -0.0003187874681316316, 0.0014352743746712804, 0.010008983314037323, 0.01644996926188469, 0.029595809057354927, -0.019056083634495735, 0.0035891749430447817, 0.01074446551501751, 2.1510997612494975e-05, -0.003070223843678832, -0.01629704423248768, -0.009455375373363495, 0.00689317099750042, -0.028927713632583618, 0.0003020621370524168, -0.0031195173505693674, 0.017130792140960693, -0.015084026381373405, -0.0012305714190006256, 0.036163218319416046, 0.01586991362273693, 0.010625592432916164, 0.004287219140678644, -0.0022975413594394922, -0.005869249813258648, 0.010896689258515835, 0.015026996843516827, 0.018374500796198845, -0.006069942377507687, 0.01713036186993122, -0.008231368847191334, 0.0019504610681906343, -0.029438741505146027, -0.016419824212789536, -0.0008482970297336578, -0.0033512928057461977, -0.028666183352470398, -0.015232491306960583, -0.013649736531078815, 0.01693280227482319, -0.03936758264899254, -0.08305889368057251, 0.01385741401463747, -0.0054982188157737255, -0.009895342402160168, 0.0030335511546581984, 0.014267287217080593, -0.010297443717718124, 0.021318912506103516, 0.028993796557188034, -0.026906967163085938, -0.021766794845461845, -0.003100324422121048, 0.08996026962995529, 0.0028628590516746044, 0.008017290383577347, 0.00810862798243761, 0.0024125645868480206, 0.0032770801335573196, 0.006000623572617769, 0.02572900615632534, -0.026257114484906197, -0.15248186886310577, 0.006976346019655466, -0.008799206465482712, -0.0019516556058079004, -0.005074760876595974, -0.006431602407246828, -0.0015747126890346408, -0.09588582068681717, -0.023444078862667084, 0.00402069790288806, -0.032574817538261414, -0.11837681382894516, 0.031581468880176544, -0.003418529173359275, 0.011549797840416431, 0.010561048984527588, 0.012486549094319344, 0.01925964653491974, -0.019197657704353333, 0.03060012310743332, 0.030440298840403557, 0.008428842760622501, 0.0073911105282604694, 0.009171538054943085, -0.014230553060770035, -0.030071744695305824, 0.003914825618267059, -0.009644283913075924, 0.022691961377859116, 0.002976918127387762, 0.022848984226584435, 0.008913162164390087, 0.013686571270227432, 0.00383253232575953, -0.0005709604592993855, 0.019072288647294044, 0.005843547638505697, 0.005105525255203247, 0.006534241605550051, 0.013428314588963985, -0.045292943716049194, 0.016750505194067955, 0.0003760558902285993, 0.01306373905390501, 0.00528037128970027, -0.015957258641719818, -0.008968952111899853, -0.029592884704470634, -5.372008672566153e-05, 0.026083730161190033, 0.006169864442199469]\",\n          \"[0.0202231053262949, 0.014506140723824501, 0.005884339101612568, -0.0011950137559324503, -0.017597362399101257, -0.008839963003993034, 0.007585184182971716, 0.017156029120087624, 0.004577283281832933, -0.0019652624614536762, 0.003206069814041257, -0.032337818294763565, -0.0013260868145152926, -0.017328884452581406, 0.012438773177564144, 0.01886565610766411, 0.016757775098085403, 0.009862232021987438, -0.016810422763228416, 0.005526277236640453, 0.010045862756669521, 0.005871837493032217, -0.003545063314959407, -0.00972394086420536, -0.014708778820931911, 0.028548408299684525, 0.004054221324622631, 0.009719409979879856, -0.017671475186944008, 0.015090019442141056, 0.007969634607434273, -0.006169463507831097, -0.01579136773943901, -0.010603821836411953, 0.008311199955642223, 0.018326831981539726, -0.013028742745518684, 0.027633853256702423, 0.022581685334444046, 0.009706757962703705, 0.010569515638053417, -0.012250591069459915, 0.02112465538084507, -0.010217688046395779, -0.016519583761692047, 0.0024907346814870834, 0.013682103715837002, 0.017807098105549812, -0.009902064688503742, -0.023913459852337837, -0.008681979030370712, -0.012492210604250431, -0.04651418328285217, 0.0067258430644869804, -0.011272658593952656, -0.017855575308203697, 0.011103574186563492, 0.007237748242914677, -0.020392201840877533, -0.006748064886778593, 0.002148321596905589, 0.011055167764425278, -0.0072892517782747746, 0.006417303811758757, 0.0025400843005627394, 0.009977995418012142, 0.0044727446511387825, 0.035731926560401917, 0.00873363297432661, -0.0034739533439278603, -0.021234998479485512, -0.00878847111016512, -0.00638418085873127, 0.03728305920958519, 0.016281552612781525, -0.008084346540272236, -0.02119351364672184, -0.0015907029155641794, -0.002525146584957838, 0.003346051089465618, -0.014953996054828167, 0.006255429238080978, -0.005958853755146265, 0.00012855762906838208, -0.006738454103469849, -0.006080795079469681, -0.0005795017932541668, 0.03302404657006264, -0.005244008731096983, 0.018834823742508888, -0.01655149832367897, -0.013447056524455547, -0.016499977558851242, -0.011694859713315964, 0.008584574796259403, 0.004809444770216942, -0.01411881111562252, 0.023006988689303398, -0.054475776851177216, 0.02451428584754467, 0.02390427142381668, -0.003577114548534155, 0.007452858611941338, 0.0044068931601941586, 0.0012257304042577744, -0.0008896177751012146, -0.001222122460603714, -0.0030927055049687624, -0.007528042886406183, -0.0055153220891952515, -0.01278124749660492, -0.015776092186570168, 0.015885595232248306, 0.020930595695972443, 0.04340691119432449, 0.009493175894021988, 0.038858260959386826, -0.005469131283462048, 0.0003346871817484498, 0.022717757150530815, 0.0074210576713085175, -0.00393637316301465, 0.01740657351911068, -0.01691054366528988, -0.01456440705806017, -0.013524821028113365, -0.004216867499053478, -0.0006418406264856458, 0.018309466540813446, 0.032134752720594406, 0.13333167135715485, -0.014403875917196274, -0.006739469710737467, 0.018729057163000107, -0.01869107596576214, -0.020749496296048164, -0.022214598953723907, -0.026295823976397514, -0.019290192052721977, 0.001320310402661562, 0.0023644797038286924, 0.008080492727458477, 0.0013009109534323215, -0.012684660032391548, -0.016907064244151115, -0.007935749366879463, 0.032286375761032104, 0.01797339878976345, -0.0012777504744008183, 0.0009871356887742877, 0.00020523327111732215, 0.004133921582251787, -0.007495255675166845, -0.018801750615239143, -0.0002821176312863827, -0.0031341034919023514, -0.013069531880319118, 0.05645543336868286, 0.010446574538946152, -0.00789577979594469, -0.015201172791421413, -0.026696929708123207, -0.014142238534986973, -0.005549997091293335, -0.033231284469366074, 0.0063605159521102905, 0.0005836892523802817, -0.001444976544007659, -0.015177649445831776, -0.02336478978395462, -0.15271654725074768, 0.03957425802946091, 0.007900803349912167, 0.02080010063946247, -0.00771286292001605, -0.032269399613142014, 0.01526790764182806, 0.02592105232179165, 0.006887828931212425, 0.0020438856445252895, -0.021940510720014572, 0.01601509377360344, -0.009786268696188927, -0.0021817078813910484, -0.020911186933517456, -0.058994945138692856, -0.01054468099027872, -0.01813867688179016, 0.025761600583791733, 0.15177622437477112, 0.0010132318129763007, -0.0129312165081501, -0.009336580522358418, -0.036285292357206345, 0.0008398161735385656, 0.009185271337628365, -0.0006044527399353683, -0.008380490355193615, 0.00913983304053545, -0.005669943522661924, -0.0024667992256581783, -0.021632716059684753, 0.005707839969545603, 0.008293531835079193, -0.013157402165234089, -0.11046908795833588, 0.006130489986389875, 0.005882418714463711, 0.0012201766949146986, 0.02678169310092926, 0.007060502655804157, 0.0018593893619254231, -0.015352784655988216, -0.00433260528370738, 0.008859549649059772, -0.01529739610850811, -0.01657111383974552, -0.0017963910941034555, 0.0006897312705405056, -0.0056768739596009254, 0.009440738707780838, -0.011296896263957024, 0.01484617404639721, 0.0023373099975287914, 0.0054364134557545185, -0.008726969361305237, 0.008853946812450886, 0.012779900804162025, -0.006208735052496195, 0.01629507541656494, 0.0019840430468320847, -0.004263246897608042, 0.013830271549522877, -0.010046889074146748, 0.0002084010629914701, -0.00240195170044899, 0.0019903392530977726, -0.004857451189309359, 0.044299084693193436, 0.013785089366137981, 0.003267609979957342, -0.0042623779736459255, 0.0028478780295699835, -0.002478094305843115, 0.04805343970656395, -0.0025231665931642056, -0.034042250365018845, -0.014968974515795708, 0.018084142357110977, -0.013156745582818985, 0.015002173371613026, -0.02030233107507229, -0.0019876675214618444, -0.33438432216644287, -0.013143076561391354, -0.0014279276365414262, -0.02395111694931984, 0.02249559946358204, 0.003621735842898488, -0.017225176095962524, -0.0024494342505931854, 0.03483044356107712, 0.005451926030218601, -0.02421555481851101, -0.03526461124420166, -0.0062734950333833694, 0.00017594073142390698, -0.019439103081822395, -0.0713997483253479, -0.013783032074570656, 0.015818839892745018, 0.010846330784261227, -0.020261665806174278, 0.004055535886436701, -0.022530488669872284, 0.0010081230429932475, -0.0025230273604393005, 0.002924299566075206, -0.0013859882019460201, 0.014432909898459911, 0.0032624835148453712, -0.008098351769149303, -0.041091956198215485, -0.010569246485829353, -0.003130390541628003, -0.04258319362998009, -0.011369718238711357, -0.01559259183704853, -0.009423879906535149, 0.019425509497523308, -0.033207379281520844, -0.006054225843399763, 0.03011382929980755, -0.01086844690144062, -0.010863411240279675, 0.005099465139210224, -0.019633831456303596, 0.01032006461173296, -0.005352037958800793, -0.003995043225586414, -0.028521154075860977, -0.022587014362215996, -0.029351022094488144, 0.00294382032006979, 0.011673970147967339, -0.0025126675609499216, 0.006608139723539352, -0.019895464181900024, -0.0021948448847979307, 0.002526523545384407, 0.004593353718519211, -0.020618343725800514, -0.04079645499587059, 0.056908220052719116, -0.015722697600722313, 0.0225119236856699, 0.005153259262442589, -0.03402113541960716, -0.00876571424305439, -0.007043288554996252, -0.005297363270074129, 0.017063196748495102, -0.0012448319466784596, -0.026968594640493393, 0.027414727956056595, -0.00514510553330183, -0.0018174397991970181, 0.0189936775714159, 0.006927580572664738, -0.013758309185504913, 0.0005493454518727958, -0.0049145095981657505, 0.00637866510078311, -0.007841954939067364, 0.0030942708253860474, 0.027002327144145966, 0.004999516531825066, -0.0014577056281268597, 0.035999495536088943, 0.001882928772829473, 0.011093142442405224, -0.006021532695740461, 0.008471746928989887, -0.011198018677532673, -0.00923370011150837, 0.016872916370630264, -0.0037905036006122828, 0.00940903089940548, -0.012638837099075317, 0.01747722551226616, 0.021107131615281105, -0.04110915958881378, -0.00403597904369235, -0.02634699083864689, -0.03167996555566788, 0.015565857291221619, -0.0008534545777365565, -0.03375638648867607, -0.010636706836521626, 0.031169092282652855, -0.020698044449090958, 0.005895949434489012, -0.020658321678638458, -0.013769267126917839, 0.014507993124425411, 0.017165297642350197, -0.009668904356658459, 0.009607645682990551, 0.006997416727244854, -0.014309843070805073, 0.03578013554215431, 0.010317574255168438, 0.01802811026573181, 0.014582058414816856, -0.0008806026889942586, 0.005092007573693991, -0.0008300848421640694, -0.0009960850002244115, -0.011784595437347889, -0.006089492700994015, 0.009076840244233608, 0.009014786221086979, 0.02074652723968029, 0.029386300593614578, -0.005633798893541098, -0.005496888421475887, 0.0015733068576082587, 0.006660501006990671, 0.010017575696110725, 0.001184693886898458, 0.04139849171042442, -9.551808761898428e-05, -0.029482891783118248, 0.04856604337692261, -0.02483374997973442, -0.00016420474275946617, -0.045318473130464554, -0.02442275919020176, 0.0012059061555191875, -0.0053175087086856365, 0.012551430612802505, -0.01102861762046814, 0.010645139962434769, 0.08849760890007019, 0.024424336850643158, -0.016673244535923004, 0.020105237141251564, 0.005941805429756641, -0.014676212333142757, -0.0030945674516260624, -0.006603382062166929, -3.767926318687387e-05, 0.02726970613002777, 0.012047631666064262, -0.015783090144395828, -0.020954880863428116, 0.0037105330266058445, 0.014939871616661549, -0.013675863854587078, 0.033274222165346146, -0.01719091273844242, -0.0007397284498438239, -0.008304856717586517, -0.004178276285529137, 0.015242354944348335, -0.0032022178638726473, -0.07120755314826965, 0.005291055887937546, -0.004069823306053877, -0.0032922045793384314, -0.0071306386962533, 0.008384608663618565, 0.02111796848475933, 0.013974099420011044, -2.750204293988645e-05, 0.001904526841826737, -0.017560675740242004, 0.0032571149058640003, 0.013035397045314312, -0.009246444329619408, -0.021833252161741257, -0.009696855209767818, -0.020394790917634964, 0.0025841642636805773, -0.0034595634788274765, 0.014699066057801247, -0.002528682816773653, -0.06863684207201004, 0.02960992604494095, -0.011518941260874271, 0.012111889198422432, -0.005524065345525742, -0.01851052977144718, -0.0011801508953794837, -0.0034241569228470325, 0.006336991209536791, -0.00600802106782794, -0.006971166469156742, 0.020030593499541283, 0.02226605825126171, 0.00011546278255991638, 0.014822673983871937, 0.0007613543421030045, -0.011564339511096478, -0.015472720377147198, -0.017204662784934044, 0.01915167272090912, 0.05059071257710457, -0.009676646441221237, -0.00852340180426836, -0.018000781536102295, 2.2822463506599888e-05, -0.006115549243986607, 0.008549782447516918, -0.021960163488984108, -0.01644953526556492, -0.004129752051085234, -0.024607006460428238, 0.00878746435046196, -0.006422184407711029, -0.023011157289147377, -0.0073680696077644825, -0.022820327430963516, -0.004849083721637726, -0.025027476251125336, -0.026966754347085953, 0.020690685138106346, 0.015834230929613113, 0.00988610927015543, -0.018246565014123917, -0.010832910425961018, -0.013050594367086887, 0.0028414344415068626, -0.08265115320682526, -0.006216672249138355, 0.09825198352336884, -0.00291810161434114, -0.002461256692185998, -0.007098340895026922, 0.009600828401744366, 0.024457138031721115, -0.0278305783867836, 0.010663059540092945, -0.011126743629574776, -0.0017162469448521733, -0.01036084070801735, -0.0050939093343913555, 0.008663926273584366, 0.0033451970666646957, 0.02540970779955387, -0.0069328732788562775, 0.006424947176128626, -0.030020980164408684, 0.009619106538593769, -0.028404487296938896, -0.02266766130924225, 0.016998160630464554, 0.004461264703422785, 0.019212104380130768, -0.009750941768288612, 0.008978900499641895, 0.01009867899119854, -0.03369288891553879, 0.012784572318196297, 0.008441940881311893, 0.016651412472128868, 0.0022300039418041706, 0.030712973326444626, -0.011427675373852253, -0.017313336953520775, 0.04882415011525154, -0.0007272982620634139, 0.01478902343660593, -0.014023340307176113, -0.02927144058048725, 0.008022730238735676, -0.0008362244116142392, -0.00210013915784657, -0.01966896280646324, 0.020365124568343163, -0.0012142519699409604, -0.017069080844521523, 0.011305220425128937, -0.010711384937167168, -0.017359668388962746, -0.003475693054497242, 0.0026934719644486904, 0.0250718891620636, -0.01566651649773121, -0.03134935721755028, 0.021007724106311798, -0.011360330507159233, -0.01073112990707159, -0.0010714356321841478, -0.012415229342877865, -0.0033523046877235174, -0.01893707551062107, 0.0020693852566182613, 0.007351886015385389, -0.00318622007034719, 0.023544885218143463, -0.0010849996469914913, -0.007174339611083269, -0.011428672820329666, -0.0030211431439965963, -0.01992391236126423, 0.008252914063632488, 0.017452536150813103, 0.010810301639139652, 0.010657276026904583, -0.010818160139024258, 0.013895655982196331, 0.03160066530108452, 0.014100180007517338, -0.0049911546520888805, -0.00806686095893383, -0.0168259646743536, 0.028727589175105095, -0.03156356140971184, -0.011572830379009247, -0.005228868220001459, -0.007037030998617411, 0.019405391067266464, -0.016866372898221016, -0.039873216301202774, 0.01130458153784275, 0.002816037042066455, 0.010721120052039623, -0.00866518635302782, -0.013933902606368065, -0.004018531646579504, 0.015402424149215221, 0.002279378706589341, 0.016248777508735657, 0.0077231875620782375, -0.0007956683984957635, 0.00037675697240047157, 0.012149258516728878, 0.017265699803829193, 0.0035474449396133423, 0.014446229673922062, 0.008921980857849121, 0.01861894503235817, -0.012984425760805607, -0.006455055437982082, 0.0064376350492239, 0.02323947660624981, -0.017171097919344902, 0.00015497500135097653, 0.0024252040311694145, 0.03180703520774841, -0.053273364901542664, 0.015900995582342148, 0.0072285085916519165, 0.016293475404381752, 0.0022061136551201344, -0.02284715510904789, -0.026834605261683464, -0.0279921293258667, -0.0037230264861136675, 0.014096261002123356, -0.008887951262295246, 0.015371716581285, -0.0008234291453845799, 0.015213234350085258, 0.003833906026557088, 0.0031951123382896185, -0.0010030311532318592, -0.0005861219251528382, 0.010197830386459827, 0.014087949879467487, 0.006490164902061224, -0.0206418689340353, -0.016988908872008324, 0.03767883777618408, -0.012794092297554016, 0.01686270348727703, -0.003572904970496893, 0.008317703381180763, 0.019519450142979622, -0.003015285125002265, -0.0009188768453896046, -0.01948213391005993, 0.011331954039633274, 0.013518036343157291, -0.043878234922885895, -0.01586342416703701, 0.022105086594820023, 0.0048384638503193855, -0.01414509117603302, -0.016868693754076958, -0.036712098866701126, 0.02170097827911377, -0.00039761472726240754, -0.014371138997375965, -0.001923785195685923, 0.01792568899691105, -0.00519829336553812, 0.03153879940509796, -0.012617490254342556, -0.0022949911653995514, -0.00916624628007412, -0.04518207162618637, -0.0022651036269962788, -0.01719924993813038, -0.010664917528629303, -0.018572716042399406, 0.000228266348131001, -0.0061766840517520905, -0.012861833907663822, -0.021358750760555267, -0.01579020731151104, 0.0015717967180535197, 0.0009119248716160655, -0.0034612154122442007, -0.021147580817341805, -0.0019852248951792717, -0.009701995179057121, 0.015882190316915512, 0.0008020284585654736, -0.009754355065524578, -0.0044707609340548515, 0.017423786222934723, 0.005228459369391203, -0.0003639738424681127, -0.01981506124138832, 0.0028540657367557287, 0.01829059235751629, 0.01861070655286312, 0.028874993324279785, -0.022825589403510094, 0.005828409921377897, -0.015984496101737022, 0.003159919520840049, 0.016074292361736298, -0.010747930966317654, -0.014442423358559608, 0.018436675891280174, -0.009847277775406837, -0.023867467418313026, 0.00494101969525218, 0.014006777666509151, -0.001910775899887085, 0.00789425428956747, 0.0167935062199831, 0.009672222658991814, -0.051357828080654144, 0.14626283943653107, 0.025953443720936775, -0.008185822516679764, -0.01118973083794117, -0.003550854977220297, 0.018787361681461334, -0.01753104478120804, 0.01135985553264618, -0.0036793523468077183, -0.006113909184932709, -0.009641124866902828, 0.021609382703900337, 0.025393927469849586, -0.002299380488693714, -0.019071565940976143, -0.02613186277449131, 0.2639235854148865, 0.012783026322722435, 0.04130874574184418, 0.0008426861022599041, -0.0009833603398874402, -0.014113234356045723, -0.00970447063446045, 0.0032575391232967377, 0.009791827760636806, -0.015421138145029545, -0.008012485690414906, 0.016908511519432068, 0.0014283909695222974, 0.01217119675129652, -0.017042873427271843, -0.012188459746539593, 0.014995335601270199, 0.017269475385546684, 0.0007955583860166371, 0.0001806091022444889, -0.00824889075011015, 0.032851941883563995, 0.0009711380116641521, -0.011054391041398048, 0.012869685888290405, 8.60630243550986e-05, 0.009319395758211613, -0.0024373538326472044, -0.013190332800149918, 0.011630232445895672, -0.0089098010212183, -0.020963437855243683, 0.014147263020277023, 0.008868463337421417, 0.002005749149248004, -9.575969670549966e-06, 0.021488074213266373, 0.0173629280179739, -0.01436298806220293, 0.013334037736058235, -0.001708324532955885, 0.013330028392374516, 0.022380227223038673, -0.017127349972724915, 0.002373908646404743, 0.004156340844929218, -0.0074373772367835045, -0.018248725682497025, 0.026956647634506226, -0.01918753981590271, 0.0139987263828516, -0.02137761376798153, 0.01390513963997364, 0.03366907313466072, 0.0011647677747532725, -0.007657821290194988, -0.003235537325963378, 0.01678704470396042, 0.007772042881697416, -0.0003860573342535645, 0.02871510572731495, 0.011263401247560978, 0.028904002159833908, 0.015152499079704285, 0.025951579213142395, 0.020260853692889214, -0.029092835262417793, -0.004662838764488697, -0.010661170817911625, 0.0044387467205524445, 0.006754630710929632, 0.0028678050730377436, -0.018245449289679527, 0.005781885236501694, -0.00037199779762886465, -0.019576603546738625, 0.010767759755253792, 0.012038405984640121, -0.006513867061585188, 0.012902684509754181, 0.02077978290617466, -0.008842363022267818, -0.019210893660783768, 0.005976731888949871, 0.0004230304330121726, -0.02873923070728779, -0.009897436946630478, -0.0023675523698329926, 0.01563204452395439, -0.02268383651971817, -0.028342433273792267, -0.0031201655510812998, -0.0035260592121630907, 0.019894247874617577, 0.017124302685260773, 0.0012218839256092906, -0.03155600279569626, -0.008022966794669628, -0.02127157151699066, -0.008797915652394295, -0.025529757142066956, 0.014004839584231377, -0.009423911571502686, -0.009772892110049725, -0.0239088237285614, -0.008136582560837269, 0.009556404314935207, -0.008889769203960896, -0.011855152435600758, 0.002572874538600445, -0.005144534166902304, 0.024475133046507835, -0.029709041118621826, 0.019796889275312424, -0.011626645922660828, 0.007823578082025051, -0.009370650164783001, -0.008017054758965969, -0.0179126113653183, -0.00497472146525979, -0.009625059552490711, -0.030375823378562927, 0.01658923551440239, 0.0167534202337265, 0.013530880212783813, -0.15324503183364868, 0.013124489225447178, -0.021663067862391472, 0.032160501927137375, -0.008968976326286793, -0.036423370242118835, -0.01289915107190609, 0.0352773442864418, 0.010696417652070522, 0.044274017214775085, -0.027119580656290054, 0.0010706090833991766, 0.010458161123096943, 0.01974230259656906, -0.0012689287541434169, -0.009197808802127838, -0.08570528775453568, 0.002725888043642044, 0.0007836627191863954, -0.005863692611455917, -0.010948414914309978, 0.009617707692086697, 0.01679658517241478, 0.004914512392133474, 0.028241408988833427, -0.00893841590732336, 0.015824366360902786, 0.0037942728959023952, 0.0034657996147871017, 0.013856440782546997, 0.03360615670681, -0.0011905577266588807, 0.012925599701702595, 0.008304225280880928, -0.014578593894839287, -0.007582568563520908, 0.02085718885064125, -0.024288564920425415, -0.001746275695040822, 0.001975833438336849, -0.007059962954372168, -0.012119720689952374, 0.01277311984449625, -0.009400272741913795, 0.009562003426253796, 0.010109634138643742, -0.003214404219761491, -0.009835449978709221, 0.01768515259027481, -0.017057375982403755, -0.017657121643424034, -0.014411576092243195, -0.008175013586878777, -0.007069163490086794, 0.015415980480611324, 0.0029724794439971447, -0.01073034480214119, -0.0018755848286673427, -0.020482240244746208, 0.006864244118332863, 0.029321754351258278, 0.031363509595394135, -0.028168633580207825, -0.06306526064872742, -0.025087781250476837, -0.000347455294104293, -0.00020515595679171383, -0.0041398233734071255, -0.005563472863286734, 0.009771636687219143, -0.020311353728175163, 0.013361853547394276, 0.0019185474375262856, -0.008475527167320251, 0.04291272535920143, 0.06763111799955368, 0.013961364515125751, -0.010224754922091961, 9.014247916638851e-05, 0.008298322558403015, 0.0016627939185127616, 0.017225803807377815, -0.016056139022111893, 0.00309127289801836, -0.007135752122849226, 0.028909172862768173, 0.1120157316327095, 0.011635899543762207, 0.061955828219652176, -0.031554851680994034, -0.0017467448487877846, 0.015151520259678364, 0.01009761355817318, 0.021404940634965897, 0.0019495070446282625, 0.019136980175971985, -0.006473139859735966, -0.001599591225385666, -0.009688664227724075, -0.006014121696352959, 0.031707752496004105, -0.002620966639369726, -0.010356361977756023, 0.016620244830846786, -0.009253926575183868, -0.02207433618605137, -0.010753895156085491, -0.03577754646539688, 0.0028389475774019957, 0.009539184160530567, -0.05714206397533417, 0.004924964625388384, 0.013331557624042034, 0.006218699272722006, -0.0012563730124384165, -0.001707091461867094, 0.018009772524237633, -0.015146208927035332, -0.0238532442599535, 0.002315409015864134, 0.0016760659636929631, -0.0063400608487427235, -0.015963174402713776, -0.005215161480009556, 0.03496766462922096, 0.00986777525395155, 0.011637932620942593, -0.000872690521646291, -0.02594287320971489, 0.00092457135906443, -0.025552209466695786, 0.008163075894117355, -0.036080438643693924, -0.019480491057038307, -0.02062099426984787, -0.006355671677738428, -0.03904847055673599, -0.01816003955900669, -0.002671310678124428, 0.018718184903264046, 0.0336681604385376, -0.017516428604722023, -0.023403597995638847, 0.034580156207084656, 0.007707586977630854, 0.021876124665141106, -0.046069759875535965, 0.0027311965823173523, 0.018754906952381134, -0.03259463235735893, -0.014802087098360062, 0.013117284514009953, -0.013356327079236507, 0.034614041447639465, -0.0017655440606176853, -0.00445124926045537, 0.03595295175909996, 0.0016181927639991045, -0.0067098322324454784, 0.02908356487751007, -0.01576237753033638, 0.001945920055732131, -0.002407439285889268, -0.005826429929584265, 0.00718556297942996, 0.004992344416677952, 0.014601240865886211, -0.010073148645460606, 0.008470169268548489, 0.007754419930279255, -0.004457034170627594, -0.012397253885865211, -0.014595434069633484, -0.0007261027349159122, -0.012035137973725796, 0.02027938887476921, 0.0018923254683613777, 0.008907666429877281, -0.001361118396744132, -0.024728411808609962, -0.13165183365345, 0.01004221010953188, -0.011202397756278515, -0.012058626860380173, 0.02166559547185898, 0.02312084287405014, -0.002965307328850031, -0.009271634742617607, 0.005078265443444252, 0.016063012182712555, 0.026216579601168633, -0.011224063113331795, 0.015630273148417473, 0.010070237331092358, 0.002451209118589759, 0.03383969888091087, 0.007175253238528967, 0.0156401339918375, 0.0042807613499462605, 0.00460775988176465, -0.0035106209106743336, -0.014956891536712646, 0.0005776689504273236, -0.008016286417841911, -0.01705903559923172, 0.007605231832712889, -0.0052253068424761295, 0.010072221979498863, 0.004560909699648619, 0.01734466850757599, 0.012733741663396358, -0.01549856923520565, 0.013153729028999805, 0.011086692102253437, 0.011952172964811325, -0.017055854201316833, -0.005220275837928057, 0.007280705496668816, 0.0018133196281269193, 0.017800135537981987, 0.00351918488740921, -0.001238492433913052, 0.008379882201552391, -0.003928007557988167, -0.007049837149679661, -0.0017253876430913806, -0.008111854083836079, 0.010142997838556767, 0.006832204759120941, 0.010509648360311985, 0.027737703174352646, 0.019310282543301582, 0.023065932095050812, 0.008292542770504951, 0.0004430247063282877, 0.027877340093255043, 0.014108973555266857, -0.020065784454345703, -0.0005666578654199839, -0.00573304109275341, -0.008061706088483334, 0.010893777012825012, 0.008303476497530937, 0.0027520109433680773, 0.03177347034215927, 0.012155408039689064, -0.013724426738917828, -0.00385924126021564, 0.03937837481498718, -0.008413972333073616, -0.016368910670280457, 0.010815368965268135, -0.01469904463738203, 0.004410404711961746, 0.026256365701556206, -0.000893144344445318, 0.010552668944001198, 0.11933491379022598, 0.005901321303099394, 0.014276115223765373, 0.011397069320082664, -0.030874425545334816, -0.009155524894595146, 0.01568346470594406, 0.020645128563046455, -0.028355352580547333, -0.00141655292827636, -0.02319915220141411, -0.015381887555122375, -0.027339451014995575, 0.01569618470966816, -0.02032610774040222, -0.01837780326604843, -0.004649127833545208, 0.00505670765414834, -0.005408408120274544, 0.009825523011386395, -0.0019428908126428723, -0.014222513884305954, 0.002616994082927704, 0.028188185766339302, 0.005926754325628281, 0.024930166080594063, -0.00043423924944363534, 0.019550198689103127, 0.012554033659398556, 0.0006625590613111854, -0.004329659044742584, -0.0004458269686438143, 0.003709637327119708, -0.009076835587620735, -0.0025850271340459585, -0.0010670030023902655, -0.00305119133554399, 0.01206216961145401, -0.014808997511863708, 0.030651981011033058, 0.006407017353922129, 0.00740844989195466, 0.028182489797472954, 0.004856196232140064, -0.03825338929891586, -0.001366012031212449, -0.02045130357146263, -0.000578841136302799, 0.009475350379943848, -0.007827269844710827, -0.02553037367761135, -0.0015096802962943912, -0.008993841707706451, -0.004823219496756792, -0.0019017778104171157, -0.0010434964206069708, -0.017146121710538864, -0.0068143755197525024, 0.0046992227435112, -0.020199336111545563, -0.032742805778980255, -0.005588414613157511, -0.03879290074110031, -0.0025136047042906284, -0.01107039675116539, -0.006626789923757315, 0.03147604316473007, -0.0031440991442650557, 0.01636362448334694, 0.010142769664525986, 0.0031797306146472692, 0.011911403387784958, 0.01733502186834812, -0.023962602019309998, 0.01844881847500801, 0.02168835513293743, 0.007746023125946522, 0.0018389037577435374, 0.007768101524561644, -0.003243353683501482, 0.033957503736019135, 0.022108782082796097, -0.002254202263429761, -0.010611549019813538, -0.01707940734922886, 0.07441666722297668, 0.010525640100240707, -0.03485294431447983, -0.012363536283373833, 0.029094427824020386, -0.012047480791807175, 0.01246073842048645, -0.048982519656419754, -0.0011598148848861456, 0.018216760829091072, -0.038138531148433685, -0.022156069055199623, -0.010972837917506695, 0.01307578757405281, 0.006133404094725847, 0.14249500632286072, 0.0019613001495599747, -0.011670432053506374, -0.00023608643095940351, -0.03548600524663925, -0.013261218555271626, -0.007157057523727417, 0.004340347833931446, -0.0027906340546905994, 0.009095553308725357, -0.006084177177399397, -0.022139770910143852, -0.022350000217556953, 0.009088032878935337, -0.0022814238909631968, -0.03808634355664253, 0.19164064526557922, -0.022563103586435318, -0.05419527366757393, 0.06758133322000504, -0.0026106119621545076, 0.01607043854892254, 0.013295933604240417, 0.041860006749629974, -0.003625495359301567, 0.007649874314665794, -0.027262628078460693, -0.008987406268715858, -0.012045455165207386, -0.019256435334682465, 0.015816817060112953, -0.007908837869763374, -0.03393290936946869, -0.0155485263094306, 0.0065824599005281925, 0.0020507341250777245, -0.012584653683006763, -0.011814098805189133, -0.0001948654098669067, -0.011696496978402138, 0.003041384043172002, 0.03938577324151993, -0.0033073879312723875, -0.011274008080363274, -0.013562674634158611, 0.005772761534899473, -0.0006141162011772394, -0.010171916335821152, 0.025011710822582245, 0.023403974249958992, -0.004839183297008276, -0.023245926946401596, 0.031213106587529182, -0.004580922424793243, 0.02007509581744671, -0.014241917990148067, 0.020119590684771538, -0.011907440610229969, -0.02651681937277317, 0.013429410755634308, -0.0669342577457428, 0.007032166235148907, 0.0013300195569172502, -0.011763232760131359, -0.003908204846084118, -0.01752525568008423, 0.015313355252146721, 0.003281490644440055, -0.01566663570702076, -0.0032225099857896566, 0.024497447535395622, -0.03326307237148285, -0.01430706586688757, 0.012513930909335613, -0.014890559948980808, -0.020781222730875015, -0.039868321269750595, -0.19185397028923035, -0.010814444161951542, -0.017920371145009995, -0.01942397840321064, -0.002995113842189312, 0.033504802733659744, -0.01111582200974226, -0.008532009087502956, 0.0032945687416940928, -0.002034141216427088, 0.010180867277085781, -0.004700956866145134, 0.014287573285400867, 0.027825942263007164, -0.026458747684955597, 0.026004672050476074, 0.0030570384114980698, -7.142744289012626e-05, -0.0005678997258655727, 0.0019057681784033775, -0.005689525511115789, 0.016462592408061028, 0.008630949072539806, 0.03815294802188873, 0.0036030858755111694, 0.00503473961725831, 0.003481354331597686, 0.00672766100615263, -0.010969608090817928, 0.01139917504042387, 0.006109999027103186, 0.025925884023308754, -0.005577190779149532, 0.016122590750455856, -0.007314825896173716, 0.0012749509187415242, -0.0035933994222432375, -0.015122871845960617, -0.025937717407941818, 0.018477505072951317, -0.025082578882575035, -0.008156433701515198, -0.0029712750110775232, -0.009836726821959019, 0.050093699246644974, -0.002272173995152116, -0.01238228939473629, -0.000981789082288742, -0.0027220738120377064, 0.004828718025237322, -0.0015638521872460842, 0.017164459452033043, -0.019477566704154015, 0.018664076924324036, -0.011836156249046326, 0.017498716711997986, 0.020970256999135017, -0.033933550119400024, -0.01687662862241268, 0.016774343326687813, -0.0004051018913742155, -0.0193483904004097, -0.006091777700930834, -0.12980256974697113, 0.0022605578415095806, 0.0030080005526542664, 0.018391717225313187, 0.010155481286346912, -0.020599937066435814, -0.004708725027740002, -0.010503397323191166, 0.010158339515328407, 0.011801686137914658, 0.015801355242729187, -0.016730312258005142, -0.011514642275869846, 0.037246014922857285, -0.024757888168096542, -0.03685653209686279, 0.011818493716418743, -0.012074512429535389, 0.020670462399721146, -0.0035694120451807976, 0.004672069568186998, -0.004315842408686876, 0.02181009016931057, 0.00455991318449378, -0.012909154407680035, -0.03075329400599003, 0.0009705884149298072, 0.0009023703169077635, 0.022167949005961418, -0.026980342343449593, -0.0035740984603762627, 0.03729114681482315, -0.023478083312511444, 0.015191649086773396, -0.008927756920456886, -0.017445910722017288, -0.03128240630030632, 0.00335376663133502, 0.014954823069274426, 0.029571885243058205, 0.007769588381052017, 0.005776438396424055, 0.015317192301154137, -0.004668578039854765, 0.016238002106547356, -0.002106928965076804, -0.04170960932970047, 0.014797892421483994, 0.0052103446796536446, 0.023591069504618645, 0.0076504857279360294, 0.01413755677640438, 0.019502852112054825, 0.008955520577728748, -0.00028733862563967705, -0.007204929366707802, -0.027535665780305862, -0.022389521822333336, -0.007360879331827164, 0.004868166986852884, -0.008087853901088238, -0.0009222296648658812, 0.00036974187241867185, -0.021747691556811333, 0.031018564477562904, 0.005663228686898947, -0.0025074584409594536, -0.0008474551723338664, 0.009379143826663494, -0.02529594860970974, 0.0001008772014756687, -0.02199656516313553, 0.007326328661292791, -0.011785532347857952, 0.010244954377412796, -0.016954833641648293, -0.0025070614647120237, 0.04663701355457306, 0.004186602775007486, -0.00032328779343515635, 0.02296670340001583, 0.015364308841526508, -0.010715914890170097, -0.017372239381074905, -0.0004139321390539408, -0.01088999304920435, -0.005633125081658363, -0.00695900758728385, 0.008446769788861275, -0.003089300589635968, 0.017200488597154617, -0.034739430993795395, -0.012128436006605625, 0.003256548661738634, 0.006257407367229462, -0.014366807416081429, 0.0034537245519459248, 0.024365687742829323, 0.009872651658952236, 0.02191108651459217, 0.00042023195419460535, 0.023756936192512512, 0.01395359542220831, 0.0030965099576860666, -0.006316755898296833, 0.0017472621984779835, 0.011778062209486961, -0.01295459270477295, 0.005471477750688791, 0.008700949139893055, -0.03914574161171913, -0.025014830753207207, 0.0013769228244200349, -0.014783026650547981, -0.0343562476336956, 0.006685197819024324, -0.0028514105360955, -0.012412731535732746, -0.054002873599529266, -0.08469073474407196, -0.00453648017719388, 0.016142666339874268, -0.015385807491838932, -0.012470290996134281, 0.025593142956495285, -0.002250982914119959, 0.004621728323400021, -0.013454803265631199, -0.009437782689929008, 0.005109940655529499, 0.011318487115204334, 0.042142026126384735, -0.022614261135458946, 0.006261462811380625, 0.008530957624316216, 0.009026923216879368, -0.005197753198444843, -0.015991097316145897, 0.012438023462891579, -0.022763069719076157, -0.13730119168758392, 0.0004675363306887448, -0.015297230333089828, 0.019742991775274277, 0.002140009542927146, 0.006575240287929773, -0.003151079872623086, -0.04235269874334335, 0.008552341721951962, 0.00929947104305029, -0.03464730456471443, -0.11014518141746521, -0.014376752078533173, -0.0017785486998036504, 0.008726443164050579, 0.01609255000948906, 0.006968190893530846, -0.004350023809820414, -0.020400408655405045, 0.02152058109641075, 0.00039000133983790874, -0.0012749754823744297, -0.0030028726905584335, -0.009263571351766586, -0.029698267579078674, 0.008151570335030556, -0.009504295885562897, 0.0001242000871570781, 0.023893706500530243, -0.023464761674404144, 0.004166257567703724, 0.007135596126317978, -0.0022125898394733667, 0.029229486361145973, -0.036533668637275696, -0.009848790243268013, 0.0006641803192906082, -0.003607617225497961, -0.014669585973024368, 0.006201088894158602, -0.030398277565836906, 0.015474031679332256, -0.0059066638350486755, -0.015403670258820057, -0.02464587427675724, 0.00093771395040676, -0.004483971744775772, -0.017655931413173676, 0.007355974987149239, 0.015206938609480858, 0.018542703241109848]\"\n        ],\n        \"semantic_type\": \"\",\n        \"description\": \"\"\n      }\n    }\n  ]\n}",
       "type": "dataframe",
       "variable_name": "submission"
      },
      "text/html": [
       "\n",
       "  <div id=\"df-f82af3a8-f558-45aa-af9f-a46b886d87a5\" class=\"colab-df-container\">\n",
       "    <div>\n",
       "<style scoped>\n",
       "    .dataframe tbody tr th:only-of-type {\n",
       "        vertical-align: middle;\n",
       "    }\n",
       "\n",
       "    .dataframe tbody tr th {\n",
       "        vertical-align: top;\n",
       "    }\n",
       "\n",
       "    .dataframe thead th {\n",
       "        text-align: right;\n",
       "    }\n",
       "</style>\n",
       "<table border=\"1\" class=\"dataframe\">\n",
       "  <thead>\n",
       "    <tr style=\"text-align: right;\">\n",
       "      <th></th>\n",
       "      <th>id</th>\n",
       "      <th>embedding</th>\n",
       "    </tr>\n",
       "  </thead>\n",
       "  <tbody>\n",
       "    <tr>\n",
       "      <th>0</th>\n",
       "      <td>1</td>\n",
       "      <td>[0.03023066371679306, 0.009858203120529652, 0....</td>\n",
       "    </tr>\n",
       "    <tr>\n",
       "      <th>1</th>\n",
       "      <td>2</td>\n",
       "      <td>[0.022392412647604942, -0.0035140616819262505,...</td>\n",
       "    </tr>\n",
       "  </tbody>\n",
       "</table>\n",
       "</div>\n",
       "    <div class=\"colab-df-buttons\">\n",
       "\n",
       "  <div class=\"colab-df-container\">\n",
       "    <button class=\"colab-df-convert\" onclick=\"convertToInteractive('df-f82af3a8-f558-45aa-af9f-a46b886d87a5')\"\n",
       "            title=\"Convert this dataframe to an interactive table.\"\n",
       "            style=\"display:none;\">\n",
       "\n",
       "  <svg xmlns=\"http://www.w3.org/2000/svg\" height=\"24px\" viewBox=\"0 -960 960 960\">\n",
       "    <path d=\"M120-120v-720h720v720H120Zm60-500h600v-160H180v160Zm220 220h160v-160H400v160Zm0 220h160v-160H400v160ZM180-400h160v-160H180v160Zm440 0h160v-160H620v160ZM180-180h160v-160H180v160Zm440 0h160v-160H620v160Z\"/>\n",
       "  </svg>\n",
       "    </button>\n",
       "\n",
       "  <style>\n",
       "    .colab-df-container {\n",
       "      display:flex;\n",
       "      gap: 12px;\n",
       "    }\n",
       "\n",
       "    .colab-df-convert {\n",
       "      background-color: #E8F0FE;\n",
       "      border: none;\n",
       "      border-radius: 50%;\n",
       "      cursor: pointer;\n",
       "      display: none;\n",
       "      fill: #1967D2;\n",
       "      height: 32px;\n",
       "      padding: 0 0 0 0;\n",
       "      width: 32px;\n",
       "    }\n",
       "\n",
       "    .colab-df-convert:hover {\n",
       "      background-color: #E2EBFA;\n",
       "      box-shadow: 0px 1px 2px rgba(60, 64, 67, 0.3), 0px 1px 3px 1px rgba(60, 64, 67, 0.15);\n",
       "      fill: #174EA6;\n",
       "    }\n",
       "\n",
       "    .colab-df-buttons div {\n",
       "      margin-bottom: 4px;\n",
       "    }\n",
       "\n",
       "    [theme=dark] .colab-df-convert {\n",
       "      background-color: #3B4455;\n",
       "      fill: #D2E3FC;\n",
       "    }\n",
       "\n",
       "    [theme=dark] .colab-df-convert:hover {\n",
       "      background-color: #434B5C;\n",
       "      box-shadow: 0px 1px 3px 1px rgba(0, 0, 0, 0.15);\n",
       "      filter: drop-shadow(0px 1px 2px rgba(0, 0, 0, 0.3));\n",
       "      fill: #FFFFFF;\n",
       "    }\n",
       "  </style>\n",
       "\n",
       "    <script>\n",
       "      const buttonEl =\n",
       "        document.querySelector('#df-f82af3a8-f558-45aa-af9f-a46b886d87a5 button.colab-df-convert');\n",
       "      buttonEl.style.display =\n",
       "        google.colab.kernel.accessAllowed ? 'block' : 'none';\n",
       "\n",
       "      async function convertToInteractive(key) {\n",
       "        const element = document.querySelector('#df-f82af3a8-f558-45aa-af9f-a46b886d87a5');\n",
       "        const dataTable =\n",
       "          await google.colab.kernel.invokeFunction('convertToInteractive',\n",
       "                                                    [key], {});\n",
       "        if (!dataTable) return;\n",
       "\n",
       "        const docLinkHtml = 'Like what you see? Visit the ' +\n",
       "          '<a target=\"_blank\" href=https://colab.research.google.com/notebooks/data_table.ipynb>data table notebook</a>'\n",
       "          + ' to learn more about interactive tables.';\n",
       "        element.innerHTML = '';\n",
       "        dataTable['output_type'] = 'display_data';\n",
       "        await google.colab.output.renderOutput(dataTable, element);\n",
       "        const docLink = document.createElement('div');\n",
       "        docLink.innerHTML = docLinkHtml;\n",
       "        element.appendChild(docLink);\n",
       "      }\n",
       "    </script>\n",
       "  </div>\n",
       "\n",
       "\n",
       "    <div id=\"df-cad3300f-5cc2-4ea0-ae55-c80b3fe161fc\">\n",
       "      <button class=\"colab-df-quickchart\" onclick=\"quickchart('df-cad3300f-5cc2-4ea0-ae55-c80b3fe161fc')\"\n",
       "                title=\"Suggest charts\"\n",
       "                style=\"display:none;\">\n",
       "\n",
       "<svg xmlns=\"http://www.w3.org/2000/svg\" height=\"24px\"viewBox=\"0 0 24 24\"\n",
       "     width=\"24px\">\n",
       "    <g>\n",
       "        <path d=\"M19 3H5c-1.1 0-2 .9-2 2v14c0 1.1.9 2 2 2h14c1.1 0 2-.9 2-2V5c0-1.1-.9-2-2-2zM9 17H7v-7h2v7zm4 0h-2V7h2v10zm4 0h-2v-4h2v4z\"/>\n",
       "    </g>\n",
       "</svg>\n",
       "      </button>\n",
       "\n",
       "<style>\n",
       "  .colab-df-quickchart {\n",
       "      --bg-color: #E8F0FE;\n",
       "      --fill-color: #1967D2;\n",
       "      --hover-bg-color: #E2EBFA;\n",
       "      --hover-fill-color: #174EA6;\n",
       "      --disabled-fill-color: #AAA;\n",
       "      --disabled-bg-color: #DDD;\n",
       "  }\n",
       "\n",
       "  [theme=dark] .colab-df-quickchart {\n",
       "      --bg-color: #3B4455;\n",
       "      --fill-color: #D2E3FC;\n",
       "      --hover-bg-color: #434B5C;\n",
       "      --hover-fill-color: #FFFFFF;\n",
       "      --disabled-bg-color: #3B4455;\n",
       "      --disabled-fill-color: #666;\n",
       "  }\n",
       "\n",
       "  .colab-df-quickchart {\n",
       "    background-color: var(--bg-color);\n",
       "    border: none;\n",
       "    border-radius: 50%;\n",
       "    cursor: pointer;\n",
       "    display: none;\n",
       "    fill: var(--fill-color);\n",
       "    height: 32px;\n",
       "    padding: 0;\n",
       "    width: 32px;\n",
       "  }\n",
       "\n",
       "  .colab-df-quickchart:hover {\n",
       "    background-color: var(--hover-bg-color);\n",
       "    box-shadow: 0 1px 2px rgba(60, 64, 67, 0.3), 0 1px 3px 1px rgba(60, 64, 67, 0.15);\n",
       "    fill: var(--button-hover-fill-color);\n",
       "  }\n",
       "\n",
       "  .colab-df-quickchart-complete:disabled,\n",
       "  .colab-df-quickchart-complete:disabled:hover {\n",
       "    background-color: var(--disabled-bg-color);\n",
       "    fill: var(--disabled-fill-color);\n",
       "    box-shadow: none;\n",
       "  }\n",
       "\n",
       "  .colab-df-spinner {\n",
       "    border: 2px solid var(--fill-color);\n",
       "    border-color: transparent;\n",
       "    border-bottom-color: var(--fill-color);\n",
       "    animation:\n",
       "      spin 1s steps(1) infinite;\n",
       "  }\n",
       "\n",
       "  @keyframes spin {\n",
       "    0% {\n",
       "      border-color: transparent;\n",
       "      border-bottom-color: var(--fill-color);\n",
       "      border-left-color: var(--fill-color);\n",
       "    }\n",
       "    20% {\n",
       "      border-color: transparent;\n",
       "      border-left-color: var(--fill-color);\n",
       "      border-top-color: var(--fill-color);\n",
       "    }\n",
       "    30% {\n",
       "      border-color: transparent;\n",
       "      border-left-color: var(--fill-color);\n",
       "      border-top-color: var(--fill-color);\n",
       "      border-right-color: var(--fill-color);\n",
       "    }\n",
       "    40% {\n",
       "      border-color: transparent;\n",
       "      border-right-color: var(--fill-color);\n",
       "      border-top-color: var(--fill-color);\n",
       "    }\n",
       "    60% {\n",
       "      border-color: transparent;\n",
       "      border-right-color: var(--fill-color);\n",
       "    }\n",
       "    80% {\n",
       "      border-color: transparent;\n",
       "      border-right-color: var(--fill-color);\n",
       "      border-bottom-color: var(--fill-color);\n",
       "    }\n",
       "    90% {\n",
       "      border-color: transparent;\n",
       "      border-bottom-color: var(--fill-color);\n",
       "    }\n",
       "  }\n",
       "</style>\n",
       "\n",
       "      <script>\n",
       "        async function quickchart(key) {\n",
       "          const quickchartButtonEl =\n",
       "            document.querySelector('#' + key + ' button');\n",
       "          quickchartButtonEl.disabled = true;  // To prevent multiple clicks.\n",
       "          quickchartButtonEl.classList.add('colab-df-spinner');\n",
       "          try {\n",
       "            const charts = await google.colab.kernel.invokeFunction(\n",
       "                'suggestCharts', [key], {});\n",
       "          } catch (error) {\n",
       "            console.error('Error during call to suggestCharts:', error);\n",
       "          }\n",
       "          quickchartButtonEl.classList.remove('colab-df-spinner');\n",
       "          quickchartButtonEl.classList.add('colab-df-quickchart-complete');\n",
       "        }\n",
       "        (() => {\n",
       "          let quickchartButtonEl =\n",
       "            document.querySelector('#df-cad3300f-5cc2-4ea0-ae55-c80b3fe161fc button');\n",
       "          quickchartButtonEl.style.display =\n",
       "            google.colab.kernel.accessAllowed ? 'block' : 'none';\n",
       "        })();\n",
       "      </script>\n",
       "    </div>\n",
       "\n",
       "    </div>\n",
       "  </div>\n"
      ],
      "text/plain": [
       "   id                                          embedding\n",
       "0   1  [0.03023066371679306, 0.009858203120529652, 0....\n",
       "1   2  [0.022392412647604942, -0.0035140616819262505,..."
      ]
     },
     "execution_count": 33,
     "metadata": {},
     "output_type": "execute_result"
    }
   ],
   "source": [
    "# ======================================================\n",
    "#  FINAL: Kaggle submission format (embedding JSON array)\n",
    "# ======================================================\n",
    "import pandas as pd\n",
    "import numpy as np\n",
    "import json\n",
    "import os\n",
    "\n",
    "# preds_test_image_space.npy → (num_test, D)\n",
    "preds = np.load(\"preds_test_image_space.npy\")\n",
    "\n",
    "# Load the test caption IDs\n",
    "test_ids = test_data[\"captions/ids\"]\n",
    "\n",
    "# Build submission rows\n",
    "rows = []\n",
    "for idx, test_id in enumerate(test_ids):\n",
    "    embedding_json = json.dumps(preds[idx].tolist())  # convert numpy array → JSON string\n",
    "    rows.append({\"id\": int(test_id), \"embedding\": embedding_json})\n",
    "\n",
    "# Create DataFrame\n",
    "submission = pd.DataFrame(rows, columns=[\"id\", \"embedding\"])\n",
    "\n",
    "# Save CSV\n",
    "submission.to_csv(\"submission2.csv\", index=False)\n",
    "print(\"✅ submission.csv created:\", os.path.abspath(\"submission.csv\"))\n",
    "submission.head(2)\n"
   ]
  },
  {
   "cell_type": "markdown",
   "metadata": {
    "id": "xcTUimiyr1M7"
   },
   "source": [
    "# Experiment 2"
   ]
  },
  {
   "cell_type": "code",
   "execution_count": null,
   "metadata": {
    "colab": {
     "base_uri": "https://localhost:8080/"
    },
    "executionInfo": {
     "elapsed": 6661,
     "status": "ok",
     "timestamp": 1761502308130,
     "user": {
      "displayName": "ghulam mujtaba",
      "userId": "00646622876627477130"
     },
     "user_tz": -60
    },
    "id": "85yosIymsg_L",
    "outputId": "178d6392-e22f-4d29-d267-3fe8bf78b0ab"
   },
   "outputs": [
    {
     "name": "stdout",
     "output_type": "stream",
     "text": [
      "Current working directory: /content/drive/MyDrive/AML Challenge\n",
      "(125000, 1024) (25000, 1536) (1500, 1024)\n",
      "Expanded image embeddings: (125000, 1536)\n"
     ]
    }
   ],
   "source": [
    "import os\n",
    "\n",
    "BASE_DIR = \"/content/drive/MyDrive/AML Challenge\"\n",
    "os.chdir(BASE_DIR)\n",
    "print(\"Current working directory:\", os.getcwd())\n",
    "\n",
    "\n",
    "# ======================================================\n",
    "#   STEP 1: Setup and data loading\n",
    "# ======================================================\n",
    "import numpy as np, torch, torch.nn as nn, torch.nn.functional as F\n",
    "from torch.utils.data import Dataset, DataLoader\n",
    "from tqdm import tqdm\n",
    "import os\n",
    "\n",
    "train_data = np.load(\"train.npz\")\n",
    "test_data  = np.load(\"test.clean.npz\")\n",
    "\n",
    "tx_train = train_data[\"captions/embeddings\"]   # (125000, 1024)\n",
    "im_train = train_data[\"images/embeddings\"]     # (25000, 1536)\n",
    "tx_test  = test_data[\"captions/embeddings\"]    # (1500, 1024)\n",
    "\n",
    "print(tx_train.shape, im_train.shape, tx_test.shape)\n",
    "\n",
    "# match 1 caption → 1 image\n",
    "# every 5 captions share the same image index\n",
    "repeat_factor = len(tx_train) // len(im_train)    # 5\n",
    "im_train_expanded = np.repeat(im_train, repeat_factor, axis=0)\n",
    "print(\"Expanded image embeddings:\", im_train_expanded.shape)\n",
    "\n",
    "\n"
   ]
  },
  {
   "cell_type": "code",
   "execution_count": null,
   "metadata": {
    "id": "cKME-ozBsbwe"
   },
   "outputs": [],
   "source": []
  },
  {
   "cell_type": "code",
   "execution_count": null,
   "metadata": {
    "colab": {
     "base_uri": "https://localhost:8080/"
    },
    "executionInfo": {
     "elapsed": 140234,
     "status": "ok",
     "timestamp": 1761503139469,
     "user": {
      "displayName": "ghulam mujtaba",
      "userId": "00646622876627477130"
     },
     "user_tz": -60
    },
    "id": "vIbptLV5r2um",
    "outputId": "3eb5696f-097a-4526-e280-dcffae92c113"
   },
   "outputs": [
    {
     "name": "stderr",
     "output_type": "stream",
     "text": [
      "/tmp/ipython-input-3749774502.py:6: UserWarning: To copy construct from a tensor, it is recommended to use sourceTensor.detach().clone() or sourceTensor.detach().clone().requires_grad_(True), rather than torch.tensor(sourceTensor).\n",
      "  tx_train = torch.tensor(tx_train, dtype=torch.float32)\n",
      "/tmp/ipython-input-3749774502.py:7: UserWarning: To copy construct from a tensor, it is recommended to use sourceTensor.detach().clone() or sourceTensor.detach().clone().requires_grad_(True), rather than torch.tensor(sourceTensor).\n",
      "  im_train_expanded = torch.tensor(im_train_expanded, dtype=torch.float32)\n"
     ]
    },
    {
     "name": "stdout",
     "output_type": "stream",
     "text": [
      "Using device: cuda\n"
     ]
    },
    {
     "name": "stderr",
     "output_type": "stream",
     "text": [
      "Epoch 1/50: 100%|██████████| 250/250 [00:02<00:00, 88.21it/s]\n"
     ]
    },
    {
     "name": "stdout",
     "output_type": "stream",
     "text": [
      "Epoch 1/50 | Avg Loss: 2.8782\n"
     ]
    },
    {
     "name": "stderr",
     "output_type": "stream",
     "text": [
      "Epoch 2/50: 100%|██████████| 250/250 [00:03<00:00, 82.67it/s]\n"
     ]
    },
    {
     "name": "stdout",
     "output_type": "stream",
     "text": [
      "Epoch 2/50 | Avg Loss: 2.4403\n"
     ]
    },
    {
     "name": "stderr",
     "output_type": "stream",
     "text": [
      "Epoch 3/50: 100%|██████████| 250/250 [00:02<00:00, 94.01it/s]\n"
     ]
    },
    {
     "name": "stdout",
     "output_type": "stream",
     "text": [
      "Epoch 3/50 | Avg Loss: 2.3454\n"
     ]
    },
    {
     "name": "stderr",
     "output_type": "stream",
     "text": [
      "Epoch 4/50: 100%|██████████| 250/250 [00:02<00:00, 92.35it/s]\n"
     ]
    },
    {
     "name": "stdout",
     "output_type": "stream",
     "text": [
      "Epoch 4/50 | Avg Loss: 2.2954\n"
     ]
    },
    {
     "name": "stderr",
     "output_type": "stream",
     "text": [
      "Epoch 5/50: 100%|██████████| 250/250 [00:02<00:00, 97.58it/s]\n"
     ]
    },
    {
     "name": "stdout",
     "output_type": "stream",
     "text": [
      "Epoch 5/50 | Avg Loss: 2.2673\n"
     ]
    },
    {
     "name": "stderr",
     "output_type": "stream",
     "text": [
      "Epoch 6/50: 100%|██████████| 250/250 [00:02<00:00, 90.29it/s]\n"
     ]
    },
    {
     "name": "stdout",
     "output_type": "stream",
     "text": [
      "Epoch 6/50 | Avg Loss: 2.2454\n"
     ]
    },
    {
     "name": "stderr",
     "output_type": "stream",
     "text": [
      "Epoch 7/50: 100%|██████████| 250/250 [00:03<00:00, 80.68it/s]\n"
     ]
    },
    {
     "name": "stdout",
     "output_type": "stream",
     "text": [
      "Epoch 7/50 | Avg Loss: 2.2309\n"
     ]
    },
    {
     "name": "stderr",
     "output_type": "stream",
     "text": [
      "Epoch 8/50: 100%|██████████| 250/250 [00:02<00:00, 96.22it/s]\n"
     ]
    },
    {
     "name": "stdout",
     "output_type": "stream",
     "text": [
      "Epoch 8/50 | Avg Loss: 2.2221\n"
     ]
    },
    {
     "name": "stderr",
     "output_type": "stream",
     "text": [
      "Epoch 9/50: 100%|██████████| 250/250 [00:02<00:00, 92.18it/s]\n"
     ]
    },
    {
     "name": "stdout",
     "output_type": "stream",
     "text": [
      "Epoch 9/50 | Avg Loss: 2.2131\n"
     ]
    },
    {
     "name": "stderr",
     "output_type": "stream",
     "text": [
      "Epoch 10/50: 100%|██████████| 250/250 [00:02<00:00, 91.62it/s]\n"
     ]
    },
    {
     "name": "stdout",
     "output_type": "stream",
     "text": [
      "Epoch 10/50 | Avg Loss: 2.2077\n"
     ]
    },
    {
     "name": "stderr",
     "output_type": "stream",
     "text": [
      "Epoch 11/50: 100%|██████████| 250/250 [00:02<00:00, 93.29it/s]\n"
     ]
    },
    {
     "name": "stdout",
     "output_type": "stream",
     "text": [
      "Epoch 11/50 | Avg Loss: 2.2009\n"
     ]
    },
    {
     "name": "stderr",
     "output_type": "stream",
     "text": [
      "Epoch 12/50: 100%|██████████| 250/250 [00:03<00:00, 81.25it/s]\n"
     ]
    },
    {
     "name": "stdout",
     "output_type": "stream",
     "text": [
      "Epoch 12/50 | Avg Loss: 2.1985\n"
     ]
    },
    {
     "name": "stderr",
     "output_type": "stream",
     "text": [
      "Epoch 13/50: 100%|██████████| 250/250 [00:02<00:00, 92.67it/s]\n"
     ]
    },
    {
     "name": "stdout",
     "output_type": "stream",
     "text": [
      "Epoch 13/50 | Avg Loss: 2.1942\n"
     ]
    },
    {
     "name": "stderr",
     "output_type": "stream",
     "text": [
      "Epoch 14/50: 100%|██████████| 250/250 [00:02<00:00, 96.73it/s]\n"
     ]
    },
    {
     "name": "stdout",
     "output_type": "stream",
     "text": [
      "Epoch 14/50 | Avg Loss: 2.1926\n"
     ]
    },
    {
     "name": "stderr",
     "output_type": "stream",
     "text": [
      "Epoch 15/50: 100%|██████████| 250/250 [00:02<00:00, 92.57it/s]\n"
     ]
    },
    {
     "name": "stdout",
     "output_type": "stream",
     "text": [
      "Epoch 15/50 | Avg Loss: 2.1889\n"
     ]
    },
    {
     "name": "stderr",
     "output_type": "stream",
     "text": [
      "Epoch 16/50: 100%|██████████| 250/250 [00:02<00:00, 90.34it/s]\n"
     ]
    },
    {
     "name": "stdout",
     "output_type": "stream",
     "text": [
      "Epoch 16/50 | Avg Loss: 2.1868\n"
     ]
    },
    {
     "name": "stderr",
     "output_type": "stream",
     "text": [
      "Epoch 17/50: 100%|██████████| 250/250 [00:02<00:00, 83.38it/s]\n"
     ]
    },
    {
     "name": "stdout",
     "output_type": "stream",
     "text": [
      "Epoch 17/50 | Avg Loss: 2.1868\n"
     ]
    },
    {
     "name": "stderr",
     "output_type": "stream",
     "text": [
      "Epoch 18/50: 100%|██████████| 250/250 [00:02<00:00, 91.60it/s]\n"
     ]
    },
    {
     "name": "stdout",
     "output_type": "stream",
     "text": [
      "Epoch 18/50 | Avg Loss: 2.1836\n"
     ]
    },
    {
     "name": "stderr",
     "output_type": "stream",
     "text": [
      "Epoch 19/50: 100%|██████████| 250/250 [00:02<00:00, 92.02it/s]\n"
     ]
    },
    {
     "name": "stdout",
     "output_type": "stream",
     "text": [
      "Epoch 19/50 | Avg Loss: 2.1836\n"
     ]
    },
    {
     "name": "stderr",
     "output_type": "stream",
     "text": [
      "Epoch 20/50: 100%|██████████| 250/250 [00:02<00:00, 97.22it/s]\n"
     ]
    },
    {
     "name": "stdout",
     "output_type": "stream",
     "text": [
      "Epoch 20/50 | Avg Loss: 2.1813\n"
     ]
    },
    {
     "name": "stderr",
     "output_type": "stream",
     "text": [
      "Epoch 21/50: 100%|██████████| 250/250 [00:02<00:00, 88.01it/s]\n"
     ]
    },
    {
     "name": "stdout",
     "output_type": "stream",
     "text": [
      "Epoch 21/50 | Avg Loss: 2.1825\n"
     ]
    },
    {
     "name": "stderr",
     "output_type": "stream",
     "text": [
      "Epoch 22/50: 100%|██████████| 250/250 [00:03<00:00, 80.57it/s]\n"
     ]
    },
    {
     "name": "stdout",
     "output_type": "stream",
     "text": [
      "Epoch 22/50 | Avg Loss: 2.1802\n"
     ]
    },
    {
     "name": "stderr",
     "output_type": "stream",
     "text": [
      "Epoch 23/50: 100%|██████████| 250/250 [00:02<00:00, 96.47it/s]\n"
     ]
    },
    {
     "name": "stdout",
     "output_type": "stream",
     "text": [
      "Epoch 23/50 | Avg Loss: 2.1794\n"
     ]
    },
    {
     "name": "stderr",
     "output_type": "stream",
     "text": [
      "Epoch 24/50: 100%|██████████| 250/250 [00:02<00:00, 91.23it/s]\n"
     ]
    },
    {
     "name": "stdout",
     "output_type": "stream",
     "text": [
      "Epoch 24/50 | Avg Loss: 2.1806\n"
     ]
    },
    {
     "name": "stderr",
     "output_type": "stream",
     "text": [
      "Epoch 25/50: 100%|██████████| 250/250 [00:02<00:00, 97.01it/s]\n"
     ]
    },
    {
     "name": "stdout",
     "output_type": "stream",
     "text": [
      "Epoch 25/50 | Avg Loss: 2.1779\n"
     ]
    },
    {
     "name": "stderr",
     "output_type": "stream",
     "text": [
      "Epoch 26/50: 100%|██████████| 250/250 [00:02<00:00, 85.23it/s]\n"
     ]
    },
    {
     "name": "stdout",
     "output_type": "stream",
     "text": [
      "Epoch 26/50 | Avg Loss: 2.1793\n"
     ]
    },
    {
     "name": "stderr",
     "output_type": "stream",
     "text": [
      "Epoch 27/50: 100%|██████████| 250/250 [00:02<00:00, 84.44it/s]\n"
     ]
    },
    {
     "name": "stdout",
     "output_type": "stream",
     "text": [
      "Epoch 27/50 | Avg Loss: 2.1779\n"
     ]
    },
    {
     "name": "stderr",
     "output_type": "stream",
     "text": [
      "Epoch 28/50: 100%|██████████| 250/250 [00:02<00:00, 97.05it/s]\n"
     ]
    },
    {
     "name": "stdout",
     "output_type": "stream",
     "text": [
      "Epoch 28/50 | Avg Loss: 2.1786\n"
     ]
    },
    {
     "name": "stderr",
     "output_type": "stream",
     "text": [
      "Epoch 29/50: 100%|██████████| 250/250 [00:02<00:00, 92.77it/s]\n"
     ]
    },
    {
     "name": "stdout",
     "output_type": "stream",
     "text": [
      "Epoch 29/50 | Avg Loss: 2.1768\n"
     ]
    },
    {
     "name": "stderr",
     "output_type": "stream",
     "text": [
      "Epoch 30/50: 100%|██████████| 250/250 [00:02<00:00, 98.06it/s]\n"
     ]
    },
    {
     "name": "stdout",
     "output_type": "stream",
     "text": [
      "Epoch 30/50 | Avg Loss: 2.1769\n"
     ]
    },
    {
     "name": "stderr",
     "output_type": "stream",
     "text": [
      "Epoch 31/50: 100%|██████████| 250/250 [00:02<00:00, 83.74it/s]\n"
     ]
    },
    {
     "name": "stdout",
     "output_type": "stream",
     "text": [
      "Epoch 31/50 | Avg Loss: 2.1780\n"
     ]
    },
    {
     "name": "stderr",
     "output_type": "stream",
     "text": [
      "Epoch 32/50: 100%|██████████| 250/250 [00:02<00:00, 85.84it/s]\n"
     ]
    },
    {
     "name": "stdout",
     "output_type": "stream",
     "text": [
      "Epoch 32/50 | Avg Loss: 2.1762\n"
     ]
    },
    {
     "name": "stderr",
     "output_type": "stream",
     "text": [
      "Epoch 33/50: 100%|██████████| 250/250 [00:02<00:00, 92.85it/s]\n"
     ]
    },
    {
     "name": "stdout",
     "output_type": "stream",
     "text": [
      "Epoch 33/50 | Avg Loss: 2.1768\n"
     ]
    },
    {
     "name": "stderr",
     "output_type": "stream",
     "text": [
      "Epoch 34/50: 100%|██████████| 250/250 [00:02<00:00, 97.22it/s]\n"
     ]
    },
    {
     "name": "stdout",
     "output_type": "stream",
     "text": [
      "Epoch 34/50 | Avg Loss: 2.1749\n"
     ]
    },
    {
     "name": "stderr",
     "output_type": "stream",
     "text": [
      "Epoch 35/50: 100%|██████████| 250/250 [00:02<00:00, 97.42it/s]\n"
     ]
    },
    {
     "name": "stdout",
     "output_type": "stream",
     "text": [
      "Epoch 35/50 | Avg Loss: 2.1757\n"
     ]
    },
    {
     "name": "stderr",
     "output_type": "stream",
     "text": [
      "Epoch 36/50: 100%|██████████| 250/250 [00:03<00:00, 77.47it/s]\n"
     ]
    },
    {
     "name": "stdout",
     "output_type": "stream",
     "text": [
      "Epoch 36/50 | Avg Loss: 2.1763\n"
     ]
    },
    {
     "name": "stderr",
     "output_type": "stream",
     "text": [
      "Epoch 37/50: 100%|██████████| 250/250 [00:02<00:00, 94.55it/s]\n"
     ]
    },
    {
     "name": "stdout",
     "output_type": "stream",
     "text": [
      "Epoch 37/50 | Avg Loss: 2.1744\n"
     ]
    },
    {
     "name": "stderr",
     "output_type": "stream",
     "text": [
      "Epoch 38/50: 100%|██████████| 250/250 [00:02<00:00, 92.76it/s]\n"
     ]
    },
    {
     "name": "stdout",
     "output_type": "stream",
     "text": [
      "Epoch 38/50 | Avg Loss: 2.1756\n"
     ]
    },
    {
     "name": "stderr",
     "output_type": "stream",
     "text": [
      "Epoch 39/50: 100%|██████████| 250/250 [00:02<00:00, 96.64it/s]\n"
     ]
    },
    {
     "name": "stdout",
     "output_type": "stream",
     "text": [
      "Epoch 39/50 | Avg Loss: 2.1744\n"
     ]
    },
    {
     "name": "stderr",
     "output_type": "stream",
     "text": [
      "Epoch 40/50: 100%|██████████| 250/250 [00:02<00:00, 96.45it/s]\n"
     ]
    },
    {
     "name": "stdout",
     "output_type": "stream",
     "text": [
      "Epoch 40/50 | Avg Loss: 2.1751\n"
     ]
    },
    {
     "name": "stderr",
     "output_type": "stream",
     "text": [
      "Epoch 41/50: 100%|██████████| 250/250 [00:03<00:00, 76.55it/s]\n"
     ]
    },
    {
     "name": "stdout",
     "output_type": "stream",
     "text": [
      "Epoch 41/50 | Avg Loss: 2.1760\n"
     ]
    },
    {
     "name": "stderr",
     "output_type": "stream",
     "text": [
      "Epoch 42/50: 100%|██████████| 250/250 [00:02<00:00, 92.43it/s]\n"
     ]
    },
    {
     "name": "stdout",
     "output_type": "stream",
     "text": [
      "Epoch 42/50 | Avg Loss: 2.1748\n"
     ]
    },
    {
     "name": "stderr",
     "output_type": "stream",
     "text": [
      "Epoch 43/50: 100%|██████████| 250/250 [00:02<00:00, 97.01it/s]\n"
     ]
    },
    {
     "name": "stdout",
     "output_type": "stream",
     "text": [
      "Epoch 43/50 | Avg Loss: 2.1761\n"
     ]
    },
    {
     "name": "stderr",
     "output_type": "stream",
     "text": [
      "Epoch 44/50: 100%|██████████| 250/250 [00:02<00:00, 97.05it/s]\n"
     ]
    },
    {
     "name": "stdout",
     "output_type": "stream",
     "text": [
      "Epoch 44/50 | Avg Loss: 2.1765\n"
     ]
    },
    {
     "name": "stderr",
     "output_type": "stream",
     "text": [
      "Epoch 45/50: 100%|██████████| 250/250 [00:02<00:00, 87.07it/s]\n"
     ]
    },
    {
     "name": "stdout",
     "output_type": "stream",
     "text": [
      "Epoch 45/50 | Avg Loss: 2.1743\n"
     ]
    },
    {
     "name": "stderr",
     "output_type": "stream",
     "text": [
      "Epoch 46/50: 100%|██████████| 250/250 [00:03<00:00, 82.53it/s]\n"
     ]
    },
    {
     "name": "stdout",
     "output_type": "stream",
     "text": [
      "Epoch 46/50 | Avg Loss: 2.1758\n"
     ]
    },
    {
     "name": "stderr",
     "output_type": "stream",
     "text": [
      "Epoch 47/50: 100%|██████████| 250/250 [00:02<00:00, 92.64it/s]\n"
     ]
    },
    {
     "name": "stdout",
     "output_type": "stream",
     "text": [
      "Epoch 47/50 | Avg Loss: 2.1769\n"
     ]
    },
    {
     "name": "stderr",
     "output_type": "stream",
     "text": [
      "Epoch 48/50: 100%|██████████| 250/250 [00:02<00:00, 96.93it/s]\n"
     ]
    },
    {
     "name": "stdout",
     "output_type": "stream",
     "text": [
      "Epoch 48/50 | Avg Loss: 2.1752\n"
     ]
    },
    {
     "name": "stderr",
     "output_type": "stream",
     "text": [
      "Epoch 49/50: 100%|██████████| 250/250 [00:02<00:00, 95.66it/s]\n"
     ]
    },
    {
     "name": "stdout",
     "output_type": "stream",
     "text": [
      "Epoch 49/50 | Avg Loss: 2.1748\n"
     ]
    },
    {
     "name": "stderr",
     "output_type": "stream",
     "text": [
      "Epoch 50/50: 100%|██████████| 250/250 [00:02<00:00, 83.70it/s]\n",
      "/tmp/ipython-input-3749774502.py:101: UserWarning: To copy construct from a tensor, it is recommended to use sourceTensor.detach().clone() or sourceTensor.detach().clone().requires_grad_(True), rather than torch.tensor(sourceTensor).\n",
      "  tx_test = torch.tensor(tx_test, dtype=torch.float32).to(device)\n"
     ]
    },
    {
     "name": "stdout",
     "output_type": "stream",
     "text": [
      "Epoch 50/50 | Avg Loss: 2.1735\n",
      "Recall@1: 0.0000\n",
      "Recall@5: 0.0013\n",
      "Recall@10: 0.0013\n",
      "Recall@50: 0.0067\n"
     ]
    }
   ],
   "source": [
    "# ======================================================\n",
    "#   STEP 2: Prepare Tensors and Dataloaders\n",
    "# ======================================================\n",
    "\n",
    "# Convert numpy arrays to torch tensors\n",
    "tx_train = torch.tensor(tx_train, dtype=torch.float32)\n",
    "im_train_expanded = torch.tensor(im_train_expanded, dtype=torch.float32)\n",
    "\n",
    "# Normalize embeddings to unit sphere\n",
    "tx_train = F.normalize(tx_train, p=2, dim=1)\n",
    "im_train_expanded = F.normalize(im_train_expanded, p=2, dim=1)\n",
    "\n",
    "# Create TensorDataset and DataLoader\n",
    "batch_size = 500\n",
    "train_ds = torch.utils.data.TensorDataset(tx_train, im_train_expanded)\n",
    "train_loader = torch.utils.data.DataLoader(train_ds, batch_size=batch_size, shuffle=True, drop_last=True)\n",
    "\n",
    "device = torch.device(\"cuda\" if torch.cuda.is_available() else \"cpu\")\n",
    "print(\"Using device:\", device)\n",
    "\n",
    "\n",
    "# ======================================================\n",
    "#   STEP 3: Orthogonal Mapping + Contrastive Loss\n",
    "# ======================================================\n",
    "\n",
    "class OrthogonalMapping(nn.Module):\n",
    "    def __init__(self, in_dim, out_dim):\n",
    "        super().__init__()\n",
    "        # Initialize W orthogonally (via QR)\n",
    "        W = torch.randn(out_dim, in_dim)\n",
    "        W, _ = torch.linalg.qr(W)\n",
    "        self.W = nn.Parameter(W)\n",
    "        self.bias = nn.Parameter(torch.zeros(out_dim))  # allows affine shift\n",
    "\n",
    "    def forward(self, x):\n",
    "        return F.linear(x, self.W, self.bias)\n",
    "\n",
    "\n",
    "# Instantiate model\n",
    "model = OrthogonalMapping(in_dim=tx_train.shape[1], out_dim=im_train_expanded.shape[1]).to(device)\n",
    "\n",
    "# Optimizer\n",
    "optimizer = torch.optim.Adam(model.parameters(), lr=1e-3)\n",
    "\n",
    "# Training hyperparameters\n",
    "temperature = 0.07\n",
    "orth_lambda = 0.1\n",
    "epochs = 10\n",
    "\n",
    "\n",
    "# ======================================================\n",
    "#   STEP 4 (FIXED): Training Loop\n",
    "# ======================================================\n",
    "\n",
    "temperature = 0.05\n",
    "orth_lambda = 1e-6       # much smaller!\n",
    "epochs = 50              # train longer since gradients are weaker\n",
    "clip_grad_norm = 1\n",
    "\n",
    "for epoch in range(epochs):\n",
    "    model.train()\n",
    "    total_loss = 0.0\n",
    "\n",
    "    for tx_batch, im_batch in tqdm(train_loader, desc=f\"Epoch {epoch+1}/{epochs}\"):\n",
    "        tx_batch, im_batch = tx_batch.to(device), im_batch.to(device)\n",
    "\n",
    "        tx_mapped = F.normalize(model(tx_batch), p=2, dim=1)\n",
    "        im_batch = F.normalize(im_batch, p=2, dim=1)\n",
    "\n",
    "        # similarity matrix\n",
    "        sims = tx_mapped @ im_batch.T   # values in [-1,1]\n",
    "        logits = sims / temperature\n",
    "        targets = torch.arange(sims.size(0), device=device)\n",
    "\n",
    "        # contrastive loss (InfoNCE)\n",
    "        loss_contrastive = F.cross_entropy(logits, targets)\n",
    "\n",
    "        # orthogonality regularization (small weight!)\n",
    "        W = model.W\n",
    "        I = torch.eye(W.size(0), device=device)\n",
    "        orth_penalty = torch.norm(W @ W.T - I, p='fro')**2\n",
    "\n",
    "        loss = loss_contrastive + orth_lambda * orth_penalty\n",
    "\n",
    "        optimizer.zero_grad()\n",
    "        loss.backward()\n",
    "        nn.utils.clip_grad_norm_(model.parameters(), clip_grad_norm)\n",
    "        optimizer.step()\n",
    "\n",
    "        total_loss += loss.item()\n",
    "\n",
    "    print(f\"Epoch {epoch+1}/{epochs} | Avg Loss: {total_loss/len(train_loader):.4f}\")\n",
    "\n",
    "\n",
    "\n",
    "# ======================================================\n",
    "#   STEP 5: Evaluation — Text→Image Retrieval\n",
    "# ======================================================\n",
    "\n",
    "# Normalize all test text embeddings\n",
    "tx_test = torch.tensor(tx_test, dtype=torch.float32).to(device)\n",
    "tx_test = F.normalize(tx_test, p=2, dim=1)\n",
    "im_train_full = F.normalize(torch.tensor(im_train, dtype=torch.float32).to(device), p=2, dim=1)\n",
    "\n",
    "model.eval()\n",
    "with torch.no_grad():\n",
    "    tx_test_mapped = F.normalize(model(tx_test), p=2, dim=1)\n",
    "    sims = tx_test_mapped @ im_train_full.T  # (1500, 25000)\n",
    "\n",
    "# Compute simple retrieval metric — Recall@K\n",
    "def recall_at_k(sims, K=10):\n",
    "    topk = sims.topk(K, dim=1).indices\n",
    "    # image index for each caption = floor(idx/5)\n",
    "    true_img_idx = torch.arange(sims.size(0), device=device) // 5\n",
    "    preds = topk // 5\n",
    "    correct = (preds == true_img_idx.unsqueeze(1)).any(dim=1).float()\n",
    "    return correct.mean().item()\n",
    "\n",
    "for K in [1, 5, 10, 50]:\n",
    "    print(f\"Recall@{K}: {recall_at_k(sims, K):.4f}\")\n"
   ]
  },
  {
   "cell_type": "markdown",
   "metadata": {
    "id": "BfzPfmHdt4Fm"
   },
   "source": [
    "# Experiment 3\n"
   ]
  },
  {
   "cell_type": "code",
   "execution_count": null,
   "metadata": {
    "colab": {
     "base_uri": "https://localhost:8080/"
    },
    "executionInfo": {
     "elapsed": 6882,
     "status": "ok",
     "timestamp": 1761502316208,
     "user": {
      "displayName": "ghulam mujtaba",
      "userId": "00646622876627477130"
     },
     "user_tz": -60
    },
    "id": "JwXZPSecuCbC",
    "outputId": "8a197781-ee8e-493b-faaa-6a6ca1722b5f"
   },
   "outputs": [
    {
     "name": "stdout",
     "output_type": "stream",
     "text": [
      "Current working directory: /content/drive/MyDrive/AML Challenge\n",
      "(125000, 1024) (25000, 1536) (1500, 1024)\n",
      "Expanded image embeddings: (125000, 1536)\n"
     ]
    }
   ],
   "source": [
    "import os\n",
    "\n",
    "BASE_DIR = \"/content/drive/MyDrive/AML Challenge\"\n",
    "os.chdir(BASE_DIR)\n",
    "print(\"Current working directory:\", os.getcwd())\n",
    "\n",
    "\n",
    "# ======================================================\n",
    "#   STEP 1: Setup and data loading\n",
    "# ======================================================\n",
    "import numpy as np, torch, torch.nn as nn, torch.nn.functional as F\n",
    "from torch.utils.data import Dataset, DataLoader\n",
    "from tqdm import tqdm\n",
    "import os\n",
    "\n",
    "train_data = np.load(\"train.npz\")\n",
    "test_data  = np.load(\"test.clean.npz\")\n",
    "\n",
    "tx_train = train_data[\"captions/embeddings\"]   # (125000, 1024)\n",
    "im_train = train_data[\"images/embeddings\"]     # (25000, 1536)\n",
    "tx_test  = test_data[\"captions/embeddings\"]    # (1500, 1024)\n",
    "\n",
    "print(tx_train.shape, im_train.shape, tx_test.shape)\n",
    "\n",
    "# match 1 caption → 1 image\n",
    "# every 5 captions share the same image index\n",
    "repeat_factor = len(tx_train) // len(im_train)    # 5\n",
    "im_train_expanded = np.repeat(im_train, repeat_factor, axis=0)\n",
    "print(\"Expanded image embeddings:\", im_train_expanded.shape)\n",
    "\n",
    "\n"
   ]
  },
  {
   "cell_type": "code",
   "execution_count": null,
   "metadata": {
    "colab": {
     "base_uri": "https://localhost:8080/",
     "height": 367
    },
    "executionInfo": {
     "elapsed": 1263,
     "status": "error",
     "timestamp": 1761502530649,
     "user": {
      "displayName": "ghulam mujtaba",
      "userId": "00646622876627477130"
     },
     "user_tz": -60
    },
    "id": "eWFTkuuAt5s5",
    "outputId": "e4a2af6e-cb4b-4b88-c9f6-7bb864665625"
   },
   "outputs": [
    {
     "name": "stdout",
     "output_type": "stream",
     "text": [
      "Using device: cuda\n"
     ]
    },
    {
     "name": "stderr",
     "output_type": "stream",
     "text": [
      "Epoch 1/30:   0%|          | 0/244 [00:00<?, ?it/s]\n"
     ]
    },
    {
     "ename": "AssertionError",
     "evalue": "Batch must be multiple of group_size",
     "output_type": "error",
     "traceback": [
      "\u001b[0;31m---------------------------------------------------------------------------\u001b[0m",
      "\u001b[0;31mAssertionError\u001b[0m                            Traceback (most recent call last)",
      "\u001b[0;32m/tmp/ipython-input-4242194258.py\u001b[0m in \u001b[0;36m<cell line: 0>\u001b[0;34m()\u001b[0m\n\u001b[1;32m     84\u001b[0m         \u001b[0mtx_proj\u001b[0m \u001b[0;34m=\u001b[0m \u001b[0mF\u001b[0m\u001b[0;34m.\u001b[0m\u001b[0mnormalize\u001b[0m\u001b[0;34m(\u001b[0m\u001b[0mmodel\u001b[0m\u001b[0;34m(\u001b[0m\u001b[0mtx_batch\u001b[0m\u001b[0;34m)\u001b[0m\u001b[0;34m,\u001b[0m \u001b[0mp\u001b[0m\u001b[0;34m=\u001b[0m\u001b[0;36m2\u001b[0m\u001b[0;34m,\u001b[0m \u001b[0mdim\u001b[0m\u001b[0;34m=\u001b[0m\u001b[0;36m1\u001b[0m\u001b[0;34m)\u001b[0m\u001b[0;34m\u001b[0m\u001b[0;34m\u001b[0m\u001b[0m\n\u001b[1;32m     85\u001b[0m         \u001b[0mim_proj\u001b[0m \u001b[0;34m=\u001b[0m \u001b[0mF\u001b[0m\u001b[0;34m.\u001b[0m\u001b[0mnormalize\u001b[0m\u001b[0;34m(\u001b[0m\u001b[0mim_batch\u001b[0m\u001b[0;34m,\u001b[0m \u001b[0mp\u001b[0m\u001b[0;34m=\u001b[0m\u001b[0;36m2\u001b[0m\u001b[0;34m,\u001b[0m \u001b[0mdim\u001b[0m\u001b[0;34m=\u001b[0m\u001b[0;36m1\u001b[0m\u001b[0;34m)\u001b[0m\u001b[0;34m\u001b[0m\u001b[0;34m\u001b[0m\u001b[0m\n\u001b[0;32m---> 86\u001b[0;31m         \u001b[0mloss\u001b[0m \u001b[0;34m=\u001b[0m \u001b[0mgroup_clip_loss\u001b[0m\u001b[0;34m(\u001b[0m\u001b[0mtx_proj\u001b[0m\u001b[0;34m,\u001b[0m \u001b[0mim_proj\u001b[0m\u001b[0;34m,\u001b[0m \u001b[0mtemperature\u001b[0m\u001b[0;34m,\u001b[0m \u001b[0mgroup_size\u001b[0m\u001b[0;34m=\u001b[0m\u001b[0;36m5\u001b[0m\u001b[0;34m)\u001b[0m\u001b[0;34m\u001b[0m\u001b[0;34m\u001b[0m\u001b[0m\n\u001b[0m\u001b[1;32m     87\u001b[0m \u001b[0;34m\u001b[0m\u001b[0m\n\u001b[1;32m     88\u001b[0m         \u001b[0moptimizer\u001b[0m\u001b[0;34m.\u001b[0m\u001b[0mzero_grad\u001b[0m\u001b[0;34m(\u001b[0m\u001b[0;34m)\u001b[0m\u001b[0;34m\u001b[0m\u001b[0;34m\u001b[0m\u001b[0m\n",
      "\u001b[0;32m/tmp/ipython-input-4242194258.py\u001b[0m in \u001b[0;36mgroup_clip_loss\u001b[0;34m(tx_emb, im_emb, temperature, group_size)\u001b[0m\n\u001b[1;32m     53\u001b[0m \u001b[0;32mdef\u001b[0m \u001b[0mgroup_clip_loss\u001b[0m\u001b[0;34m(\u001b[0m\u001b[0mtx_emb\u001b[0m\u001b[0;34m,\u001b[0m \u001b[0mim_emb\u001b[0m\u001b[0;34m,\u001b[0m \u001b[0mtemperature\u001b[0m\u001b[0;34m=\u001b[0m\u001b[0;36m0.05\u001b[0m\u001b[0;34m,\u001b[0m \u001b[0mgroup_size\u001b[0m\u001b[0;34m=\u001b[0m\u001b[0;36m5\u001b[0m\u001b[0;34m)\u001b[0m\u001b[0;34m:\u001b[0m\u001b[0;34m\u001b[0m\u001b[0;34m\u001b[0m\u001b[0m\n\u001b[1;32m     54\u001b[0m     \u001b[0mB\u001b[0m \u001b[0;34m=\u001b[0m \u001b[0mtx_emb\u001b[0m\u001b[0;34m.\u001b[0m\u001b[0msize\u001b[0m\u001b[0;34m(\u001b[0m\u001b[0;36m0\u001b[0m\u001b[0;34m)\u001b[0m\u001b[0;34m\u001b[0m\u001b[0;34m\u001b[0m\u001b[0m\n\u001b[0;32m---> 55\u001b[0;31m     \u001b[0;32massert\u001b[0m \u001b[0mB\u001b[0m \u001b[0;34m%\u001b[0m \u001b[0mgroup_size\u001b[0m \u001b[0;34m==\u001b[0m \u001b[0;36m0\u001b[0m\u001b[0;34m,\u001b[0m \u001b[0;34m\"Batch must be multiple of group_size\"\u001b[0m\u001b[0;34m\u001b[0m\u001b[0;34m\u001b[0m\u001b[0m\n\u001b[0m\u001b[1;32m     56\u001b[0m     \u001b[0mnum_imgs\u001b[0m \u001b[0;34m=\u001b[0m \u001b[0mB\u001b[0m \u001b[0;34m//\u001b[0m \u001b[0mgroup_size\u001b[0m\u001b[0;34m\u001b[0m\u001b[0;34m\u001b[0m\u001b[0m\n\u001b[1;32m     57\u001b[0m \u001b[0;34m\u001b[0m\u001b[0m\n",
      "\u001b[0;31mAssertionError\u001b[0m: Batch must be multiple of group_size"
     ]
    }
   ],
   "source": [
    "# ======================================================\n",
    "#   EXPERIMENT 3 — Projection MLP + Bidirectional CLIP Loss\n",
    "# ======================================================\n",
    "import torch, torch.nn as nn, torch.nn.functional as F\n",
    "from tqdm import tqdm\n",
    "\n",
    "device = torch.device(\"cuda\" if torch.cuda.is_available() else \"cpu\")\n",
    "print(\"Using device:\", device)\n",
    "\n",
    "# Normalize and convert to torch tensors\n",
    "tx_train = torch.as_tensor(tx_train, dtype=torch.float32)\n",
    "im_train_expanded = torch.as_tensor(im_train_expanded, dtype=torch.float32)\n",
    "tx_train = F.normalize(tx_train, p=2, dim=1)\n",
    "im_train_expanded = F.normalize(im_train_expanded, p=2, dim=1)\n",
    "\n",
    "# Dataloader\n",
    "batch_size = 512\n",
    "train_ds = torch.utils.data.TensorDataset(tx_train, im_train_expanded)\n",
    "train_loader = torch.utils.data.DataLoader(train_ds, batch_size=batch_size, shuffle=True, drop_last=True)\n",
    "\n",
    "# ======================================================\n",
    "#   Projection network (non-linear aligner)\n",
    "# ======================================================\n",
    "class ProjectionMLP(nn.Module):\n",
    "    def __init__(self, in_dim, out_dim, hidden=1024):\n",
    "        super().__init__()\n",
    "        self.net = nn.Sequential(\n",
    "            nn.Linear(in_dim, hidden),\n",
    "            nn.ReLU(),\n",
    "            nn.Linear(hidden, out_dim)\n",
    "        )\n",
    "    def forward(self, x):\n",
    "        return self.net(x)\n",
    "\n",
    "model = ProjectionMLP(in_dim=tx_train.shape[1], out_dim=im_train_expanded.shape[1]).to(device)\n",
    "\n",
    "# ======================================================\n",
    "#   CLIP-style bidirectional contrastive loss\n",
    "# ======================================================\n",
    "def clip_loss(tx_emb, im_emb, temperature=0.05):\n",
    "    # cosine similarities scaled by temperature\n",
    "    logits_per_text  = tx_emb @ im_emb.T / temperature\n",
    "    logits_per_image = im_emb @ tx_emb.T / temperature\n",
    "    targets = torch.arange(tx_emb.size(0), device=tx_emb.device)\n",
    "    loss_t = F.cross_entropy(logits_per_text, targets)\n",
    "    loss_i = F.cross_entropy(logits_per_image, targets)\n",
    "    return (loss_t + loss_i) / 2\n",
    "\n",
    "\n",
    "# ======================================================\n",
    "#   Group-aware CLIP-style Loss  (5 captions per image)\n",
    "# ======================================================\n",
    "def group_clip_loss(tx_emb, im_emb, temperature=0.05, group_size=5):\n",
    "    B = tx_emb.size(0)\n",
    "    assert B % group_size == 0, \"Batch must be multiple of group_size\"\n",
    "    num_imgs = B // group_size\n",
    "\n",
    "    # average captions belonging to same image\n",
    "    im_grouped = im_emb[::group_size]                     # one per image\n",
    "    tx_grouped = tx_emb.view(num_imgs, group_size, -1).mean(1)\n",
    "\n",
    "    logits_text_to_img = tx_grouped @ im_grouped.T / temperature\n",
    "    logits_img_to_text = im_grouped @ tx_grouped.T / temperature\n",
    "    targets = torch.arange(num_imgs, device=tx_emb.device)\n",
    "\n",
    "    loss_t = F.cross_entropy(logits_text_to_img, targets)\n",
    "    loss_i = F.cross_entropy(logits_img_to_text, targets)\n",
    "    return (loss_t + loss_i) / 2\n",
    "\n",
    "\n",
    "\n",
    "# ======================================================\n",
    "#   Training\n",
    "# ======================================================\n",
    "optimizer = torch.optim.AdamW(model.parameters(), lr=3e-4)\n",
    "epochs = 30\n",
    "temperature = 0.05\n",
    "\n",
    "for epoch in range(epochs):\n",
    "    model.train()\n",
    "    total_loss = 0.0\n",
    "    for tx_batch, im_batch in tqdm(train_loader, desc=f\"Epoch {epoch+1}/{epochs}\"):\n",
    "        tx_batch, im_batch = tx_batch.to(device), im_batch.to(device)\n",
    "        tx_proj = F.normalize(model(tx_batch), p=2, dim=1)\n",
    "        im_proj = F.normalize(im_batch, p=2, dim=1)\n",
    "        loss = group_clip_loss(tx_proj, im_proj, temperature, group_size=5)\n",
    "\n",
    "        optimizer.zero_grad()\n",
    "        loss.backward()\n",
    "        nn.utils.clip_grad_norm_(model.parameters(), 1.0)\n",
    "        optimizer.step()\n",
    "        total_loss += loss.item()\n",
    "    print(f\"Epoch {epoch+1}/{epochs} | Avg Loss: {total_loss/len(train_loader):.4f}\")\n",
    "\n",
    "# ======================================================\n",
    "#   Evaluation — Text→Image Retrieval\n",
    "# ======================================================\n",
    "tx_test_t = torch.as_tensor(tx_test, dtype=torch.float32).to(device)\n",
    "tx_test_t = F.normalize(tx_test_t, p=2, dim=1)\n",
    "im_train_t = F.normalize(torch.as_tensor(im_train, dtype=torch.float32).to(device), p=2, dim=1)\n",
    "\n",
    "model.eval()\n",
    "with torch.no_grad():\n",
    "    tx_test_proj = F.normalize(model(tx_test_t), p=2, dim=1)\n",
    "    sims = tx_test_proj @ im_train_t.T  # (1500, 25000)\n",
    "\n",
    "def recall_at_k(sims, K=10):\n",
    "    topk = sims.topk(K, dim=1).indices\n",
    "    true_img_idx = torch.arange(sims.size(0), device=device) // 5\n",
    "    preds = topk // 5\n",
    "    correct = (preds == true_img_idx.unsqueeze(1)).any(dim=1).float()\n",
    "    return correct.mean().item()\n",
    "\n",
    "for K in [1, 5, 10, 50]:\n",
    "    print(f\"Recall@{K}: {recall_at_k(sims, K):.4f}\")\n"
   ]
  },
  {
   "cell_type": "code",
   "execution_count": null,
   "metadata": {
    "id": "D8VRM3cIuFuk"
   },
   "outputs": [],
   "source": [
    "\n",
    "# ======================================================\n",
    "#   Save submission.csv for Kaggle\n",
    "# ======================================================\n",
    "import pandas as pd, numpy as np\n",
    "top_indices = torch.argsort(sims, dim=1, descending=True).cpu().numpy()\n",
    "preds_str = [\" \".join(map(str, row)) for row in top_indices]\n",
    "df_sub = pd.DataFrame({\"Id\": np.arange(len(preds_str)), \"Predicted\": preds_str})\n",
    "df_sub.to_csv(\"submission.csv\", index=False)\n",
    "print(\"✅ Saved submission.csv\")\n"
   ]
  },
  {
   "cell_type": "markdown",
   "metadata": {
    "id": "AiRhVL0zz-ax"
   },
   "source": [
    "# Experiments based on paper ideas"
   ]
  },
  {
   "cell_type": "markdown",
   "metadata": {
    "id": "Be36tbGx0JY8"
   },
   "source": [
    "## EXPERIMENT 5A — Orthogonal Procrustes (Centroid Alignment)"
   ]
  },
  {
   "cell_type": "code",
   "execution_count": null,
   "metadata": {
    "colab": {
     "base_uri": "https://localhost:8080/"
    },
    "executionInfo": {
     "elapsed": 703,
     "status": "ok",
     "timestamp": 1761503934715,
     "user": {
      "displayName": "ghulam mujtaba",
      "userId": "00646622876627477130"
     },
     "user_tz": -60
    },
    "id": "aSr88ysl0NOa",
    "outputId": "10477abb-08db-430a-9da9-ce7d594152ac"
   },
   "outputs": [
    {
     "name": "stdout",
     "output_type": "stream",
     "text": [
      "Using device: cuda\n",
      "Procrustes Recall@1: 0.0000\n",
      "Procrustes Recall@5: 0.0007\n",
      "Procrustes Recall@10: 0.0020\n",
      "Procrustes Recall@50: 0.0093\n"
     ]
    }
   ],
   "source": [
    "import torch, torch.nn.functional as F\n",
    "device = torch.device('cuda' if torch.cuda.is_available() else 'cpu')\n",
    "print(\"Using device:\", device)\n",
    "\n",
    "# --- Build per-image text centroids (average of 5 captions) ---\n",
    "tx_train_t = torch.as_tensor(tx_train, dtype=torch.float32, device=device)\n",
    "im_train_t = torch.as_tensor(im_train, dtype=torch.float32, device=device)\n",
    "tx_centroids = tx_train_t.view(-1, 5, tx_train_t.shape[1]).mean(dim=1)   # (25000,1024)\n",
    "\n",
    "# Normalize both sides\n",
    "tx_c = F.normalize(tx_centroids, p=2, dim=1)\n",
    "im_c = F.normalize(im_train_t,  p=2, dim=1)\n",
    "\n",
    "# --- Orthogonal Procrustes: find rotation R (1536×1024) ---\n",
    "M = im_c.T @ tx_c                     # (1536×1024)\n",
    "U, S, Vh = torch.linalg.svd(M, full_matrices=False)\n",
    "R = U @ Vh                            # orthogonal map\n",
    "\n",
    "# --- Apply to test captions ---\n",
    "tx_test_t = torch.as_tensor(tx_test, dtype=torch.float32, device=device)\n",
    "tx_test_n = F.normalize(tx_test_t, p=2, dim=1)\n",
    "mapped = F.normalize(tx_test_n @ R.T, p=2, dim=1)     # (1500×1536)\n",
    "im_base = F.normalize(im_train_t, p=2, dim=1)\n",
    "\n",
    "# --- Retrieval ---\n",
    "sims = mapped @ im_base.T\n",
    "def recall_at_k(sims, K=10):\n",
    "    topk = sims.topk(K, dim=1).indices\n",
    "    true_idx = torch.arange(sims.size(0), device=device) // 5\n",
    "    preds = topk // 5\n",
    "    return (preds == true_idx.unsqueeze(1)).any(dim=1).float().mean().item()\n",
    "\n",
    "for K in [1,5,10,50]:\n",
    "    print(f\"Procrustes Recall@{K}: {recall_at_k(sims,K):.4f}\")"
   ]
  },
  {
   "cell_type": "markdown",
   "metadata": {
    "id": "pIjxSCPM1DTz"
   },
   "source": [
    "# EXPERIMENT 5B — Whitening–Coloring Transform (Affine Alignment)"
   ]
  },
  {
   "cell_type": "code",
   "execution_count": null,
   "metadata": {
    "colab": {
     "base_uri": "https://localhost:8080/"
    },
    "executionInfo": {
     "elapsed": 1017,
     "status": "ok",
     "timestamp": 1761504337834,
     "user": {
      "displayName": "ghulam mujtaba",
      "userId": "00646622876627477130"
     },
     "user_tz": -60
    },
    "id": "yCxizuhJ1thw",
    "outputId": "33414a68-3b2e-48a3-85e4-8906c3d5572f"
   },
   "outputs": [
    {
     "name": "stdout",
     "output_type": "stream",
     "text": [
      "Using device: cuda\n",
      "Rectangular-WCT Recall@1: 0.0007\n",
      "Rectangular-WCT Recall@5: 0.0027\n",
      "Rectangular-WCT Recall@10: 0.0040\n",
      "Rectangular-WCT Recall@50: 0.0153\n"
     ]
    }
   ],
   "source": [
    "# ======================================================\n",
    "#   EXPERIMENT 5B (fixed for unequal dims) — Rectangular WCT / CORAL\n",
    "# ======================================================\n",
    "import torch, torch.nn.functional as F\n",
    "device = torch.device('cuda' if torch.cuda.is_available() else 'cpu')\n",
    "print(\"Using device:\", device)\n",
    "\n",
    "tx_train_t = torch.as_tensor(tx_train, dtype=torch.float32, device=device)\n",
    "im_train_t = torch.as_tensor(im_train, dtype=torch.float32, device=device)\n",
    "\n",
    "# --- Build per-image text centroids ---\n",
    "tx_centroids = tx_train_t.view(-1, 5, tx_train_t.shape[1]).mean(dim=1)  # (25000,1024)\n",
    "\n",
    "# Center both spaces\n",
    "mu_tx = tx_centroids.mean(0, keepdim=True)\n",
    "mu_im = im_train_t.mean(0, keepdim=True)\n",
    "X = tx_centroids - mu_tx\n",
    "Y = im_train_t  - mu_im\n",
    "\n",
    "# --- Compute covariances ---\n",
    "eps = 1e-5\n",
    "Cx = (X.T @ X) / X.shape[0] + eps * torch.eye(X.shape[1], device=device)   # 1024×1024\n",
    "Cy = (Y.T @ Y) / Y.shape[0] + eps * torch.eye(Y.shape[1], device=device)   # 1536×1536\n",
    "\n",
    "# --- Compute sqrt inverses ---\n",
    "Ex, Lx, _ = torch.linalg.svd(Cx, full_matrices=False)\n",
    "Ey, Ly, _ = torch.linalg.svd(Cy, full_matrices=False)\n",
    "Cx_m12 = Ex @ torch.diag(1.0 / torch.sqrt(Lx)) @ Ex.T      # 1024×1024\n",
    "Cy_p12 = Ey @ torch.diag(torch.sqrt(Ly)) @ Ey.T            # 1536×1536\n",
    "\n",
    "# --- Compute cross-covariance (rectangular 1536×1024) ---\n",
    "Cxy = (Y.T @ X) / X.shape[0]\n",
    "\n",
    "# --- Build rectangular W: 1536×1024 ---\n",
    "W_wct = Cy_p12 @ Cxy @ Cx_m12\n",
    "b_wct = mu_im - mu_tx @ W_wct.T\n",
    "\n",
    "# --- Apply to test captions ---\n",
    "tx_test_t = torch.as_tensor(tx_test, dtype=torch.float32, device=device)\n",
    "mapped = F.normalize((tx_test_t - mu_tx) @ W_wct.T + b_wct, p=2, dim=1)\n",
    "im_base = F.normalize(im_train_t, p=2, dim=1)\n",
    "sims = mapped @ im_base.T\n",
    "\n",
    "def recall_at_k(sims, K=10):\n",
    "    topk = sims.topk(K, dim=1).indices\n",
    "    true_idx = torch.arange(sims.size(0), device=device) // 5\n",
    "    preds = topk // 5\n",
    "    return (preds == true_idx.unsqueeze(1)).any(dim=1).float().mean().item()\n",
    "\n",
    "for K in [1,5,10,50]:\n",
    "    print(f\"Rectangular-WCT Recall@{K}: {recall_at_k(sims,K):.4f}\")\n"
   ]
  },
  {
   "cell_type": "markdown",
   "metadata": {
    "id": "zx2TRM2h30Rr"
   },
   "source": [
    "#  EXPERIMENT 5B — Whitening–Coloring Transform (Affine)"
   ]
  },
  {
   "cell_type": "code",
   "execution_count": null,
   "metadata": {
    "colab": {
     "base_uri": "https://localhost:8080/"
    },
    "executionInfo": {
     "elapsed": 494,
     "status": "ok",
     "timestamp": 1761505002000,
     "user": {
      "displayName": "ghulam mujtaba",
      "userId": "00646622876627477130"
     },
     "user_tz": -60
    },
    "id": "JdxPKb9h32YR",
    "outputId": "6ae0f50d-6fc2-4407-fb89-b7870d07d200"
   },
   "outputs": [
    {
     "name": "stdout",
     "output_type": "stream",
     "text": [
      "Using device: cuda\n",
      "Rectangular-WCT Recall@1: 0.0000\n",
      "Rectangular-WCT Recall@5: 0.0020\n",
      "Rectangular-WCT Recall@10: 0.0033\n",
      "Rectangular-WCT Recall@50: 0.0093\n"
     ]
    }
   ],
   "source": [
    "# ======================================================\n",
    "#   EXPERIMENT 5B — Rectangular Whitening–Coloring Transform\n",
    "# ======================================================\n",
    "import torch, torch.nn.functional as F\n",
    "device = torch.device('cuda' if torch.cuda.is_available() else 'cpu')\n",
    "print(\"Using device:\", device)\n",
    "\n",
    "tx_train_t = torch.as_tensor(tx_train, dtype=torch.float32, device=device)\n",
    "im_train_t = torch.as_tensor(im_train, dtype=torch.float32, device=device)\n",
    "tx_test_t  = torch.as_tensor(tx_test,  dtype=torch.float32, device=device)\n",
    "\n",
    "# Average 5 captions per image\n",
    "tx_centroids = tx_train_t.view(-1,5,tx_train_t.shape[1]).mean(dim=1)\n",
    "\n",
    "# Center\n",
    "mu_tx = tx_centroids.mean(0, keepdim=True)\n",
    "mu_im = im_train_t.mean(0, keepdim=True)\n",
    "X = tx_centroids - mu_tx\n",
    "Y = im_train_t - mu_im\n",
    "\n",
    "# Compute rectangular cross-covariance\n",
    "M = Y.T @ X / X.shape[0]     # (1536×1024)\n",
    "\n",
    "# SVD decomposition of M\n",
    "U, S, Vh = torch.linalg.svd(M, full_matrices=False)\n",
    "\n",
    "# Optional scaling of singular values (acts like whitening/coloring)\n",
    "S_clipped = torch.clamp(S, min=1e-5)\n",
    "W = (U * S_clipped) @ Vh     # (1536×1024) mapping from text→image space\n",
    "b = mu_im - mu_tx @ W.T      # bias term\n",
    "\n",
    "# Apply to test set\n",
    "mapped = F.normalize((tx_test_t - mu_tx) @ W.T + b, p=2, dim=1)\n",
    "im_base = F.normalize(im_train_t, p=2, dim=1)\n",
    "sims = mapped @ im_base.T\n",
    "\n",
    "def recall_at_k(sims, K=10):\n",
    "    topk = sims.topk(K, dim=1).indices\n",
    "    true_idx = torch.arange(sims.size(0), device=device) // 5\n",
    "    preds = topk // 5\n",
    "    return (preds == true_idx.unsqueeze(1)).any(dim=1).float().mean().item()\n",
    "\n",
    "for K in [1,5,10,50]:\n",
    "    print(f\"Rectangular-WCT Recall@{K}: {recall_at_k(sims,K):.4f}\")\n"
   ]
  },
  {
   "cell_type": "markdown",
   "metadata": {
    "id": "m2OIVJEc4kHK"
   },
   "source": [
    "# EXPERIMENT 5C — Ridge Regression → Polar Projection"
   ]
  },
  {
   "cell_type": "code",
   "execution_count": null,
   "metadata": {
    "colab": {
     "base_uri": "https://localhost:8080/"
    },
    "executionInfo": {
     "elapsed": 587,
     "status": "ok",
     "timestamp": 1761505082456,
     "user": {
      "displayName": "ghulam mujtaba",
      "userId": "00646622876627477130"
     },
     "user_tz": -60
    },
    "id": "fB0d_Zet4kwf",
    "outputId": "2d692e6a-ecb7-45b9-b5a7-b5106faa6967"
   },
   "outputs": [
    {
     "name": "stdout",
     "output_type": "stream",
     "text": [
      "Using device: cuda\n",
      "Ridge→Polar Recall@1: 0.0000\n",
      "Ridge→Polar Recall@5: 0.0013\n",
      "Ridge→Polar Recall@10: 0.0027\n",
      "Ridge→Polar Recall@50: 0.0133\n"
     ]
    }
   ],
   "source": [
    "# ======================================================\n",
    "#   EXPERIMENT 5C — Ridge Regression → Polar Projection\n",
    "# ======================================================\n",
    "import torch, torch.nn.functional as F\n",
    "device = torch.device('cuda' if torch.cuda.is_available() else 'cpu')\n",
    "print(\"Using device:\", device)\n",
    "\n",
    "tx_train_t = torch.as_tensor(tx_train, dtype=torch.float32, device=device)\n",
    "im_train_t = torch.as_tensor(im_train, dtype=torch.float32, device=device)\n",
    "tx_test_t  = torch.as_tensor(tx_test,  dtype=torch.float32, device=device)\n",
    "\n",
    "# --- Build per-image text centroids ---\n",
    "tx_centroids = tx_train_t.view(-1, 5, tx_train_t.shape[1]).mean(dim=1)\n",
    "X = F.normalize(tx_centroids, p=2, dim=1)\n",
    "Y = F.normalize(im_train_t,  p=2, dim=1)\n",
    "\n",
    "# --- Ridge closed-form solution (1536×1024) ---\n",
    "lam = 1e-1\n",
    "A = (Y.T @ X) @ torch.linalg.inv(X.T @ X + lam * torch.eye(X.shape[1], device=device))\n",
    "\n",
    "# --- Project to nearest orthogonal via SVD ---\n",
    "U, _, Vh = torch.linalg.svd(A, full_matrices=False)\n",
    "W_polar = U @ Vh  # (1536×1024)\n",
    "\n",
    "# --- Apply to test set ---\n",
    "tx_test_n = F.normalize(tx_test_t, p=2, dim=1)\n",
    "mapped = F.normalize(tx_test_n @ W_polar.T, p=2, dim=1)\n",
    "im_base = F.normalize(im_train_t, p=2, dim=1)\n",
    "sims = mapped @ im_base.T\n",
    "\n",
    "def recall_at_k(sims, K=10):\n",
    "    topk = sims.topk(K, dim=1).indices\n",
    "    true_idx = torch.arange(sims.size(0), device=device) // 5\n",
    "    preds = topk // 5\n",
    "    return (preds == true_idx.unsqueeze(1)).any(dim=1).float().mean().item()\n",
    "\n",
    "for K in [1,5,10,50]:\n",
    "    print(f\"Ridge→Polar Recall@{K}: {recall_at_k(sims,K):.4f}\")\n"
   ]
  },
  {
   "cell_type": "markdown",
   "metadata": {
    "id": "beXdh9QD3ZVm"
   },
   "source": [
    "## EXPERIMENT 5D — Relative Representations (RR Anchors)"
   ]
  },
  {
   "cell_type": "code",
   "execution_count": null,
   "metadata": {
    "colab": {
     "base_uri": "https://localhost:8080/"
    },
    "executionInfo": {
     "elapsed": 389,
     "status": "ok",
     "timestamp": 1761504772055,
     "user": {
      "displayName": "ghulam mujtaba",
      "userId": "00646622876627477130"
     },
     "user_tz": -60
    },
    "id": "SbpeVIwO3atQ",
    "outputId": "8329da66-9d07-4d15-f592-18dfc3c2b746"
   },
   "outputs": [
    {
     "name": "stdout",
     "output_type": "stream",
     "text": [
      "Using device: cuda\n",
      "RR Recall@1: 0.0000\n",
      "RR Recall@5: 0.0000\n",
      "RR Recall@10: 0.0000\n",
      "RR Recall@50: 0.0107\n"
     ]
    }
   ],
   "source": [
    "# ======================================================\n",
    "#   EXPERIMENT 5D — Relative Representations (RR Anchors)\n",
    "# ======================================================\n",
    "import torch, torch.nn.functional as F\n",
    "device = torch.device('cuda' if torch.cuda.is_available() else 'cpu')\n",
    "print(\"Using device:\", device)\n",
    "\n",
    "# --- Prepare normalized embeddings ---\n",
    "tx_train_t = torch.as_tensor(tx_train, dtype=torch.float32, device=device)\n",
    "im_train_t = torch.as_tensor(im_train, dtype=torch.float32, device=device)\n",
    "tx_test_t  = torch.as_tensor(tx_test,  dtype=torch.float32, device=device)\n",
    "\n",
    "# Average 5 captions per image\n",
    "tx_centroids = tx_train_t.view(-1, 5, tx_train_t.shape[1]).mean(dim=1)\n",
    "\n",
    "# Normalize\n",
    "tx_c = F.normalize(tx_centroids, p=2, dim=1)\n",
    "im_c = F.normalize(im_train_t,  p=2, dim=1)\n",
    "tx_test_n = F.normalize(tx_test_t, p=2, dim=1)\n",
    "\n",
    "# --- Choose m anchors (images) ---\n",
    "m = 2000\n",
    "idx = torch.randperm(im_c.size(0), device=device)[:m]\n",
    "A_img = im_c[idx]        # (m,1536)\n",
    "A_txt = tx_c[idx]        # corresponding text anchors (m,1024)\n",
    "\n",
    "# --- Define RR projections ---\n",
    "def rr_image(Z):\n",
    "    Z = F.normalize(Z, p=2, dim=1)\n",
    "    return Z @ A_img.T     # (N, m)\n",
    "\n",
    "def rr_text(Z):\n",
    "    Z = F.normalize(Z, p=2, dim=1)\n",
    "    return Z @ A_txt.T     # (N, m)\n",
    "\n",
    "# RR representations\n",
    "RR_im_train = rr_image(im_c)\n",
    "RR_tx_test  = rr_text(tx_test_n)\n",
    "\n",
    "# Normalize and compare\n",
    "RR_im_train_n = F.normalize(RR_im_train, p=2, dim=1)\n",
    "RR_tx_test_n  = F.normalize(RR_tx_test,  p=2, dim=1)\n",
    "\n",
    "sims = RR_tx_test_n @ RR_im_train_n.T\n",
    "\n",
    "def recall_at_k(sims, K=10):\n",
    "    topk = sims.topk(K, dim=1).indices\n",
    "    true_idx = torch.arange(sims.size(0), device=device) // 5\n",
    "    preds = topk // 5\n",
    "    return (preds == true_idx.unsqueeze(1)).any(dim=1).float().mean().item()\n",
    "\n",
    "for K in [1,5,10,50]:\n",
    "    print(f\"RR Recall@{K}: {recall_at_k(sims,K):.4f}\")\n"
   ]
  },
  {
   "cell_type": "markdown",
   "metadata": {
    "id": "k1Y5uPyQ5GPg"
   },
   "source": [
    "#  EXPERIMENT 5E — Cycle-Consistent Two-Head Translator"
   ]
  },
  {
   "cell_type": "code",
   "execution_count": null,
   "metadata": {
    "colab": {
     "base_uri": "https://localhost:8080/"
    },
    "executionInfo": {
     "elapsed": 43568,
     "status": "ok",
     "timestamp": 1761507224582,
     "user": {
      "displayName": "ghulam mujtaba",
      "userId": "00646622876627477130"
     },
     "user_tz": -60
    },
    "id": "Ztu3qnQH5H-S",
    "outputId": "e74d8483-bb96-4848-f2c5-e6d00143581b"
   },
   "outputs": [
    {
     "name": "stdout",
     "output_type": "stream",
     "text": [
      "Using device: cuda\n",
      "Epoch 1/100 | Loss: 3.2586\n",
      "Epoch 2/100 | Loss: 2.6308\n",
      "Epoch 3/100 | Loss: 2.2705\n",
      "Epoch 4/100 | Loss: 2.0498\n",
      "Epoch 5/100 | Loss: 1.8912\n",
      "Epoch 6/100 | Loss: 1.7731\n",
      "Epoch 7/100 | Loss: 1.6175\n",
      "Epoch 8/100 | Loss: 1.5381\n",
      "Epoch 9/100 | Loss: 1.4557\n",
      "Epoch 10/100 | Loss: 1.3716\n",
      "Epoch 11/100 | Loss: 1.3191\n",
      "Epoch 12/100 | Loss: 1.2391\n",
      "Epoch 13/100 | Loss: 1.1889\n",
      "Epoch 14/100 | Loss: 1.1138\n",
      "Epoch 15/100 | Loss: 1.0827\n",
      "Epoch 16/100 | Loss: 1.0357\n",
      "Epoch 17/100 | Loss: 0.9929\n",
      "Epoch 18/100 | Loss: 0.9346\n",
      "Epoch 19/100 | Loss: 0.9381\n",
      "Epoch 20/100 | Loss: 0.8852\n",
      "Epoch 21/100 | Loss: 0.8610\n",
      "Epoch 22/100 | Loss: 0.8329\n",
      "Epoch 23/100 | Loss: 0.8036\n",
      "Epoch 24/100 | Loss: 0.7978\n",
      "Epoch 25/100 | Loss: 0.7424\n",
      "Epoch 26/100 | Loss: 0.7166\n",
      "Epoch 27/100 | Loss: 0.7359\n",
      "Epoch 28/100 | Loss: 0.6921\n",
      "Epoch 29/100 | Loss: 0.6817\n",
      "Epoch 30/100 | Loss: 0.6452\n",
      "Epoch 31/100 | Loss: 0.6452\n",
      "Epoch 32/100 | Loss: 0.6175\n",
      "Epoch 33/100 | Loss: 0.6136\n",
      "Epoch 34/100 | Loss: 0.5826\n",
      "Epoch 35/100 | Loss: 0.5767\n",
      "Epoch 36/100 | Loss: 0.5787\n",
      "Epoch 37/100 | Loss: 0.5630\n",
      "Epoch 38/100 | Loss: 0.5507\n",
      "Epoch 39/100 | Loss: 0.5349\n",
      "Epoch 40/100 | Loss: 0.5332\n",
      "Epoch 41/100 | Loss: 0.5098\n",
      "Epoch 42/100 | Loss: 0.5087\n",
      "Epoch 43/100 | Loss: 0.4932\n",
      "Epoch 44/100 | Loss: 0.4818\n",
      "Epoch 45/100 | Loss: 0.4782\n",
      "Epoch 46/100 | Loss: 0.4860\n",
      "Epoch 47/100 | Loss: 0.4667\n",
      "Epoch 48/100 | Loss: 0.4515\n",
      "Epoch 49/100 | Loss: 0.4474\n",
      "Epoch 50/100 | Loss: 0.4427\n"
     ]
    }
   ],
   "source": [
    "# ======================================================\n",
    "#   EXPERIMENT 5G — Cycle-Consistent Deep MLP Translator\n",
    "# ======================================================\n",
    "\n",
    "import torch, torch.nn as nn, torch.nn.functional as F\n",
    "from torch.utils.data import DataLoader\n",
    "\n",
    "device = torch.device('cuda' if torch.cuda.is_available() else 'cpu')\n",
    "print(\"Using device:\", device)\n",
    "\n",
    "# --- Prepare data ---\n",
    "tx_train_t = torch.as_tensor(tx_train, dtype=torch.float32, device=device)\n",
    "im_train_t = torch.as_tensor(im_train, dtype=torch.float32, device=device)\n",
    "tx_test_t  = torch.as_tensor(tx_test,  dtype=torch.float32, device=device)\n",
    "\n",
    "# --- Preprocessing Fixes: Normalize and Center ---\n",
    "tx_train_t = F.normalize(tx_train_t - tx_train_t.mean(0, keepdim=True), p=2, dim=1)\n",
    "im_train_t = F.normalize(im_train_t - im_train_t.mean(0, keepdim=True), p=2, dim=1)\n",
    "tx_test_t  = F.normalize(tx_test_t  - tx_train_t.mean(0, keepdim=True), p=2, dim=1)\n",
    "\n",
    "# Average 5 captions per image\n",
    "tx_centroids = tx_train_t.view(-1, 5, tx_train_t.shape[1]).mean(dim=1)\n",
    "tx_c = F.normalize(tx_centroids, p=2, dim=1)\n",
    "im_c = F.normalize(im_train_t,  p=2, dim=1)\n",
    "\n",
    "# --- Define deeper MLP translators ---\n",
    "f_ti = nn.Sequential(\n",
    "    nn.Linear(1024, 1024),\n",
    "    nn.LayerNorm(1024),\n",
    "    nn.GELU(),\n",
    "    nn.Dropout(0.1),\n",
    "    nn.Linear(1024, 1024),\n",
    "    nn.LayerNorm(1024),\n",
    "    nn.GELU(),\n",
    "    nn.Dropout(0.1),\n",
    "    nn.Linear(1024, 1536)\n",
    ").to(device)\n",
    "\n",
    "f_it = nn.Sequential(\n",
    "    nn.Linear(1536, 1024),\n",
    "    nn.LayerNorm(1024),\n",
    "    nn.GELU(),\n",
    "    nn.Dropout(0.1),\n",
    "    nn.Linear(1024, 1024),\n",
    "    nn.LayerNorm(1024),\n",
    "    nn.GELU(),\n",
    "    nn.Dropout(0.1),\n",
    "    nn.Linear(1024, 1024)\n",
    ").to(device)\n",
    "\n",
    "opt = torch.optim.AdamW(list(f_ti.parameters()) + list(f_it.parameters()), lr=3e-4)\n",
    "\n",
    "# --- Training data loader ---\n",
    "loader = DataLoader(\n",
    "    torch.utils.data.TensorDataset(tx_c, im_c),\n",
    "    batch_size=1024, shuffle=True, drop_last=True\n",
    ")\n",
    "\n",
    "tau = 0.07\n",
    "epoch = 50\n",
    "for ep in range(epoch):\n",
    "    for t_b, i_b in loader:\n",
    "        t_b, i_b = t_b.to(device), i_b.to(device)\n",
    "        t2i = F.normalize(f_ti(t_b), p=2, dim=1)\n",
    "        i2t = F.normalize(f_it(i_b), p=2, dim=1)\n",
    "\n",
    "        # CLIP-style symmetric contrastive loss\n",
    "        L_clip = (\n",
    "            F.cross_entropy((t2i @ i_b.T) / tau, torch.arange(t_b.size(0), device=device)) +\n",
    "            F.cross_entropy((i2t @ t_b.T) / tau, torch.arange(t_b.size(0), device=device))\n",
    "        ) / 2\n",
    "\n",
    "        # Cycle consistency (stability)\n",
    "        L_cyc = (\n",
    "            ((F.normalize(f_it(t2i), p=2, dim=1) - t_b)**2).mean() +\n",
    "            ((F.normalize(f_ti(i2t), p=2, dim=1) - i_b)**2).mean()\n",
    "        )\n",
    "\n",
    "        loss = L_clip + 0.1 * L_cyc\n",
    "        opt.zero_grad(); loss.backward(); opt.step()\n",
    "\n",
    "    print(f\"Epoch {ep+1}/{epoch} | Loss: {loss.item():.4f}\")"
   ]
  },
  {
   "cell_type": "code",
   "execution_count": null,
   "metadata": {
    "colab": {
     "base_uri": "https://localhost:8080/"
    },
    "executionInfo": {
     "elapsed": 704,
     "status": "ok",
     "timestamp": 1761507299895,
     "user": {
      "displayName": "ghulam mujtaba",
      "userId": "00646622876627477130"
     },
     "user_tz": -60
    },
    "id": "qU2rsKiM5Rlz",
    "outputId": "31846772-ad0b-4026-f68f-cd3e28546b9a"
   },
   "outputs": [
    {
     "name": "stdout",
     "output_type": "stream",
     "text": [
      "Fitted logit scale: 0.00015294417971745133\n",
      "\n",
      "Cycle + Temp Recall:\n",
      "Recall@1: 0.0000\n",
      "Recall@5: 0.0013\n",
      "Recall@10: 0.0013\n",
      "Recall@50: 0.0113\n"
     ]
    }
   ],
   "source": [
    "# ======================================================\n",
    "#   Final Evaluation with Logit Scale Tuning\n",
    "# ======================================================\n",
    "import torch, torch.nn.functional as F\n",
    "\n",
    "# --- Step 1: Normalize and map test captions ---\n",
    "tx_test_t = torch.as_tensor(tx_test, dtype=torch.float32, device=device)\n",
    "im_train_t = torch.as_tensor(im_train, dtype=torch.float32, device=device)\n",
    "\n",
    "tx_test_n = F.normalize(tx_test_t, p=2, dim=1)\n",
    "im_base = F.normalize(im_train_t, p=2, dim=1)\n",
    "\n",
    "with torch.no_grad():\n",
    "    mapped = F.normalize(f_ti(tx_test_n), p=2, dim=1)\n",
    "\n",
    "# --- Step 2: Define similarity matrix as a function of scale ---\n",
    "def compute_logits(logit_scale):\n",
    "    return (mapped @ im_base.T) * torch.exp(logit_scale)\n",
    "\n",
    "# --- Step 3: Optimize the logit scale (temperature) ---\n",
    "logit_scale = torch.nn.Parameter(torch.tensor(0.0, device=device))  # log(1.0)\n",
    "optimizer = torch.optim.LBFGS([logit_scale], max_iter=50)\n",
    "targets = torch.arange(mapped.size(0), device=device) // 5\n",
    "\n",
    "def closure():\n",
    "    optimizer.zero_grad()\n",
    "    logits = compute_logits(logit_scale)\n",
    "    loss = F.cross_entropy(logits, targets)\n",
    "    loss.backward()\n",
    "    return loss\n",
    "\n",
    "optimizer.step(closure)\n",
    "print(\"Fitted logit scale:\", float(torch.exp(logit_scale)))\n",
    "\n",
    "# --- Step 4: Compute scaled similarities ---\n",
    "sims = compute_logits(logit_scale)\n",
    "\n",
    "# --- Step 5: Recall@K ---\n",
    "def recall_at_k(sims, K=10):\n",
    "    topk = sims.topk(K, dim=1).indices\n",
    "    true_idx = torch.arange(sims.size(0), device=device) // 5\n",
    "    preds = topk // 5\n",
    "    return (preds == true_idx.unsqueeze(1)).any(dim=1).float().mean().item()\n",
    "\n",
    "print(\"\\nCycle + Temp Recall:\")\n",
    "for K in [1, 5, 10, 50]:\n",
    "    print(f\"Recall@{K}: {recall_at_k(sims, K):.4f}\")\n"
   ]
  },
  {
   "cell_type": "code",
   "execution_count": null,
   "metadata": {
    "id": "oOavpVqCBc4T"
   },
   "outputs": [],
   "source": [
    "# sims = final similarity matrix (e.g., from deep model or ensemble)\n",
    "topk = sims.topk(10, dim=1).indices.cpu().numpy()  # (1500, 10)\n",
    "image_ids = topk // 5                              # map back to image indices\n",
    "\n",
    "# Write to file\n",
    "import pandas as pd\n",
    "df = pd.DataFrame(image_ids, columns=[f\"rank_{i}\" for i in range(10)])\n",
    "df.to_csv(\"submission.csv\", index=False)\n",
    "print(\"✅ submission.csv generated.\")\n"
   ]
  },
  {
   "cell_type": "code",
   "execution_count": null,
   "metadata": {
    "colab": {
     "base_uri": "https://localhost:8080/"
    },
    "executionInfo": {
     "elapsed": 95,
     "status": "ok",
     "timestamp": 1761507429547,
     "user": {
      "displayName": "ghulam mujtaba",
      "userId": "00646622876627477130"
     },
     "user_tz": -60
    },
    "id": "H6GvX0W9BhTG",
    "outputId": "3b360c1f-06a2-4eb1-e0fd-cc23bc86e2fc"
   },
   "outputs": [
    {
     "name": "stdout",
     "output_type": "stream",
     "text": [
      "✅ submissionUpdated.csv generated.\n"
     ]
    }
   ],
   "source": [
    "# sims = final similarity matrix (e.g., from deep model or ensemble)\n",
    "topk = sims.topk(10, dim=1).indices.cpu().numpy()  # (1500, 10)\n",
    "image_ids = topk // 5                              # map back to image indices\n",
    "\n",
    "# Write to file\n",
    "import pandas as pd\n",
    "df = pd.DataFrame(image_ids, columns=[f\"rank_{i}\" for i in range(10)])\n",
    "df.to_csv(\"submissionUpdated.csv\", index=False)\n",
    "print(\"✅ submissionUpdated.csv generated.\")\n"
   ]
  },
  {
   "cell_type": "markdown",
   "metadata": {
    "id": "zMCo9Lv3Bn-k"
   },
   "source": [
    "# EXPERIMENT 5F — Preprocessing Fix + Procrustes & WCT"
   ]
  },
  {
   "cell_type": "code",
   "execution_count": null,
   "metadata": {
    "colab": {
     "base_uri": "https://localhost:8080/"
    },
    "executionInfo": {
     "elapsed": 684,
     "status": "ok",
     "timestamp": 1761506802657,
     "user": {
      "displayName": "ghulam mujtaba",
      "userId": "00646622876627477130"
     },
     "user_tz": -60
    },
    "id": "Yq09tqDS-ieV",
    "outputId": "8c337e58-fcd8-46c4-9de7-ed3ca8c3ceb3"
   },
   "outputs": [
    {
     "name": "stdout",
     "output_type": "stream",
     "text": [
      "Using device: cuda\n",
      "\n",
      "5F Results — After Proper Preprocessing\n",
      "Procrustes Recall:\n",
      "Recall@1: 0.0000\n",
      "Recall@5: 0.0007\n",
      "Recall@10: 0.0013\n",
      "Recall@50: 0.0113\n",
      "\n",
      "Rectangular WCT Recall:\n",
      "Recall@1: 0.0000\n",
      "Recall@5: 0.0000\n",
      "Recall@10: 0.0000\n",
      "Recall@50: 0.0053\n"
     ]
    }
   ],
   "source": [
    "# ======================================================\n",
    "#   EXPERIMENT 5F — Preprocessing Fix + Procrustes & WCT\n",
    "# ======================================================\n",
    "\n",
    "import torch\n",
    "import torch.nn.functional as F\n",
    "\n",
    "device = torch.device(\"cuda\" if torch.cuda.is_available() else \"cpu\")\n",
    "print(\"Using device:\", device)\n",
    "\n",
    "# --- Load and preprocess embeddings ---\n",
    "tx_train_t = torch.as_tensor(tx_train, dtype=torch.float32, device=device)\n",
    "im_train_t = torch.as_tensor(im_train, dtype=torch.float32, device=device)\n",
    "tx_test_t  = torch.as_tensor(tx_test,  dtype=torch.float32, device=device)\n",
    "\n",
    "# --- Preprocessing Fixes: Normalize and Center ---\n",
    "tx_train_t = F.normalize(tx_train_t - tx_train_t.mean(0, keepdim=True), p=2, dim=1)\n",
    "im_train_t = F.normalize(im_train_t - im_train_t.mean(0, keepdim=True), p=2, dim=1)\n",
    "tx_test_t  = F.normalize(tx_test_t  - tx_train_t.mean(0, keepdim=True), p=2, dim=1)\n",
    "\n",
    "# --- Build per-image centroids (average 5 captions per image) ---\n",
    "tx_centroids = tx_train_t.view(-1, 5, tx_train_t.shape[1]).mean(dim=1)\n",
    "\n",
    "# --- Procrustes Alignment ---\n",
    "M = im_train_t.T @ tx_centroids\n",
    "U, S, Vh = torch.linalg.svd(M, full_matrices=False)\n",
    "R = U @ Vh  # (1536 x 1024)\n",
    "\n",
    "mapped_proc = F.normalize(tx_test_t @ R.T, p=2, dim=1)\n",
    "sims_proc = mapped_proc @ im_train_t.T\n",
    "\n",
    "# --- Rectangular WCT Alignment ---\n",
    "mu_tx = tx_centroids.mean(0, keepdim=True)\n",
    "mu_im = im_train_t.mean(0, keepdim=True)\n",
    "X = tx_centroids - mu_tx\n",
    "Y = im_train_t - mu_im\n",
    "\n",
    "M = Y.T @ X / X.shape[0]\n",
    "U, S, Vh = torch.linalg.svd(M, full_matrices=False)\n",
    "S_clipped = torch.clamp(S, min=1e-5)\n",
    "W = (U * S_clipped) @ Vh\n",
    "b = mu_im - mu_tx @ W.T\n",
    "\n",
    "mapped_wct = F.normalize((tx_test_t - mu_tx) @ W.T + b, p=2, dim=1)\n",
    "sims_wct = mapped_wct @ im_train_t.T\n",
    "\n",
    "# --- Recall@K Function ---\n",
    "def recall_at_k(sims, K=10):\n",
    "    topk = sims.topk(K, dim=1).indices\n",
    "    true_idx = torch.arange(sims.size(0), device=device) // 5\n",
    "    preds = topk // 5\n",
    "    return (preds == true_idx.unsqueeze(1)).any(dim=1).float().mean().item()\n",
    "\n",
    "# --- Report Results ---\n",
    "print(\"\\n5F Results — After Proper Preprocessing\")\n",
    "print(\"Procrustes Recall:\")\n",
    "for K in [1, 5, 10, 50]:\n",
    "    print(f\"Recall@{K}: {recall_at_k(sims_proc, K):.4f}\")\n",
    "\n",
    "print(\"\\nRectangular WCT Recall:\")\n",
    "for K in [1, 5, 10, 50]:\n",
    "    print(f\"Recall@{K}: {recall_at_k(sims_wct, K):.4f}\")"
   ]
  },
  {
   "cell_type": "code",
   "execution_count": null,
   "metadata": {
    "colab": {
     "base_uri": "https://localhost:8080/",
     "height": 161
    },
    "executionInfo": {
     "elapsed": 4955,
     "status": "ok",
     "timestamp": 1761508128923,
     "user": {
      "displayName": "ghulam mujtaba",
      "userId": "00646622876627477130"
     },
     "user_tz": -60
    },
    "id": "pJ4Mrd7lCG_Y",
    "outputId": "9f53691a-a44a-4fd1-e9ac-a2cf8b792622"
   },
   "outputs": [
    {
     "name": "stdout",
     "output_type": "stream",
     "text": [
      "✅ submissionFinal.csv saved — with plain list format, no quotes.\n"
     ]
    },
    {
     "data": {
      "application/vnd.google.colaboratory.intrinsic+json": {
       "summary": "{\n  \"name\": \"submission\",\n  \"rows\": 1500,\n  \"fields\": [\n    {\n      \"column\": \"id\",\n      \"properties\": {\n        \"dtype\": \"number\",\n        \"std\": 433,\n        \"min\": 1,\n        \"max\": 1500,\n        \"num_unique_values\": 1500,\n        \"samples\": [\n          1117,\n          1369,\n          423\n        ],\n        \"semantic_type\": \"\",\n        \"description\": \"\"\n      }\n    },\n    {\n      \"column\": \"embedding\",\n      \"properties\": {\n        \"dtype\": \"object\",\n        \"semantic_type\": \"\",\n        \"description\": \"\"\n      }\n    }\n  ]\n}",
       "type": "dataframe",
       "variable_name": "submission"
      },
      "text/html": [
       "\n",
       "  <div id=\"df-f48ad0be-3ae0-4114-8cff-799636e71d16\" class=\"colab-df-container\">\n",
       "    <div>\n",
       "<style scoped>\n",
       "    .dataframe tbody tr th:only-of-type {\n",
       "        vertical-align: middle;\n",
       "    }\n",
       "\n",
       "    .dataframe tbody tr th {\n",
       "        vertical-align: top;\n",
       "    }\n",
       "\n",
       "    .dataframe thead th {\n",
       "        text-align: right;\n",
       "    }\n",
       "</style>\n",
       "<table border=\"1\" class=\"dataframe\">\n",
       "  <thead>\n",
       "    <tr style=\"text-align: right;\">\n",
       "      <th></th>\n",
       "      <th>id</th>\n",
       "      <th>embedding</th>\n",
       "    </tr>\n",
       "  </thead>\n",
       "  <tbody>\n",
       "    <tr>\n",
       "      <th>0</th>\n",
       "      <td>1</td>\n",
       "      <td>[0.10622628033161163, 0.23988360166549683, 0.2...</td>\n",
       "    </tr>\n",
       "    <tr>\n",
       "      <th>1</th>\n",
       "      <td>2</td>\n",
       "      <td>[-0.4222858250141144, -0.37915998697280884, -0...</td>\n",
       "    </tr>\n",
       "    <tr>\n",
       "      <th>2</th>\n",
       "      <td>3</td>\n",
       "      <td>[0.09091868996620178, -0.5292689204216003, 0.1...</td>\n",
       "    </tr>\n",
       "  </tbody>\n",
       "</table>\n",
       "</div>\n",
       "    <div class=\"colab-df-buttons\">\n",
       "\n",
       "  <div class=\"colab-df-container\">\n",
       "    <button class=\"colab-df-convert\" onclick=\"convertToInteractive('df-f48ad0be-3ae0-4114-8cff-799636e71d16')\"\n",
       "            title=\"Convert this dataframe to an interactive table.\"\n",
       "            style=\"display:none;\">\n",
       "\n",
       "  <svg xmlns=\"http://www.w3.org/2000/svg\" height=\"24px\" viewBox=\"0 -960 960 960\">\n",
       "    <path d=\"M120-120v-720h720v720H120Zm60-500h600v-160H180v160Zm220 220h160v-160H400v160Zm0 220h160v-160H400v160ZM180-400h160v-160H180v160Zm440 0h160v-160H620v160ZM180-180h160v-160H180v160Zm440 0h160v-160H620v160Z\"/>\n",
       "  </svg>\n",
       "    </button>\n",
       "\n",
       "  <style>\n",
       "    .colab-df-container {\n",
       "      display:flex;\n",
       "      gap: 12px;\n",
       "    }\n",
       "\n",
       "    .colab-df-convert {\n",
       "      background-color: #E8F0FE;\n",
       "      border: none;\n",
       "      border-radius: 50%;\n",
       "      cursor: pointer;\n",
       "      display: none;\n",
       "      fill: #1967D2;\n",
       "      height: 32px;\n",
       "      padding: 0 0 0 0;\n",
       "      width: 32px;\n",
       "    }\n",
       "\n",
       "    .colab-df-convert:hover {\n",
       "      background-color: #E2EBFA;\n",
       "      box-shadow: 0px 1px 2px rgba(60, 64, 67, 0.3), 0px 1px 3px 1px rgba(60, 64, 67, 0.15);\n",
       "      fill: #174EA6;\n",
       "    }\n",
       "\n",
       "    .colab-df-buttons div {\n",
       "      margin-bottom: 4px;\n",
       "    }\n",
       "\n",
       "    [theme=dark] .colab-df-convert {\n",
       "      background-color: #3B4455;\n",
       "      fill: #D2E3FC;\n",
       "    }\n",
       "\n",
       "    [theme=dark] .colab-df-convert:hover {\n",
       "      background-color: #434B5C;\n",
       "      box-shadow: 0px 1px 3px 1px rgba(0, 0, 0, 0.15);\n",
       "      filter: drop-shadow(0px 1px 2px rgba(0, 0, 0, 0.3));\n",
       "      fill: #FFFFFF;\n",
       "    }\n",
       "  </style>\n",
       "\n",
       "    <script>\n",
       "      const buttonEl =\n",
       "        document.querySelector('#df-f48ad0be-3ae0-4114-8cff-799636e71d16 button.colab-df-convert');\n",
       "      buttonEl.style.display =\n",
       "        google.colab.kernel.accessAllowed ? 'block' : 'none';\n",
       "\n",
       "      async function convertToInteractive(key) {\n",
       "        const element = document.querySelector('#df-f48ad0be-3ae0-4114-8cff-799636e71d16');\n",
       "        const dataTable =\n",
       "          await google.colab.kernel.invokeFunction('convertToInteractive',\n",
       "                                                    [key], {});\n",
       "        if (!dataTable) return;\n",
       "\n",
       "        const docLinkHtml = 'Like what you see? Visit the ' +\n",
       "          '<a target=\"_blank\" href=https://colab.research.google.com/notebooks/data_table.ipynb>data table notebook</a>'\n",
       "          + ' to learn more about interactive tables.';\n",
       "        element.innerHTML = '';\n",
       "        dataTable['output_type'] = 'display_data';\n",
       "        await google.colab.output.renderOutput(dataTable, element);\n",
       "        const docLink = document.createElement('div');\n",
       "        docLink.innerHTML = docLinkHtml;\n",
       "        element.appendChild(docLink);\n",
       "      }\n",
       "    </script>\n",
       "  </div>\n",
       "\n",
       "\n",
       "    <div id=\"df-1a41b320-637a-4d27-acc5-b45cb9e8b4b0\">\n",
       "      <button class=\"colab-df-quickchart\" onclick=\"quickchart('df-1a41b320-637a-4d27-acc5-b45cb9e8b4b0')\"\n",
       "                title=\"Suggest charts\"\n",
       "                style=\"display:none;\">\n",
       "\n",
       "<svg xmlns=\"http://www.w3.org/2000/svg\" height=\"24px\"viewBox=\"0 0 24 24\"\n",
       "     width=\"24px\">\n",
       "    <g>\n",
       "        <path d=\"M19 3H5c-1.1 0-2 .9-2 2v14c0 1.1.9 2 2 2h14c1.1 0 2-.9 2-2V5c0-1.1-.9-2-2-2zM9 17H7v-7h2v7zm4 0h-2V7h2v10zm4 0h-2v-4h2v4z\"/>\n",
       "    </g>\n",
       "</svg>\n",
       "      </button>\n",
       "\n",
       "<style>\n",
       "  .colab-df-quickchart {\n",
       "      --bg-color: #E8F0FE;\n",
       "      --fill-color: #1967D2;\n",
       "      --hover-bg-color: #E2EBFA;\n",
       "      --hover-fill-color: #174EA6;\n",
       "      --disabled-fill-color: #AAA;\n",
       "      --disabled-bg-color: #DDD;\n",
       "  }\n",
       "\n",
       "  [theme=dark] .colab-df-quickchart {\n",
       "      --bg-color: #3B4455;\n",
       "      --fill-color: #D2E3FC;\n",
       "      --hover-bg-color: #434B5C;\n",
       "      --hover-fill-color: #FFFFFF;\n",
       "      --disabled-bg-color: #3B4455;\n",
       "      --disabled-fill-color: #666;\n",
       "  }\n",
       "\n",
       "  .colab-df-quickchart {\n",
       "    background-color: var(--bg-color);\n",
       "    border: none;\n",
       "    border-radius: 50%;\n",
       "    cursor: pointer;\n",
       "    display: none;\n",
       "    fill: var(--fill-color);\n",
       "    height: 32px;\n",
       "    padding: 0;\n",
       "    width: 32px;\n",
       "  }\n",
       "\n",
       "  .colab-df-quickchart:hover {\n",
       "    background-color: var(--hover-bg-color);\n",
       "    box-shadow: 0 1px 2px rgba(60, 64, 67, 0.3), 0 1px 3px 1px rgba(60, 64, 67, 0.15);\n",
       "    fill: var(--button-hover-fill-color);\n",
       "  }\n",
       "\n",
       "  .colab-df-quickchart-complete:disabled,\n",
       "  .colab-df-quickchart-complete:disabled:hover {\n",
       "    background-color: var(--disabled-bg-color);\n",
       "    fill: var(--disabled-fill-color);\n",
       "    box-shadow: none;\n",
       "  }\n",
       "\n",
       "  .colab-df-spinner {\n",
       "    border: 2px solid var(--fill-color);\n",
       "    border-color: transparent;\n",
       "    border-bottom-color: var(--fill-color);\n",
       "    animation:\n",
       "      spin 1s steps(1) infinite;\n",
       "  }\n",
       "\n",
       "  @keyframes spin {\n",
       "    0% {\n",
       "      border-color: transparent;\n",
       "      border-bottom-color: var(--fill-color);\n",
       "      border-left-color: var(--fill-color);\n",
       "    }\n",
       "    20% {\n",
       "      border-color: transparent;\n",
       "      border-left-color: var(--fill-color);\n",
       "      border-top-color: var(--fill-color);\n",
       "    }\n",
       "    30% {\n",
       "      border-color: transparent;\n",
       "      border-left-color: var(--fill-color);\n",
       "      border-top-color: var(--fill-color);\n",
       "      border-right-color: var(--fill-color);\n",
       "    }\n",
       "    40% {\n",
       "      border-color: transparent;\n",
       "      border-right-color: var(--fill-color);\n",
       "      border-top-color: var(--fill-color);\n",
       "    }\n",
       "    60% {\n",
       "      border-color: transparent;\n",
       "      border-right-color: var(--fill-color);\n",
       "    }\n",
       "    80% {\n",
       "      border-color: transparent;\n",
       "      border-right-color: var(--fill-color);\n",
       "      border-bottom-color: var(--fill-color);\n",
       "    }\n",
       "    90% {\n",
       "      border-color: transparent;\n",
       "      border-bottom-color: var(--fill-color);\n",
       "    }\n",
       "  }\n",
       "</style>\n",
       "\n",
       "      <script>\n",
       "        async function quickchart(key) {\n",
       "          const quickchartButtonEl =\n",
       "            document.querySelector('#' + key + ' button');\n",
       "          quickchartButtonEl.disabled = true;  // To prevent multiple clicks.\n",
       "          quickchartButtonEl.classList.add('colab-df-spinner');\n",
       "          try {\n",
       "            const charts = await google.colab.kernel.invokeFunction(\n",
       "                'suggestCharts', [key], {});\n",
       "          } catch (error) {\n",
       "            console.error('Error during call to suggestCharts:', error);\n",
       "          }\n",
       "          quickchartButtonEl.classList.remove('colab-df-spinner');\n",
       "          quickchartButtonEl.classList.add('colab-df-quickchart-complete');\n",
       "        }\n",
       "        (() => {\n",
       "          let quickchartButtonEl =\n",
       "            document.querySelector('#df-1a41b320-637a-4d27-acc5-b45cb9e8b4b0 button');\n",
       "          quickchartButtonEl.style.display =\n",
       "            google.colab.kernel.accessAllowed ? 'block' : 'none';\n",
       "        })();\n",
       "      </script>\n",
       "    </div>\n",
       "\n",
       "    </div>\n",
       "  </div>\n"
      ],
      "text/plain": [
       "   id                                          embedding\n",
       "0   1  [0.10622628033161163, 0.23988360166549683, 0.2...\n",
       "1   2  [-0.4222858250141144, -0.37915998697280884, -0...\n",
       "2   3  [0.09091868996620178, -0.5292689204216003, 0.1..."
      ]
     },
     "execution_count": 58,
     "metadata": {},
     "output_type": "execute_result"
    }
   ],
   "source": [
    "import pandas as pd\n",
    "import numpy as np\n",
    "\n",
    "# 1. Translate test embeddings\n",
    "tx_test_n = F.normalize(tx_test_t, p=2, dim=1)\n",
    "with torch.no_grad():\n",
    "    preds = f_ti(tx_test_n).cpu().numpy()  # shape: (1500, 1536)\n",
    "\n",
    "# 2. Load actual test IDs\n",
    "test_ids = test_data[\"captions/ids\"]  # shape (1500,)\n",
    "\n",
    "# 3. Ensure shape alignment\n",
    "assert preds.shape[0] == len(test_ids), \"Mismatch between predictions and test IDs\"\n",
    "\n",
    "# 4. Build submission DataFrame\n",
    "submission = pd.DataFrame({\n",
    "    \"id\": test_ids.astype(int),\n",
    "    \"embedding\": [list(map(float, row)) for row in preds]  # plain Python-style list\n",
    "})\n",
    "\n",
    "# 5. Save CSV — no quotes around list\n",
    "submission.to_csv(\"submissionFinal.csv\", index=False)\n",
    "\n",
    "print(\"✅ submissionFinal.csv saved — with plain list format, no quotes.\")\n",
    "submission.head(3)\n"
   ]
  }
 ],
 "metadata": {
  "accelerator": "GPU",
  "colab": {
   "authorship_tag": "ABX9TyPr9NlzS2h55RZaznYJTWVl",
   "gpuType": "T4",
   "provenance": []
  },
  "kernelspec": {
   "display_name": "Python 3",
   "name": "python3"
  },
  "language_info": {
   "name": "python"
  }
 },
 "nbformat": 4,
 "nbformat_minor": 0
}
